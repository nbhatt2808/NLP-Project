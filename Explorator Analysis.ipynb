{
 "cells": [
  {
   "cell_type": "code",
   "execution_count": 1,
   "metadata": {
    "colab": {},
    "colab_type": "code",
    "executionInfo": {
     "elapsed": 3561,
     "status": "ok",
     "timestamp": 1592579591702,
     "user": {
      "displayName": "Neeraj Bhatt",
      "photoUrl": "https://lh3.googleusercontent.com/a-/AOh14GgvLkLc0FmAfOXVqljT8w63U3RQY_xjEKNntq8Tjw=s64",
      "userId": "15251664655559213824"
     },
     "user_tz": 240
    },
    "id": "8QyEesV7SkjJ"
   },
   "outputs": [],
   "source": [
    "import pandas as pd\n",
    "df_all = pd.read_csv('spi_all.csv')"
   ]
  },
  {
   "cell_type": "code",
   "execution_count": 2,
   "metadata": {
    "colab": {
     "base_uri": "https://localhost:8080/",
     "height": 35
    },
    "colab_type": "code",
    "executionInfo": {
     "elapsed": 503,
     "status": "ok",
     "timestamp": 1592579618261,
     "user": {
      "displayName": "Neeraj Bhatt",
      "photoUrl": "https://lh3.googleusercontent.com/a-/AOh14GgvLkLc0FmAfOXVqljT8w63U3RQY_xjEKNntq8Tjw=s64",
      "userId": "15251664655559213824"
     },
     "user_tz": 240
    },
    "id": "dDDQ8xUaWBBL",
    "outputId": "643155c6-dd97-4986-aea6-47036b3b9862"
   },
   "outputs": [
    {
     "data": {
      "text/plain": [
       "(903607, 7)"
      ]
     },
     "execution_count": 2,
     "metadata": {},
     "output_type": "execute_result"
    }
   ],
   "source": [
    "df_all.shape"
   ]
  },
  {
   "cell_type": "code",
   "execution_count": 3,
   "metadata": {
    "colab": {
     "base_uri": "https://localhost:8080/",
     "height": 202
    },
    "colab_type": "code",
    "executionInfo": {
     "elapsed": 529,
     "status": "ok",
     "timestamp": 1592579619336,
     "user": {
      "displayName": "Neeraj Bhatt",
      "photoUrl": "https://lh3.googleusercontent.com/a-/AOh14GgvLkLc0FmAfOXVqljT8w63U3RQY_xjEKNntq8Tjw=s64",
      "userId": "15251664655559213824"
     },
     "user_tz": 240
    },
    "id": "DwUv9okEWC6q",
    "outputId": "1165e8f8-51be-462b-bf8b-2706cabf49f2"
   },
   "outputs": [
    {
     "data": {
      "text/html": [
       "<div>\n",
       "<style scoped>\n",
       "    .dataframe tbody tr th:only-of-type {\n",
       "        vertical-align: middle;\n",
       "    }\n",
       "\n",
       "    .dataframe tbody tr th {\n",
       "        vertical-align: top;\n",
       "    }\n",
       "\n",
       "    .dataframe thead th {\n",
       "        text-align: right;\n",
       "    }\n",
       "</style>\n",
       "<table border=\"1\" class=\"dataframe\">\n",
       "  <thead>\n",
       "    <tr style=\"text-align: right;\">\n",
       "      <th></th>\n",
       "      <th>conversation_id</th>\n",
       "      <th>message_line</th>\n",
       "      <th>author</th>\n",
       "      <th>time</th>\n",
       "      <th>chat_message</th>\n",
       "      <th>author_id</th>\n",
       "      <th>sexual_predator</th>\n",
       "    </tr>\n",
       "  </thead>\n",
       "  <tbody>\n",
       "    <tr>\n",
       "      <th>0</th>\n",
       "      <td>e621da5de598c9321a1d505ea95e6a2d</td>\n",
       "      <td>1</td>\n",
       "      <td>97964e7a9e8eb9cf78f2e4d7b2ff34c7</td>\n",
       "      <td>03:20</td>\n",
       "      <td>Hola.</td>\n",
       "      <td>0</td>\n",
       "      <td>0</td>\n",
       "    </tr>\n",
       "    <tr>\n",
       "      <th>1</th>\n",
       "      <td>e621da5de598c9321a1d505ea95e6a2d</td>\n",
       "      <td>2</td>\n",
       "      <td>0158d0d6781fc4d493f243d4caa49747</td>\n",
       "      <td>03:20</td>\n",
       "      <td>hi.</td>\n",
       "      <td>0</td>\n",
       "      <td>0</td>\n",
       "    </tr>\n",
       "    <tr>\n",
       "      <th>2</th>\n",
       "      <td>e621da5de598c9321a1d505ea95e6a2d</td>\n",
       "      <td>3</td>\n",
       "      <td>0158d0d6781fc4d493f243d4caa49747</td>\n",
       "      <td>03:20</td>\n",
       "      <td>whats up?</td>\n",
       "      <td>0</td>\n",
       "      <td>0</td>\n",
       "    </tr>\n",
       "    <tr>\n",
       "      <th>3</th>\n",
       "      <td>e621da5de598c9321a1d505ea95e6a2d</td>\n",
       "      <td>4</td>\n",
       "      <td>97964e7a9e8eb9cf78f2e4d7b2ff34c7</td>\n",
       "      <td>03:20</td>\n",
       "      <td>not a ton.</td>\n",
       "      <td>0</td>\n",
       "      <td>0</td>\n",
       "    </tr>\n",
       "    <tr>\n",
       "      <th>4</th>\n",
       "      <td>e621da5de598c9321a1d505ea95e6a2d</td>\n",
       "      <td>5</td>\n",
       "      <td>97964e7a9e8eb9cf78f2e4d7b2ff34c7</td>\n",
       "      <td>03:20</td>\n",
       "      <td>you?</td>\n",
       "      <td>0</td>\n",
       "      <td>0</td>\n",
       "    </tr>\n",
       "  </tbody>\n",
       "</table>\n",
       "</div>"
      ],
      "text/plain": [
       "                    conversation_id  message_line  \\\n",
       "0  e621da5de598c9321a1d505ea95e6a2d             1   \n",
       "1  e621da5de598c9321a1d505ea95e6a2d             2   \n",
       "2  e621da5de598c9321a1d505ea95e6a2d             3   \n",
       "3  e621da5de598c9321a1d505ea95e6a2d             4   \n",
       "4  e621da5de598c9321a1d505ea95e6a2d             5   \n",
       "\n",
       "                             author   time chat_message author_id  \\\n",
       "0  97964e7a9e8eb9cf78f2e4d7b2ff34c7  03:20        Hola.         0   \n",
       "1  0158d0d6781fc4d493f243d4caa49747  03:20          hi.         0   \n",
       "2  0158d0d6781fc4d493f243d4caa49747  03:20    whats up?         0   \n",
       "3  97964e7a9e8eb9cf78f2e4d7b2ff34c7  03:20   not a ton.         0   \n",
       "4  97964e7a9e8eb9cf78f2e4d7b2ff34c7  03:20         you?         0   \n",
       "\n",
       "   sexual_predator  \n",
       "0                0  \n",
       "1                0  \n",
       "2                0  \n",
       "3                0  \n",
       "4                0  "
      ]
     },
     "execution_count": 3,
     "metadata": {},
     "output_type": "execute_result"
    }
   ],
   "source": [
    "df_all.head()"
   ]
  },
  {
   "cell_type": "code",
   "execution_count": 4,
   "metadata": {
    "colab": {
     "base_uri": "https://localhost:8080/",
     "height": 35
    },
    "colab_type": "code",
    "executionInfo": {
     "elapsed": 733,
     "status": "ok",
     "timestamp": 1592579660942,
     "user": {
      "displayName": "Neeraj Bhatt",
      "photoUrl": "https://lh3.googleusercontent.com/a-/AOh14GgvLkLc0FmAfOXVqljT8w63U3RQY_xjEKNntq8Tjw=s64",
      "userId": "15251664655559213824"
     },
     "user_tz": 240
    },
    "id": "jRTL6J2ztmBE",
    "outputId": "040c6371-0438-40bb-e7bb-7182bf54bb09"
   },
   "outputs": [
    {
     "data": {
      "text/plain": [
       "'There are 142 sexual predators'"
      ]
     },
     "execution_count": 4,
     "metadata": {},
     "output_type": "execute_result"
    }
   ],
   "source": [
    "sp = df_all[df_all['sexual_predator'] == 1]\n",
    "f\"There are {sp['author'].nunique()} sexual predators\""
   ]
  },
  {
   "cell_type": "code",
   "execution_count": 5,
   "metadata": {
    "colab": {
     "base_uri": "https://localhost:8080/",
     "height": 35
    },
    "colab_type": "code",
    "executionInfo": {
     "elapsed": 340,
     "status": "ok",
     "timestamp": 1592579662065,
     "user": {
      "displayName": "Neeraj Bhatt",
      "photoUrl": "https://lh3.googleusercontent.com/a-/AOh14GgvLkLc0FmAfOXVqljT8w63U3RQY_xjEKNntq8Tjw=s64",
      "userId": "15251664655559213824"
     },
     "user_tz": 240
    },
    "id": "4PemCSKkvPNO",
    "outputId": "0f2a3d97-f64f-40aa-944b-9a8b3ae5e8e2"
   },
   "outputs": [
    {
     "data": {
      "text/plain": [
       "'There are a total of 66927 conversations'"
      ]
     },
     "execution_count": 5,
     "metadata": {},
     "output_type": "execute_result"
    }
   ],
   "source": [
    "f\"There are a total of {df_all['conversation_id'].nunique()} conversations\""
   ]
  },
  {
   "cell_type": "code",
   "execution_count": 6,
   "metadata": {
    "colab": {
     "base_uri": "https://localhost:8080/",
     "height": 35
    },
    "colab_type": "code",
    "executionInfo": {
     "elapsed": 525,
     "status": "ok",
     "timestamp": 1592579665299,
     "user": {
      "displayName": "Neeraj Bhatt",
      "photoUrl": "https://lh3.googleusercontent.com/a-/AOh14GgvLkLc0FmAfOXVqljT8w63U3RQY_xjEKNntq8Tjw=s64",
      "userId": "15251664655559213824"
     },
     "user_tz": 240
    },
    "id": "24wF5Mf64HRd",
    "outputId": "ad8cf615-a412-4878-ab83-c385814462dc"
   },
   "outputs": [
    {
     "data": {
      "text/plain": [
       "'There are a total of 97689 users'"
      ]
     },
     "execution_count": 6,
     "metadata": {},
     "output_type": "execute_result"
    }
   ],
   "source": [
    "f\"There are a total of {df_all['author'].nunique()} users\""
   ]
  },
  {
   "cell_type": "markdown",
   "metadata": {
    "colab_type": "text",
    "id": "43h7pdbWBSMz"
   },
   "source": [
    "Cleaning the file"
   ]
  },
  {
   "cell_type": "code",
   "execution_count": 7,
   "metadata": {
    "colab": {
     "base_uri": "https://localhost:8080/",
     "height": 260
    },
    "colab_type": "code",
    "executionInfo": {
     "elapsed": 515,
     "status": "ok",
     "timestamp": 1592579672768,
     "user": {
      "displayName": "Neeraj Bhatt",
      "photoUrl": "https://lh3.googleusercontent.com/a-/AOh14GgvLkLc0FmAfOXVqljT8w63U3RQY_xjEKNntq8Tjw=s64",
      "userId": "15251664655559213824"
     },
     "user_tz": 240
    },
    "id": "6Y3VvTXGEqwQ",
    "outputId": "c6da4851-4704-452d-e81b-bbb4ede81b95"
   },
   "outputs": [
    {
     "name": "stdout",
     "output_type": "stream",
     "text": [
      "<class 'pandas.core.frame.DataFrame'>\n",
      "RangeIndex: 903607 entries, 0 to 903606\n",
      "Data columns (total 7 columns):\n",
      "conversation_id    903607 non-null object\n",
      "message_line       903607 non-null int64\n",
      "author             903607 non-null object\n",
      "time               903607 non-null object\n",
      "chat_message       903604 non-null object\n",
      "author_id          903607 non-null object\n",
      "sexual_predator    903607 non-null int64\n",
      "dtypes: int64(2), object(5)\n",
      "memory usage: 48.3+ MB\n"
     ]
    }
   ],
   "source": [
    "df_all.info()"
   ]
  },
  {
   "cell_type": "markdown",
   "metadata": {
    "colab_type": "text",
    "id": "OvBE9JPAF-cd"
   },
   "source": [
    "Looks like there are 3 na values"
   ]
  },
  {
   "cell_type": "code",
   "execution_count": 8,
   "metadata": {
    "colab": {
     "base_uri": "https://localhost:8080/",
     "height": 141
    },
    "colab_type": "code",
    "executionInfo": {
     "elapsed": 636,
     "status": "ok",
     "timestamp": 1592579677146,
     "user": {
      "displayName": "Neeraj Bhatt",
      "photoUrl": "https://lh3.googleusercontent.com/a-/AOh14GgvLkLc0FmAfOXVqljT8w63U3RQY_xjEKNntq8Tjw=s64",
      "userId": "15251664655559213824"
     },
     "user_tz": 240
    },
    "id": "m674esBAF9kf",
    "outputId": "13b797e5-9e69-44bc-f704-4b6d6854effd"
   },
   "outputs": [
    {
     "data": {
      "text/html": [
       "<div>\n",
       "<style scoped>\n",
       "    .dataframe tbody tr th:only-of-type {\n",
       "        vertical-align: middle;\n",
       "    }\n",
       "\n",
       "    .dataframe tbody tr th {\n",
       "        vertical-align: top;\n",
       "    }\n",
       "\n",
       "    .dataframe thead th {\n",
       "        text-align: right;\n",
       "    }\n",
       "</style>\n",
       "<table border=\"1\" class=\"dataframe\">\n",
       "  <thead>\n",
       "    <tr style=\"text-align: right;\">\n",
       "      <th></th>\n",
       "      <th>conversation_id</th>\n",
       "      <th>message_line</th>\n",
       "      <th>author</th>\n",
       "      <th>time</th>\n",
       "      <th>chat_message</th>\n",
       "      <th>author_id</th>\n",
       "      <th>sexual_predator</th>\n",
       "    </tr>\n",
       "  </thead>\n",
       "  <tbody>\n",
       "    <tr>\n",
       "      <th>156322</th>\n",
       "      <td>ba9a533355c439ad3856f7241778fa2b</td>\n",
       "      <td>2</td>\n",
       "      <td>dfdd60613ec3c9f96a06fa3cedf929f7</td>\n",
       "      <td>18:03</td>\n",
       "      <td>NaN</td>\n",
       "      <td>0</td>\n",
       "      <td>0</td>\n",
       "    </tr>\n",
       "    <tr>\n",
       "      <th>272964</th>\n",
       "      <td>af9c62319e52ee2fd4d2d4159b9213dd</td>\n",
       "      <td>10</td>\n",
       "      <td>8b62ca0e3257f021210a203bd5485758</td>\n",
       "      <td>03:00</td>\n",
       "      <td>NaN</td>\n",
       "      <td>0</td>\n",
       "      <td>0</td>\n",
       "    </tr>\n",
       "    <tr>\n",
       "      <th>759293</th>\n",
       "      <td>7430987640c6eaff339e540deec5554c</td>\n",
       "      <td>25</td>\n",
       "      <td>fa346527bf8fa5b84278876b5baa6fba</td>\n",
       "      <td>16:51</td>\n",
       "      <td>NaN</td>\n",
       "      <td>0</td>\n",
       "      <td>0</td>\n",
       "    </tr>\n",
       "  </tbody>\n",
       "</table>\n",
       "</div>"
      ],
      "text/plain": [
       "                         conversation_id  message_line  \\\n",
       "156322  ba9a533355c439ad3856f7241778fa2b             2   \n",
       "272964  af9c62319e52ee2fd4d2d4159b9213dd            10   \n",
       "759293  7430987640c6eaff339e540deec5554c            25   \n",
       "\n",
       "                                  author   time chat_message author_id  \\\n",
       "156322  dfdd60613ec3c9f96a06fa3cedf929f7  18:03          NaN         0   \n",
       "272964  8b62ca0e3257f021210a203bd5485758  03:00          NaN         0   \n",
       "759293  fa346527bf8fa5b84278876b5baa6fba  16:51          NaN         0   \n",
       "\n",
       "        sexual_predator  \n",
       "156322                0  \n",
       "272964                0  \n",
       "759293                0  "
      ]
     },
     "execution_count": 8,
     "metadata": {},
     "output_type": "execute_result"
    }
   ],
   "source": [
    "df_all[df_all['chat_message'].isna()]"
   ]
  },
  {
   "cell_type": "code",
   "execution_count": 9,
   "metadata": {
    "colab": {
     "base_uri": "https://localhost:8080/",
     "height": 260
    },
    "colab_type": "code",
    "executionInfo": {
     "elapsed": 615,
     "status": "ok",
     "timestamp": 1592579680778,
     "user": {
      "displayName": "Neeraj Bhatt",
      "photoUrl": "https://lh3.googleusercontent.com/a-/AOh14GgvLkLc0FmAfOXVqljT8w63U3RQY_xjEKNntq8Tjw=s64",
      "userId": "15251664655559213824"
     },
     "user_tz": 240
    },
    "id": "brHbqbhVEu2J",
    "outputId": "09efb999-5710-40f8-99b0-a31db31113c7"
   },
   "outputs": [
    {
     "name": "stdout",
     "output_type": "stream",
     "text": [
      "<class 'pandas.core.frame.DataFrame'>\n",
      "RangeIndex: 903604 entries, 0 to 903603\n",
      "Data columns (total 7 columns):\n",
      "conversation_id    903604 non-null object\n",
      "message_line       903604 non-null int64\n",
      "author             903604 non-null object\n",
      "time               903604 non-null object\n",
      "chat_message       903604 non-null object\n",
      "author_id          903604 non-null object\n",
      "sexual_predator    903604 non-null int64\n",
      "dtypes: int64(2), object(5)\n",
      "memory usage: 48.3+ MB\n"
     ]
    }
   ],
   "source": [
    "# droppin na values\n",
    "df_all.dropna(subset = ['chat_message'], inplace = True)\n",
    "df_all.index = range(0, df_all.shape[0])\n",
    "df_all.info()"
   ]
  },
  {
   "cell_type": "code",
   "execution_count": 10,
   "metadata": {
    "colab": {},
    "colab_type": "code",
    "executionInfo": {
     "elapsed": 938,
     "status": "ok",
     "timestamp": 1592579686203,
     "user": {
      "displayName": "Neeraj Bhatt",
      "photoUrl": "https://lh3.googleusercontent.com/a-/AOh14GgvLkLc0FmAfOXVqljT8w63U3RQY_xjEKNntq8Tjw=s64",
      "userId": "15251664655559213824"
     },
     "user_tz": 240
    },
    "id": "FGfr04_e4RBH"
   },
   "outputs": [],
   "source": [
    "# extracting url and replacing it with the word url\n",
    "df_url = df_all[df_all['chat_message'].str.contains(r'https')]\n",
    "#df_url.index = range(0, df_url.shape[0])"
   ]
  },
  {
   "cell_type": "code",
   "execution_count": 11,
   "metadata": {
    "colab": {
     "base_uri": "https://localhost:8080/",
     "height": 35
    },
    "colab_type": "code",
    "executionInfo": {
     "elapsed": 458,
     "status": "ok",
     "timestamp": 1592579689430,
     "user": {
      "displayName": "Neeraj Bhatt",
      "photoUrl": "https://lh3.googleusercontent.com/a-/AOh14GgvLkLc0FmAfOXVqljT8w63U3RQY_xjEKNntq8Tjw=s64",
      "userId": "15251664655559213824"
     },
     "user_tz": 240
    },
    "id": "L1NfWOR5Gz7e",
    "outputId": "eb6982f5-7621-44ad-8ad4-2ddfcef9f338"
   },
   "outputs": [
    {
     "data": {
      "text/plain": [
       "(1248, 7)"
      ]
     },
     "execution_count": 11,
     "metadata": {},
     "output_type": "execute_result"
    }
   ],
   "source": [
    "df_url.shape"
   ]
  },
  {
   "cell_type": "code",
   "execution_count": 12,
   "metadata": {
    "colab": {
     "base_uri": "https://localhost:8080/",
     "height": 222
    },
    "colab_type": "code",
    "executionInfo": {
     "elapsed": 636,
     "status": "ok",
     "timestamp": 1592579697178,
     "user": {
      "displayName": "Neeraj Bhatt",
      "photoUrl": "https://lh3.googleusercontent.com/a-/AOh14GgvLkLc0FmAfOXVqljT8w63U3RQY_xjEKNntq8Tjw=s64",
      "userId": "15251664655559213824"
     },
     "user_tz": 240
    },
    "id": "tlImRV_jG-VU",
    "outputId": "9571c77b-ea6c-458a-808a-b9a8d682eceb"
   },
   "outputs": [
    {
     "data": {
      "text/html": [
       "<div>\n",
       "<style scoped>\n",
       "    .dataframe tbody tr th:only-of-type {\n",
       "        vertical-align: middle;\n",
       "    }\n",
       "\n",
       "    .dataframe tbody tr th {\n",
       "        vertical-align: top;\n",
       "    }\n",
       "\n",
       "    .dataframe thead th {\n",
       "        text-align: right;\n",
       "    }\n",
       "</style>\n",
       "<table border=\"1\" class=\"dataframe\">\n",
       "  <thead>\n",
       "    <tr style=\"text-align: right;\">\n",
       "      <th></th>\n",
       "      <th>conversation_id</th>\n",
       "      <th>message_line</th>\n",
       "      <th>author</th>\n",
       "      <th>time</th>\n",
       "      <th>chat_message</th>\n",
       "      <th>author_id</th>\n",
       "      <th>sexual_predator</th>\n",
       "    </tr>\n",
       "  </thead>\n",
       "  <tbody>\n",
       "    <tr>\n",
       "      <th>243</th>\n",
       "      <td>7b8bd13557382d5aa86cf3e3b90acaa5</td>\n",
       "      <td>67</td>\n",
       "      <td>0c8dce20967cf80665e60051b8ab2d3c</td>\n",
       "      <td>19:51</td>\n",
       "      <td>https://github.com/jeresig/nodelist</td>\n",
       "      <td>0</td>\n",
       "      <td>0</td>\n",
       "    </tr>\n",
       "    <tr>\n",
       "      <th>1143</th>\n",
       "      <td>b0d69ccb982454eddf4f586b9a4efb49</td>\n",
       "      <td>2</td>\n",
       "      <td>eb215559f21ce08fc2c0af415cb66253</td>\n",
       "      <td>21:20</td>\n",
       "      <td>Bug https://bugzilla.mozilla.org/show_bug.cgi?...</td>\n",
       "      <td>0</td>\n",
       "      <td>0</td>\n",
       "    </tr>\n",
       "    <tr>\n",
       "      <th>1971</th>\n",
       "      <td>620ee40e5dcfd7a20778f4dcbe08ab10</td>\n",
       "      <td>14</td>\n",
       "      <td>0543a0625ce86be59ddc62dd865e58c8</td>\n",
       "      <td>02:02</td>\n",
       "      <td>https://help.ubuntu.com/community/ApacheMySQLPHP</td>\n",
       "      <td>0</td>\n",
       "      <td>0</td>\n",
       "    </tr>\n",
       "    <tr>\n",
       "      <th>2388</th>\n",
       "      <td>850360be0c2b1320f47335746c602cf4</td>\n",
       "      <td>117</td>\n",
       "      <td>4c002476425f2c87dbc7d5383704d9d7</td>\n",
       "      <td>07:57</td>\n",
       "      <td>try svn co https://svn.sourceforge.net/svnroot...</td>\n",
       "      <td>0</td>\n",
       "      <td>0</td>\n",
       "    </tr>\n",
       "    <tr>\n",
       "      <th>3407</th>\n",
       "      <td>4ce47d9066fa1e25f7e6e6b265ec19fe</td>\n",
       "      <td>2</td>\n",
       "      <td>a9b326df4e6da61c5b6f5e1058be83a2</td>\n",
       "      <td>12:08</td>\n",
       "      <td>https://listserv.heanet.ie/cgi-bin/wa?A0=html-wg</td>\n",
       "      <td>0</td>\n",
       "      <td>0</td>\n",
       "    </tr>\n",
       "  </tbody>\n",
       "</table>\n",
       "</div>"
      ],
      "text/plain": [
       "                       conversation_id  message_line  \\\n",
       "243   7b8bd13557382d5aa86cf3e3b90acaa5            67   \n",
       "1143  b0d69ccb982454eddf4f586b9a4efb49             2   \n",
       "1971  620ee40e5dcfd7a20778f4dcbe08ab10            14   \n",
       "2388  850360be0c2b1320f47335746c602cf4           117   \n",
       "3407  4ce47d9066fa1e25f7e6e6b265ec19fe             2   \n",
       "\n",
       "                                author   time  \\\n",
       "243   0c8dce20967cf80665e60051b8ab2d3c  19:51   \n",
       "1143  eb215559f21ce08fc2c0af415cb66253  21:20   \n",
       "1971  0543a0625ce86be59ddc62dd865e58c8  02:02   \n",
       "2388  4c002476425f2c87dbc7d5383704d9d7  07:57   \n",
       "3407  a9b326df4e6da61c5b6f5e1058be83a2  12:08   \n",
       "\n",
       "                                           chat_message author_id  \\\n",
       "243                 https://github.com/jeresig/nodelist         0   \n",
       "1143  Bug https://bugzilla.mozilla.org/show_bug.cgi?...         0   \n",
       "1971   https://help.ubuntu.com/community/ApacheMySQLPHP         0   \n",
       "2388  try svn co https://svn.sourceforge.net/svnroot...         0   \n",
       "3407   https://listserv.heanet.ie/cgi-bin/wa?A0=html-wg         0   \n",
       "\n",
       "      sexual_predator  \n",
       "243                 0  \n",
       "1143                0  \n",
       "1971                0  \n",
       "2388                0  \n",
       "3407                0  "
      ]
     },
     "execution_count": 12,
     "metadata": {},
     "output_type": "execute_result"
    }
   ],
   "source": [
    "df_url.head()"
   ]
  },
  {
   "cell_type": "code",
   "execution_count": 13,
   "metadata": {
    "colab": {
     "base_uri": "https://localhost:8080/",
     "height": 165
    },
    "colab_type": "code",
    "executionInfo": {
     "elapsed": 562,
     "status": "ok",
     "timestamp": 1592579701795,
     "user": {
      "displayName": "Neeraj Bhatt",
      "photoUrl": "https://lh3.googleusercontent.com/a-/AOh14GgvLkLc0FmAfOXVqljT8w63U3RQY_xjEKNntq8Tjw=s64",
      "userId": "15251664655559213824"
     },
     "user_tz": 240
    },
    "id": "bVVnVBrFHCtc",
    "outputId": "b0e4f794-1d7e-4214-b312-37397ae1521d"
   },
   "outputs": [
    {
     "data": {
      "text/html": [
       "<div>\n",
       "<style scoped>\n",
       "    .dataframe tbody tr th:only-of-type {\n",
       "        vertical-align: middle;\n",
       "    }\n",
       "\n",
       "    .dataframe tbody tr th {\n",
       "        vertical-align: top;\n",
       "    }\n",
       "\n",
       "    .dataframe thead th {\n",
       "        text-align: right;\n",
       "    }\n",
       "</style>\n",
       "<table border=\"1\" class=\"dataframe\">\n",
       "  <thead>\n",
       "    <tr style=\"text-align: right;\">\n",
       "      <th></th>\n",
       "      <th>conversation_id</th>\n",
       "      <th>message_line</th>\n",
       "      <th>author</th>\n",
       "      <th>time</th>\n",
       "      <th>chat_message</th>\n",
       "      <th>author_id</th>\n",
       "      <th>sexual_predator</th>\n",
       "    </tr>\n",
       "  </thead>\n",
       "  <tbody>\n",
       "    <tr>\n",
       "      <th>1142</th>\n",
       "      <td>b0d69ccb982454eddf4f586b9a4efb49</td>\n",
       "      <td>1</td>\n",
       "      <td>eb215559f21ce08fc2c0af415cb66253</td>\n",
       "      <td>21:20</td>\n",
       "      <td>&amp;lt;email/&amp;gt; requested review from &amp;lt;email...</td>\n",
       "      <td>0</td>\n",
       "      <td>0</td>\n",
       "    </tr>\n",
       "    <tr>\n",
       "      <th>1143</th>\n",
       "      <td>b0d69ccb982454eddf4f586b9a4efb49</td>\n",
       "      <td>2</td>\n",
       "      <td>eb215559f21ce08fc2c0af415cb66253</td>\n",
       "      <td>21:20</td>\n",
       "      <td>Bug https://bugzilla.mozilla.org/show_bug.cgi?...</td>\n",
       "      <td>0</td>\n",
       "      <td>0</td>\n",
       "    </tr>\n",
       "  </tbody>\n",
       "</table>\n",
       "</div>"
      ],
      "text/plain": [
       "                       conversation_id  message_line  \\\n",
       "1142  b0d69ccb982454eddf4f586b9a4efb49             1   \n",
       "1143  b0d69ccb982454eddf4f586b9a4efb49             2   \n",
       "\n",
       "                                author   time  \\\n",
       "1142  eb215559f21ce08fc2c0af415cb66253  21:20   \n",
       "1143  eb215559f21ce08fc2c0af415cb66253  21:20   \n",
       "\n",
       "                                           chat_message author_id  \\\n",
       "1142  &lt;email/&gt; requested review from &lt;email...         0   \n",
       "1143  Bug https://bugzilla.mozilla.org/show_bug.cgi?...         0   \n",
       "\n",
       "      sexual_predator  \n",
       "1142                0  \n",
       "1143                0  "
      ]
     },
     "execution_count": 13,
     "metadata": {},
     "output_type": "execute_result"
    }
   ],
   "source": [
    "df_all[df_all['conversation_id'] == df_url['conversation_id'][1143]]"
   ]
  },
  {
   "cell_type": "code",
   "execution_count": 14,
   "metadata": {
    "colab": {
     "base_uri": "https://localhost:8080/",
     "height": 55
    },
    "colab_type": "code",
    "executionInfo": {
     "elapsed": 521,
     "status": "ok",
     "timestamp": 1592579705342,
     "user": {
      "displayName": "Neeraj Bhatt",
      "photoUrl": "https://lh3.googleusercontent.com/a-/AOh14GgvLkLc0FmAfOXVqljT8w63U3RQY_xjEKNntq8Tjw=s64",
      "userId": "15251664655559213824"
     },
     "user_tz": 240
    },
    "id": "CPIfZuPzG2OI",
    "outputId": "624af218-a391-4f4f-ee6a-0431c7f562c9"
   },
   "outputs": [
    {
     "data": {
      "text/plain": [
       "'Bug https://bugzilla.mozilla.org/show_bug.cgi?id=548472 nor, --, ---, surkov.alexander, ASSI, Column header accessibles are not ordered according to visual order'"
      ]
     },
     "execution_count": 14,
     "metadata": {},
     "output_type": "execute_result"
    }
   ],
   "source": [
    "df_url['chat_message'][1143]"
   ]
  },
  {
   "cell_type": "code",
   "execution_count": 15,
   "metadata": {
    "colab": {},
    "colab_type": "code",
    "executionInfo": {
     "elapsed": 479,
     "status": "ok",
     "timestamp": 1592579707268,
     "user": {
      "displayName": "Neeraj Bhatt",
      "photoUrl": "https://lh3.googleusercontent.com/a-/AOh14GgvLkLc0FmAfOXVqljT8w63U3RQY_xjEKNntq8Tjw=s64",
      "userId": "15251664655559213824"
     },
     "user_tz": 240
    },
    "id": "F8-78SvXJjH2"
   },
   "outputs": [],
   "source": [
    "def find_url(string): \n",
    "    # findall() has been used  \n",
    "    # with valid conditions for urls in string \n",
    "    regex = r\"(?i)\\b((?:https?://|www\\d{0,3}[.]|[a-z0-9.\\-]+[.][a-z]{2,4}/)(?:[^\\s()<>]+|\\(([^\\s()<>]+|(\\([^\\s()<>]+\\)))*\\))+(?:\\(([^\\s()<>]+|(\\([^\\s()<>]+\\)))*\\)|[^\\s`!()\\[\\]{};:'\\\".,<>?«»“”‘’]))\"\n",
    "    url = re.findall(regex,string)       \n",
    "    return [x[0] for x in url] "
   ]
  },
  {
   "cell_type": "code",
   "execution_count": 16,
   "metadata": {
    "colab": {},
    "colab_type": "code",
    "executionInfo": {
     "elapsed": 470,
     "status": "ok",
     "timestamp": 1592579708324,
     "user": {
      "displayName": "Neeraj Bhatt",
      "photoUrl": "https://lh3.googleusercontent.com/a-/AOh14GgvLkLc0FmAfOXVqljT8w63U3RQY_xjEKNntq8Tjw=s64",
      "userId": "15251664655559213824"
     },
     "user_tz": 240
    },
    "id": "YSPZBByeH5ho"
   },
   "outputs": [],
   "source": [
    "import re"
   ]
  },
  {
   "cell_type": "code",
   "execution_count": 17,
   "metadata": {
    "colab": {
     "base_uri": "https://localhost:8080/",
     "height": 35
    },
    "colab_type": "code",
    "executionInfo": {
     "elapsed": 493,
     "status": "ok",
     "timestamp": 1592579710948,
     "user": {
      "displayName": "Neeraj Bhatt",
      "photoUrl": "https://lh3.googleusercontent.com/a-/AOh14GgvLkLc0FmAfOXVqljT8w63U3RQY_xjEKNntq8Tjw=s64",
      "userId": "15251664655559213824"
     },
     "user_tz": 240
    },
    "id": "j8Ss5moUJlc8",
    "outputId": "b952bb03-de09-4385-e609-b17673c0439f"
   },
   "outputs": [
    {
     "data": {
      "text/plain": [
       "['https://bugzilla.mozilla.org/show_bug.cgi?id=548472']"
      ]
     },
     "execution_count": 17,
     "metadata": {},
     "output_type": "execute_result"
    }
   ],
   "source": [
    "urls = find_url(df_url['chat_message'][1143])\n",
    "urls"
   ]
  },
  {
   "cell_type": "code",
   "execution_count": 18,
   "metadata": {
    "colab": {},
    "colab_type": "code",
    "executionInfo": {
     "elapsed": 608,
     "status": "ok",
     "timestamp": 1592579714523,
     "user": {
      "displayName": "Neeraj Bhatt",
      "photoUrl": "https://lh3.googleusercontent.com/a-/AOh14GgvLkLc0FmAfOXVqljT8w63U3RQY_xjEKNntq8Tjw=s64",
      "userId": "15251664655559213824"
     },
     "user_tz": 240
    },
    "id": "XAvQpA0yKVXd"
   },
   "outputs": [],
   "source": [
    "regex = r\"(?i)\\b((?:https?://|www\\d{0,3}[.]|[a-z0-9.\\-]+[.][a-z]{2,4}/)(?:[^\\s()<>]+|\\(([^\\s()<>]+|(\\([^\\s()<>]+\\)))*\\))+(?:\\(([^\\s()<>]+|(\\([^\\s()<>]+\\)))*\\)|[^\\s`!()\\[\\]{};:'\\\".,<>?«»“”‘’]))\""
   ]
  },
  {
   "cell_type": "code",
   "execution_count": 19,
   "metadata": {},
   "outputs": [
    {
     "data": {
      "text/html": [
       "<div>\n",
       "<style scoped>\n",
       "    .dataframe tbody tr th:only-of-type {\n",
       "        vertical-align: middle;\n",
       "    }\n",
       "\n",
       "    .dataframe tbody tr th {\n",
       "        vertical-align: top;\n",
       "    }\n",
       "\n",
       "    .dataframe thead th {\n",
       "        text-align: right;\n",
       "    }\n",
       "</style>\n",
       "<table border=\"1\" class=\"dataframe\">\n",
       "  <thead>\n",
       "    <tr style=\"text-align: right;\">\n",
       "      <th></th>\n",
       "      <th>conversation_id</th>\n",
       "      <th>message_line</th>\n",
       "      <th>author</th>\n",
       "      <th>time</th>\n",
       "      <th>chat_message</th>\n",
       "      <th>author_id</th>\n",
       "      <th>sexual_predator</th>\n",
       "    </tr>\n",
       "  </thead>\n",
       "  <tbody>\n",
       "    <tr>\n",
       "      <th>902821</th>\n",
       "      <td>071821ffdfeaf85c9d123be5429511fd</td>\n",
       "      <td>2</td>\n",
       "      <td>0a39f78bcb297ab0ebe8a29c28bfed89</td>\n",
       "      <td>04:51</td>\n",
       "      <td>planet: ajvincent: Welcome to my new digital h...</td>\n",
       "      <td>0</td>\n",
       "      <td>0</td>\n",
       "    </tr>\n",
       "    <tr>\n",
       "      <th>902834</th>\n",
       "      <td>ef2e223995aa3a4eacb54b45851a385e</td>\n",
       "      <td>7</td>\n",
       "      <td>8b3687499080633e1898fa1dd209ef81</td>\n",
       "      <td>16:49</td>\n",
       "      <td>ddahl, I've set up https://dvcs.w3.org/hg/domc...</td>\n",
       "      <td>0</td>\n",
       "      <td>0</td>\n",
       "    </tr>\n",
       "    <tr>\n",
       "      <th>903232</th>\n",
       "      <td>acd9584d66ba31750a48dcbacec6c708</td>\n",
       "      <td>5</td>\n",
       "      <td>8b3687499080633e1898fa1dd209ef81</td>\n",
       "      <td>19:35</td>\n",
       "      <td>ab7faae5d7b250ea8606486575f8f79c, you check ht...</td>\n",
       "      <td>0</td>\n",
       "      <td>0</td>\n",
       "    </tr>\n",
       "    <tr>\n",
       "      <th>903248</th>\n",
       "      <td>acd9584d66ba31750a48dcbacec6c708</td>\n",
       "      <td>21</td>\n",
       "      <td>8b3687499080633e1898fa1dd209ef81</td>\n",
       "      <td>20:41</td>\n",
       "      <td>88d4d34a8064a4ff39fd5e144eea7762, https://bugz...</td>\n",
       "      <td>0</td>\n",
       "      <td>0</td>\n",
       "    </tr>\n",
       "    <tr>\n",
       "      <th>903259</th>\n",
       "      <td>acd9584d66ba31750a48dcbacec6c708</td>\n",
       "      <td>32</td>\n",
       "      <td>88d4d34a8064a4ff39fd5e144eea7762</td>\n",
       "      <td>20:44</td>\n",
       "      <td>8b3687499080633e1898fa1dd209ef81, https://www....</td>\n",
       "      <td>0</td>\n",
       "      <td>0</td>\n",
       "    </tr>\n",
       "  </tbody>\n",
       "</table>\n",
       "</div>"
      ],
      "text/plain": [
       "                         conversation_id  message_line  \\\n",
       "902821  071821ffdfeaf85c9d123be5429511fd             2   \n",
       "902834  ef2e223995aa3a4eacb54b45851a385e             7   \n",
       "903232  acd9584d66ba31750a48dcbacec6c708             5   \n",
       "903248  acd9584d66ba31750a48dcbacec6c708            21   \n",
       "903259  acd9584d66ba31750a48dcbacec6c708            32   \n",
       "\n",
       "                                  author   time  \\\n",
       "902821  0a39f78bcb297ab0ebe8a29c28bfed89  04:51   \n",
       "902834  8b3687499080633e1898fa1dd209ef81  16:49   \n",
       "903232  8b3687499080633e1898fa1dd209ef81  19:35   \n",
       "903248  8b3687499080633e1898fa1dd209ef81  20:41   \n",
       "903259  88d4d34a8064a4ff39fd5e144eea7762  20:44   \n",
       "\n",
       "                                             chat_message author_id  \\\n",
       "902821  planet: ajvincent: Welcome to my new digital h...         0   \n",
       "902834  ddahl, I've set up https://dvcs.w3.org/hg/domc...         0   \n",
       "903232  ab7faae5d7b250ea8606486575f8f79c, you check ht...         0   \n",
       "903248  88d4d34a8064a4ff39fd5e144eea7762, https://bugz...         0   \n",
       "903259  8b3687499080633e1898fa1dd209ef81, https://www....         0   \n",
       "\n",
       "        sexual_predator  \n",
       "902821                0  \n",
       "902834                0  \n",
       "903232                0  \n",
       "903248                0  \n",
       "903259                0  "
      ]
     },
     "execution_count": 19,
     "metadata": {},
     "output_type": "execute_result"
    }
   ],
   "source": [
    "df_url.tail()"
   ]
  },
  {
   "cell_type": "code",
   "execution_count": 20,
   "metadata": {
    "colab": {
     "base_uri": "https://localhost:8080/",
     "height": 35
    },
    "colab_type": "code",
    "executionInfo": {
     "elapsed": 702,
     "status": "ok",
     "timestamp": 1592579716323,
     "user": {
      "displayName": "Neeraj Bhatt",
      "photoUrl": "https://lh3.googleusercontent.com/a-/AOh14GgvLkLc0FmAfOXVqljT8w63U3RQY_xjEKNntq8Tjw=s64",
      "userId": "15251664655559213824"
     },
     "user_tz": 240
    },
    "id": "jlu26Ml0K2h0",
    "outputId": "27b202d9-76bb-4870-db73-d9eb6d1bd491"
   },
   "outputs": [
    {
     "data": {
      "text/plain": [
       "'8b3687499080633e1898fa1dd209ef81, https://www.w3.org/Bugs/Public/show_bug.cgi?id=15752'"
      ]
     },
     "execution_count": 20,
     "metadata": {},
     "output_type": "execute_result"
    }
   ],
   "source": [
    "df_url['chat_message'][903259]"
   ]
  },
  {
   "cell_type": "code",
   "execution_count": 21,
   "metadata": {
    "colab": {
     "base_uri": "https://localhost:8080/",
     "height": 35
    },
    "colab_type": "code",
    "executionInfo": {
     "elapsed": 446,
     "status": "ok",
     "timestamp": 1592579721004,
     "user": {
      "displayName": "Neeraj Bhatt",
      "photoUrl": "https://lh3.googleusercontent.com/a-/AOh14GgvLkLc0FmAfOXVqljT8w63U3RQY_xjEKNntq8Tjw=s64",
      "userId": "15251664655559213824"
     },
     "user_tz": 240
    },
    "id": "tyDzU_CjIBCE",
    "outputId": "085d4a97-4d0c-4566-fc45-0e0a59bbcc15"
   },
   "outputs": [
    {
     "data": {
      "text/plain": [
       "'8b3687499080633e1898fa1dd209ef81, url'"
      ]
     },
     "execution_count": 21,
     "metadata": {},
     "output_type": "execute_result"
    }
   ],
   "source": [
    "re.sub(regex, 'url', df_url['chat_message'][903259])"
   ]
  },
  {
   "cell_type": "code",
   "execution_count": 22,
   "metadata": {
    "colab": {
     "base_uri": "https://localhost:8080/",
     "height": 35
    },
    "colab_type": "code",
    "executionInfo": {
     "elapsed": 438,
     "status": "ok",
     "timestamp": 1592579723221,
     "user": {
      "displayName": "Neeraj Bhatt",
      "photoUrl": "https://lh3.googleusercontent.com/a-/AOh14GgvLkLc0FmAfOXVqljT8w63U3RQY_xjEKNntq8Tjw=s64",
      "userId": "15251664655559213824"
     },
     "user_tz": 240
    },
    "id": "QFETEbBxIWrJ",
    "outputId": "b9654004-1526-4015-f684-751f8b34770a"
   },
   "outputs": [
    {
     "data": {
      "text/plain": [
       "'https://github.com/jeresig/nodelist'"
      ]
     },
     "execution_count": 22,
     "metadata": {},
     "output_type": "execute_result"
    }
   ],
   "source": [
    "df_url['chat_message'][243]"
   ]
  },
  {
   "cell_type": "code",
   "execution_count": 23,
   "metadata": {
    "colab": {
     "base_uri": "https://localhost:8080/",
     "height": 35
    },
    "colab_type": "code",
    "executionInfo": {
     "elapsed": 519,
     "status": "ok",
     "timestamp": 1592579727033,
     "user": {
      "displayName": "Neeraj Bhatt",
      "photoUrl": "https://lh3.googleusercontent.com/a-/AOh14GgvLkLc0FmAfOXVqljT8w63U3RQY_xjEKNntq8Tjw=s64",
      "userId": "15251664655559213824"
     },
     "user_tz": 240
    },
    "id": "wjAi9xInLKgY",
    "outputId": "9304d06b-1138-4d74-87d4-24169222c34a"
   },
   "outputs": [
    {
     "data": {
      "text/plain": [
       "'url'"
      ]
     },
     "execution_count": 23,
     "metadata": {},
     "output_type": "execute_result"
    }
   ],
   "source": [
    "re.sub(regex, 'url', df_url['chat_message'][243])"
   ]
  },
  {
   "cell_type": "code",
   "execution_count": 24,
   "metadata": {
    "colab": {
     "base_uri": "https://localhost:8080/",
     "height": 35
    },
    "colab_type": "code",
    "executionInfo": {
     "elapsed": 425,
     "status": "ok",
     "timestamp": 1592579730070,
     "user": {
      "displayName": "Neeraj Bhatt",
      "photoUrl": "https://lh3.googleusercontent.com/a-/AOh14GgvLkLc0FmAfOXVqljT8w63U3RQY_xjEKNntq8Tjw=s64",
      "userId": "15251664655559213824"
     },
     "user_tz": 240
    },
    "id": "tbP2PqMRLrXp",
    "outputId": "af9c6be7-9de2-47d0-eb7c-b96dd05f5bdf"
   },
   "outputs": [
    {
     "data": {
      "text/plain": [
       "'whats up?'"
      ]
     },
     "execution_count": 24,
     "metadata": {},
     "output_type": "execute_result"
    }
   ],
   "source": [
    "df_all['chat_message'][2]"
   ]
  },
  {
   "cell_type": "code",
   "execution_count": 25,
   "metadata": {
    "colab": {
     "base_uri": "https://localhost:8080/",
     "height": 35
    },
    "colab_type": "code",
    "executionInfo": {
     "elapsed": 458,
     "status": "ok",
     "timestamp": 1592579736246,
     "user": {
      "displayName": "Neeraj Bhatt",
      "photoUrl": "https://lh3.googleusercontent.com/a-/AOh14GgvLkLc0FmAfOXVqljT8w63U3RQY_xjEKNntq8Tjw=s64",
      "userId": "15251664655559213824"
     },
     "user_tz": 240
    },
    "id": "5WVnRPMMLRHl",
    "outputId": "ed683a7e-21ba-4738-aac7-570437872ad9"
   },
   "outputs": [
    {
     "data": {
      "text/plain": [
       "'whats up?'"
      ]
     },
     "execution_count": 25,
     "metadata": {},
     "output_type": "execute_result"
    }
   ],
   "source": [
    "re.sub(regex, 'url', df_all['chat_message'][2])"
   ]
  },
  {
   "cell_type": "code",
   "execution_count": 41,
   "metadata": {
    "colab": {
     "base_uri": "https://localhost:8080/",
     "height": 121
    },
    "colab_type": "code",
    "executionInfo": {
     "elapsed": 729,
     "status": "ok",
     "timestamp": 1592579785335,
     "user": {
      "displayName": "Neeraj Bhatt",
      "photoUrl": "https://lh3.googleusercontent.com/a-/AOh14GgvLkLc0FmAfOXVqljT8w63U3RQY_xjEKNntq8Tjw=s64",
      "userId": "15251664655559213824"
     },
     "user_tz": 240
    },
    "id": "agL7hYuMJl6C",
    "outputId": "055e6320-b1c3-4620-aa6a-1f83890d0b73"
   },
   "outputs": [
    {
     "name": "stderr",
     "output_type": "stream",
     "text": [
      "C:\\Users\\bneer\\Anaconda3\\lib\\site-packages\\ipykernel_launcher.py:1: SettingWithCopyWarning: \n",
      "A value is trying to be set on a copy of a slice from a DataFrame.\n",
      "Try using .loc[row_indexer,col_indexer] = value instead\n",
      "\n",
      "See the caveats in the documentation: http://pandas.pydata.org/pandas-docs/stable/indexing.html#indexing-view-versus-copy\n",
      "  \"\"\"Entry point for launching an IPython kernel.\n"
     ]
    }
   ],
   "source": [
    "df_url['chat_message'] = df_url['chat_message'].apply(lambda x: re.sub(regex, 'url', x))"
   ]
  },
  {
   "cell_type": "code",
   "execution_count": 42,
   "metadata": {
    "colab": {
     "base_uri": "https://localhost:8080/",
     "height": 219
    },
    "colab_type": "code",
    "executionInfo": {
     "elapsed": 527,
     "status": "ok",
     "timestamp": 1592579800751,
     "user": {
      "displayName": "Neeraj Bhatt",
      "photoUrl": "https://lh3.googleusercontent.com/a-/AOh14GgvLkLc0FmAfOXVqljT8w63U3RQY_xjEKNntq8Tjw=s64",
      "userId": "15251664655559213824"
     },
     "user_tz": 240
    },
    "id": "nZqGIbF6Jv8E",
    "outputId": "20c16deb-7015-43ed-da12-0248f9a05fb2"
   },
   "outputs": [
    {
     "data": {
      "text/html": [
       "<div>\n",
       "<style scoped>\n",
       "    .dataframe tbody tr th:only-of-type {\n",
       "        vertical-align: middle;\n",
       "    }\n",
       "\n",
       "    .dataframe tbody tr th {\n",
       "        vertical-align: top;\n",
       "    }\n",
       "\n",
       "    .dataframe thead th {\n",
       "        text-align: right;\n",
       "    }\n",
       "</style>\n",
       "<table border=\"1\" class=\"dataframe\">\n",
       "  <thead>\n",
       "    <tr style=\"text-align: right;\">\n",
       "      <th></th>\n",
       "      <th>conversation_id</th>\n",
       "      <th>message_line</th>\n",
       "      <th>author</th>\n",
       "      <th>time</th>\n",
       "      <th>chat_message</th>\n",
       "      <th>author_id</th>\n",
       "      <th>sexual_predator</th>\n",
       "    </tr>\n",
       "  </thead>\n",
       "  <tbody>\n",
       "    <tr>\n",
       "      <th>243</th>\n",
       "      <td>7b8bd13557382d5aa86cf3e3b90acaa5</td>\n",
       "      <td>67</td>\n",
       "      <td>0c8dce20967cf80665e60051b8ab2d3c</td>\n",
       "      <td>19:51</td>\n",
       "      <td>url</td>\n",
       "      <td>0</td>\n",
       "      <td>0</td>\n",
       "    </tr>\n",
       "    <tr>\n",
       "      <th>1143</th>\n",
       "      <td>b0d69ccb982454eddf4f586b9a4efb49</td>\n",
       "      <td>2</td>\n",
       "      <td>eb215559f21ce08fc2c0af415cb66253</td>\n",
       "      <td>21:20</td>\n",
       "      <td>Bug url nor, --, ---, surkov.alexander, ASSI, ...</td>\n",
       "      <td>0</td>\n",
       "      <td>0</td>\n",
       "    </tr>\n",
       "    <tr>\n",
       "      <th>1971</th>\n",
       "      <td>620ee40e5dcfd7a20778f4dcbe08ab10</td>\n",
       "      <td>14</td>\n",
       "      <td>0543a0625ce86be59ddc62dd865e58c8</td>\n",
       "      <td>02:02</td>\n",
       "      <td>url</td>\n",
       "      <td>0</td>\n",
       "      <td>0</td>\n",
       "    </tr>\n",
       "    <tr>\n",
       "      <th>2388</th>\n",
       "      <td>850360be0c2b1320f47335746c602cf4</td>\n",
       "      <td>117</td>\n",
       "      <td>4c002476425f2c87dbc7d5383704d9d7</td>\n",
       "      <td>07:57</td>\n",
       "      <td>try svn co url</td>\n",
       "      <td>0</td>\n",
       "      <td>0</td>\n",
       "    </tr>\n",
       "    <tr>\n",
       "      <th>3407</th>\n",
       "      <td>4ce47d9066fa1e25f7e6e6b265ec19fe</td>\n",
       "      <td>2</td>\n",
       "      <td>a9b326df4e6da61c5b6f5e1058be83a2</td>\n",
       "      <td>12:08</td>\n",
       "      <td>url</td>\n",
       "      <td>0</td>\n",
       "      <td>0</td>\n",
       "    </tr>\n",
       "  </tbody>\n",
       "</table>\n",
       "</div>"
      ],
      "text/plain": [
       "                       conversation_id  message_line  \\\n",
       "243   7b8bd13557382d5aa86cf3e3b90acaa5            67   \n",
       "1143  b0d69ccb982454eddf4f586b9a4efb49             2   \n",
       "1971  620ee40e5dcfd7a20778f4dcbe08ab10            14   \n",
       "2388  850360be0c2b1320f47335746c602cf4           117   \n",
       "3407  4ce47d9066fa1e25f7e6e6b265ec19fe             2   \n",
       "\n",
       "                                author   time  \\\n",
       "243   0c8dce20967cf80665e60051b8ab2d3c  19:51   \n",
       "1143  eb215559f21ce08fc2c0af415cb66253  21:20   \n",
       "1971  0543a0625ce86be59ddc62dd865e58c8  02:02   \n",
       "2388  4c002476425f2c87dbc7d5383704d9d7  07:57   \n",
       "3407  a9b326df4e6da61c5b6f5e1058be83a2  12:08   \n",
       "\n",
       "                                           chat_message author_id  \\\n",
       "243                                                 url         0   \n",
       "1143  Bug url nor, --, ---, surkov.alexander, ASSI, ...         0   \n",
       "1971                                                url         0   \n",
       "2388                                     try svn co url         0   \n",
       "3407                                                url         0   \n",
       "\n",
       "      sexual_predator  \n",
       "243                 0  \n",
       "1143                0  \n",
       "1971                0  \n",
       "2388                0  \n",
       "3407                0  "
      ]
     },
     "execution_count": 42,
     "metadata": {},
     "output_type": "execute_result"
    }
   ],
   "source": [
    "df_url.head()"
   ]
  },
  {
   "cell_type": "code",
   "execution_count": 43,
   "metadata": {},
   "outputs": [
    {
     "data": {
      "text/plain": [
       "(903604, 7)"
      ]
     },
     "execution_count": 43,
     "metadata": {},
     "output_type": "execute_result"
    }
   ],
   "source": [
    "df_all.shape"
   ]
  },
  {
   "cell_type": "code",
   "execution_count": 44,
   "metadata": {},
   "outputs": [
    {
     "name": "stderr",
     "output_type": "stream",
     "text": [
      "C:\\Users\\bneer\\Anaconda3\\lib\\site-packages\\ipykernel_launcher.py:1: SettingWithCopyWarning: \n",
      "A value is trying to be set on a copy of a slice from a DataFrame\n",
      "\n",
      "See the caveats in the documentation: http://pandas.pydata.org/pandas-docs/stable/indexing.html#indexing-view-versus-copy\n",
      "  \"\"\"Entry point for launching an IPython kernel.\n"
     ]
    }
   ],
   "source": [
    "df_all['chat_message'][243] = df_url['chat_message'][243]"
   ]
  },
  {
   "cell_type": "code",
   "execution_count": 45,
   "metadata": {},
   "outputs": [
    {
     "data": {
      "text/plain": [
       "'url'"
      ]
     },
     "execution_count": 45,
     "metadata": {},
     "output_type": "execute_result"
    }
   ],
   "source": [
    "df_url['chat_message'][243]"
   ]
  },
  {
   "cell_type": "code",
   "execution_count": 46,
   "metadata": {},
   "outputs": [
    {
     "data": {
      "text/plain": [
       "conversation_id    7b8bd13557382d5aa86cf3e3b90acaa5\n",
       "message_line                                     67\n",
       "author             0c8dce20967cf80665e60051b8ab2d3c\n",
       "time                                          19:51\n",
       "chat_message                                    url\n",
       "author_id                                         0\n",
       "sexual_predator                                   0\n",
       "Name: 243, dtype: object"
      ]
     },
     "execution_count": 46,
     "metadata": {},
     "output_type": "execute_result"
    }
   ],
   "source": [
    "df_all.iloc[243]"
   ]
  },
  {
   "cell_type": "code",
   "execution_count": 48,
   "metadata": {},
   "outputs": [
    {
     "data": {
      "text/plain": [
       "'url'"
      ]
     },
     "execution_count": 48,
     "metadata": {},
     "output_type": "execute_result"
    }
   ],
   "source": [
    "df_all['chat_message'][243]"
   ]
  },
  {
   "cell_type": "code",
   "execution_count": 49,
   "metadata": {},
   "outputs": [
    {
     "name": "stderr",
     "output_type": "stream",
     "text": [
      "C:\\Users\\bneer\\Anaconda3\\lib\\site-packages\\ipykernel_launcher.py:2: SettingWithCopyWarning: \n",
      "A value is trying to be set on a copy of a slice from a DataFrame\n",
      "\n",
      "See the caveats in the documentation: http://pandas.pydata.org/pandas-docs/stable/indexing.html#indexing-view-versus-copy\n",
      "  \n"
     ]
    }
   ],
   "source": [
    "for ind in list(df_url.index):\n",
    "    df_all['chat_message'][ind] = df_url['chat_message'][ind]"
   ]
  },
  {
   "cell_type": "code",
   "execution_count": 51,
   "metadata": {},
   "outputs": [
    {
     "data": {
      "text/plain": [
       "'Bug url nor, --, ---, surkov.alexander, ASSI, Column header accessibles are not ordered according to visual order'"
      ]
     },
     "execution_count": 51,
     "metadata": {},
     "output_type": "execute_result"
    }
   ],
   "source": [
    "df_all['chat_message'][1143]"
   ]
  },
  {
   "cell_type": "code",
   "execution_count": 52,
   "metadata": {},
   "outputs": [
    {
     "data": {
      "text/plain": [
       "'url'"
      ]
     },
     "execution_count": 52,
     "metadata": {},
     "output_type": "execute_result"
    }
   ],
   "source": [
    "df_all['chat_message'][1971]"
   ]
  },
  {
   "cell_type": "code",
   "execution_count": 53,
   "metadata": {},
   "outputs": [
    {
     "data": {
      "text/plain": [
       "'try svn co url'"
      ]
     },
     "execution_count": 53,
     "metadata": {},
     "output_type": "execute_result"
    }
   ],
   "source": [
    "df_all['chat_message'][2388]"
   ]
  },
  {
   "cell_type": "code",
   "execution_count": 54,
   "metadata": {},
   "outputs": [
    {
     "data": {
      "text/plain": [
       "'url'"
      ]
     },
     "execution_count": 54,
     "metadata": {},
     "output_type": "execute_result"
    }
   ],
   "source": [
    "df_all['chat_message'][3407]"
   ]
  },
  {
   "cell_type": "code",
   "execution_count": 56,
   "metadata": {},
   "outputs": [],
   "source": [
    "#df_all.to_csv('spi_nourl.csv', index = False)"
   ]
  },
  {
   "cell_type": "markdown",
   "metadata": {},
   "source": [
    "Identifying and modifying emojicons"
   ]
  },
  {
   "cell_type": "code",
   "execution_count": 59,
   "metadata": {},
   "outputs": [
    {
     "name": "stdout",
     "output_type": "stream",
     "text": [
      "This is a smiley face 😂\n",
      "This is a smiley face \n"
     ]
    }
   ],
   "source": [
    "# stackoverflow: https://stackoverflow.com/questions/33404752/removing-emojis-from-a-string-in-python\n",
    "text = u'This is a smiley face \\U0001f602'\n",
    "print(text) # with emoji\n",
    "\n",
    "def deEmojify(text):\n",
    "    regrex_pattern = re.compile(pattern = \"[\"\n",
    "        u\"\\U0001F600-\\U0001F64F\"  # emoticons\n",
    "        u\"\\U0001F300-\\U0001F5FF\"  # symbols & pictographs\n",
    "        u\"\\U0001F680-\\U0001F6FF\"  # transport & map symbols\n",
    "        u\"\\U0001F1E0-\\U0001F1FF\"  # flags (iOS)\n",
    "                           \"]+\", flags = re.UNICODE)\n",
    "    return regrex_pattern.sub(r'',text)\n",
    "\n",
    "print(deEmojify(text))"
   ]
  },
  {
   "cell_type": "markdown",
   "metadata": {},
   "source": [
    "Cleaning text"
   ]
  },
  {
   "cell_type": "code",
   "execution_count": 19,
   "metadata": {},
   "outputs": [
    {
     "data": {
      "text/html": [
       "<div>\n",
       "<style scoped>\n",
       "    .dataframe tbody tr th:only-of-type {\n",
       "        vertical-align: middle;\n",
       "    }\n",
       "\n",
       "    .dataframe tbody tr th {\n",
       "        vertical-align: top;\n",
       "    }\n",
       "\n",
       "    .dataframe thead th {\n",
       "        text-align: right;\n",
       "    }\n",
       "</style>\n",
       "<table border=\"1\" class=\"dataframe\">\n",
       "  <thead>\n",
       "    <tr style=\"text-align: right;\">\n",
       "      <th></th>\n",
       "      <th>conversation_id</th>\n",
       "      <th>message_line</th>\n",
       "      <th>author</th>\n",
       "      <th>time</th>\n",
       "      <th>chat_message</th>\n",
       "      <th>author_id</th>\n",
       "      <th>sexual_predator</th>\n",
       "    </tr>\n",
       "  </thead>\n",
       "  <tbody>\n",
       "    <tr>\n",
       "      <th>0</th>\n",
       "      <td>e621da5de598c9321a1d505ea95e6a2d</td>\n",
       "      <td>1</td>\n",
       "      <td>97964e7a9e8eb9cf78f2e4d7b2ff34c7</td>\n",
       "      <td>03:20</td>\n",
       "      <td>Hola.</td>\n",
       "      <td>0</td>\n",
       "      <td>0</td>\n",
       "    </tr>\n",
       "    <tr>\n",
       "      <th>1</th>\n",
       "      <td>e621da5de598c9321a1d505ea95e6a2d</td>\n",
       "      <td>2</td>\n",
       "      <td>0158d0d6781fc4d493f243d4caa49747</td>\n",
       "      <td>03:20</td>\n",
       "      <td>hi.</td>\n",
       "      <td>0</td>\n",
       "      <td>0</td>\n",
       "    </tr>\n",
       "    <tr>\n",
       "      <th>2</th>\n",
       "      <td>e621da5de598c9321a1d505ea95e6a2d</td>\n",
       "      <td>3</td>\n",
       "      <td>0158d0d6781fc4d493f243d4caa49747</td>\n",
       "      <td>03:20</td>\n",
       "      <td>whats up?</td>\n",
       "      <td>0</td>\n",
       "      <td>0</td>\n",
       "    </tr>\n",
       "  </tbody>\n",
       "</table>\n",
       "</div>"
      ],
      "text/plain": [
       "                    conversation_id  message_line  \\\n",
       "0  e621da5de598c9321a1d505ea95e6a2d             1   \n",
       "1  e621da5de598c9321a1d505ea95e6a2d             2   \n",
       "2  e621da5de598c9321a1d505ea95e6a2d             3   \n",
       "\n",
       "                             author   time chat_message author_id  \\\n",
       "0  97964e7a9e8eb9cf78f2e4d7b2ff34c7  03:20        Hola.         0   \n",
       "1  0158d0d6781fc4d493f243d4caa49747  03:20          hi.         0   \n",
       "2  0158d0d6781fc4d493f243d4caa49747  03:20    whats up?         0   \n",
       "\n",
       "   sexual_predator  \n",
       "0                0  \n",
       "1                0  \n",
       "2                0  "
      ]
     },
     "execution_count": 19,
     "metadata": {},
     "output_type": "execute_result"
    }
   ],
   "source": [
    "import pandas as pd\n",
    "df_all = pd.read_csv('spi_nourl.csv')\n",
    "df_all.head(3)"
   ]
  },
  {
   "cell_type": "code",
   "execution_count": 20,
   "metadata": {},
   "outputs": [
    {
     "data": {
      "text/plain": [
       "(903604, 7)"
      ]
     },
     "execution_count": 20,
     "metadata": {},
     "output_type": "execute_result"
    }
   ],
   "source": [
    "df_all.shape"
   ]
  },
  {
   "cell_type": "code",
   "execution_count": 21,
   "metadata": {},
   "outputs": [
    {
     "data": {
      "text/plain": [
       "['whats', 'up?']"
      ]
     },
     "execution_count": 21,
     "metadata": {},
     "output_type": "execute_result"
    }
   ],
   "source": [
    "df_all['chat_message'][2].split()"
   ]
  },
  {
   "cell_type": "code",
   "execution_count": 23,
   "metadata": {},
   "outputs": [
    {
     "data": {
      "text/plain": [
       "'whats up'"
      ]
     },
     "execution_count": 23,
     "metadata": {},
     "output_type": "execute_result"
    }
   ],
   "source": [
    "import re\n",
    "pattern = r\"[$&+,:;=_?@#|\\[\\]{}'<>.^*()%!-]\"\n",
    "t = ' '.join(re.sub(pattern, '', df_all['chat_message'][2]).strip().split())\n",
    "t"
   ]
  },
  {
   "cell_type": "code",
   "execution_count": 24,
   "metadata": {},
   "outputs": [
    {
     "data": {
      "text/plain": [
       "'whats up'"
      ]
     },
     "execution_count": 24,
     "metadata": {},
     "output_type": "execute_result"
    }
   ],
   "source": [
    "' '.join([word for word in t.split() if word.isalpha()])"
   ]
  },
  {
   "cell_type": "code",
   "execution_count": 12,
   "metadata": {},
   "outputs": [
    {
     "data": {
      "text/plain": [
       "'Bug url nor surkovalexander ASSI Column header accessibles are not ordered according to visual order'"
      ]
     },
     "execution_count": 12,
     "metadata": {},
     "output_type": "execute_result"
    }
   ],
   "source": [
    "unicodedata.normalize('NFKD', t).encode('ascii', 'ignore').decode('utf-8', 'ignore')"
   ]
  },
  {
   "cell_type": "code",
   "execution_count": 13,
   "metadata": {},
   "outputs": [],
   "source": [
    "import contractions\n",
    "import unicodedata\n",
    "from nltk.corpus import stopwords\n",
    "from nltk.stem.porter import PorterStemmer\n",
    "ps = PorterStemmer()\n",
    "stop_words = stopwords.words('english')\n",
    "pattern = r\"[$&+,:;=_?@#|\\[\\]{}'<>.^*()%!-]\"\n",
    "def clean_text(text):\n",
    "    text = ' '.join(re.sub(pattern, '', text).strip().split()) # remove punctuations\n",
    "    text = ' '.join([word for word in text.split() if word.isalpha()]) # only words\n",
    "    #text = BeautifulSoup(text).get_text() #html\n",
    "    text = text.lower() #lower case\n",
    "    text = contractions.fix(text) #contractions\n",
    "    text = unicodedata.normalize('NFKD', text).encode('ascii', 'ignore').decode('utf-8', 'ignore') #symbols\n",
    "    text = ' '.join(word for word in text.split() if word not in stop_words) # stopwords\n",
    "    text = ' '.join([ps.stem(word) for word in text.split()]) #stem\n",
    "    return text"
   ]
  },
  {
   "cell_type": "code",
   "execution_count": 28,
   "metadata": {},
   "outputs": [],
   "source": [
    "df_all['chat_message'] = df_all['chat_message'].apply(lambda x: clean_text(x))"
   ]
  },
  {
   "cell_type": "code",
   "execution_count": 15,
   "metadata": {},
   "outputs": [],
   "source": [
    "#df_all.to_csv('spi_clean.csv', index = False)"
   ]
  },
  {
   "cell_type": "code",
   "execution_count": 29,
   "metadata": {},
   "outputs": [
    {
     "data": {
      "text/plain": [
       "(903604, 7)"
      ]
     },
     "execution_count": 29,
     "metadata": {},
     "output_type": "execute_result"
    }
   ],
   "source": [
    "df_all.shape"
   ]
  },
  {
   "cell_type": "code",
   "execution_count": 30,
   "metadata": {},
   "outputs": [
    {
     "data": {
      "text/html": [
       "<div>\n",
       "<style scoped>\n",
       "    .dataframe tbody tr th:only-of-type {\n",
       "        vertical-align: middle;\n",
       "    }\n",
       "\n",
       "    .dataframe tbody tr th {\n",
       "        vertical-align: top;\n",
       "    }\n",
       "\n",
       "    .dataframe thead th {\n",
       "        text-align: right;\n",
       "    }\n",
       "</style>\n",
       "<table border=\"1\" class=\"dataframe\">\n",
       "  <thead>\n",
       "    <tr style=\"text-align: right;\">\n",
       "      <th></th>\n",
       "      <th>conversation_id</th>\n",
       "      <th>message_line</th>\n",
       "      <th>author</th>\n",
       "      <th>time</th>\n",
       "      <th>chat_message</th>\n",
       "      <th>author_id</th>\n",
       "      <th>sexual_predator</th>\n",
       "    </tr>\n",
       "  </thead>\n",
       "  <tbody>\n",
       "    <tr>\n",
       "      <th>0</th>\n",
       "      <td>e621da5de598c9321a1d505ea95e6a2d</td>\n",
       "      <td>1</td>\n",
       "      <td>97964e7a9e8eb9cf78f2e4d7b2ff34c7</td>\n",
       "      <td>03:20</td>\n",
       "      <td>hola</td>\n",
       "      <td>0</td>\n",
       "      <td>0</td>\n",
       "    </tr>\n",
       "    <tr>\n",
       "      <th>1</th>\n",
       "      <td>e621da5de598c9321a1d505ea95e6a2d</td>\n",
       "      <td>2</td>\n",
       "      <td>0158d0d6781fc4d493f243d4caa49747</td>\n",
       "      <td>03:20</td>\n",
       "      <td>hi</td>\n",
       "      <td>0</td>\n",
       "      <td>0</td>\n",
       "    </tr>\n",
       "    <tr>\n",
       "      <th>2</th>\n",
       "      <td>e621da5de598c9321a1d505ea95e6a2d</td>\n",
       "      <td>3</td>\n",
       "      <td>0158d0d6781fc4d493f243d4caa49747</td>\n",
       "      <td>03:20</td>\n",
       "      <td></td>\n",
       "      <td>0</td>\n",
       "      <td>0</td>\n",
       "    </tr>\n",
       "    <tr>\n",
       "      <th>3</th>\n",
       "      <td>e621da5de598c9321a1d505ea95e6a2d</td>\n",
       "      <td>4</td>\n",
       "      <td>97964e7a9e8eb9cf78f2e4d7b2ff34c7</td>\n",
       "      <td>03:20</td>\n",
       "      <td>ton</td>\n",
       "      <td>0</td>\n",
       "      <td>0</td>\n",
       "    </tr>\n",
       "    <tr>\n",
       "      <th>4</th>\n",
       "      <td>e621da5de598c9321a1d505ea95e6a2d</td>\n",
       "      <td>5</td>\n",
       "      <td>97964e7a9e8eb9cf78f2e4d7b2ff34c7</td>\n",
       "      <td>03:20</td>\n",
       "      <td></td>\n",
       "      <td>0</td>\n",
       "      <td>0</td>\n",
       "    </tr>\n",
       "  </tbody>\n",
       "</table>\n",
       "</div>"
      ],
      "text/plain": [
       "                    conversation_id  message_line  \\\n",
       "0  e621da5de598c9321a1d505ea95e6a2d             1   \n",
       "1  e621da5de598c9321a1d505ea95e6a2d             2   \n",
       "2  e621da5de598c9321a1d505ea95e6a2d             3   \n",
       "3  e621da5de598c9321a1d505ea95e6a2d             4   \n",
       "4  e621da5de598c9321a1d505ea95e6a2d             5   \n",
       "\n",
       "                             author   time chat_message author_id  \\\n",
       "0  97964e7a9e8eb9cf78f2e4d7b2ff34c7  03:20         hola         0   \n",
       "1  0158d0d6781fc4d493f243d4caa49747  03:20           hi         0   \n",
       "2  0158d0d6781fc4d493f243d4caa49747  03:20                      0   \n",
       "3  97964e7a9e8eb9cf78f2e4d7b2ff34c7  03:20          ton         0   \n",
       "4  97964e7a9e8eb9cf78f2e4d7b2ff34c7  03:20                      0   \n",
       "\n",
       "   sexual_predator  \n",
       "0                0  \n",
       "1                0  \n",
       "2                0  \n",
       "3                0  \n",
       "4                0  "
      ]
     },
     "execution_count": 30,
     "metadata": {},
     "output_type": "execute_result"
    }
   ],
   "source": [
    "df_all.head()"
   ]
  },
  {
   "cell_type": "markdown",
   "metadata": {},
   "source": [
    "Subsetting the dataframe with atleast two words in it"
   ]
  },
  {
   "cell_type": "code",
   "execution_count": 35,
   "metadata": {},
   "outputs": [],
   "source": [
    "df_all_sub = df_all[df_all['chat_message'].apply(lambda x: len(x.split()) > 1)]\n",
    "df_all_sub.index = range(0, df_all_sub.shape[0])"
   ]
  },
  {
   "cell_type": "code",
   "execution_count": 36,
   "metadata": {},
   "outputs": [
    {
     "data": {
      "text/plain": [
       "(499449, 7)"
      ]
     },
     "execution_count": 36,
     "metadata": {},
     "output_type": "execute_result"
    }
   ],
   "source": [
    "df_all_sub.shape"
   ]
  },
  {
   "cell_type": "code",
   "execution_count": null,
   "metadata": {},
   "outputs": [],
   "source": []
  }
 ],
 "metadata": {
  "colab": {
   "authorship_tag": "ABX9TyM6PLfQgf2dxs0f8yg/AxU6",
   "collapsed_sections": [],
   "name": "Explorator Analysis.ipynb",
   "provenance": []
  },
  "kernelspec": {
   "display_name": "Python 3",
   "language": "python",
   "name": "python3"
  },
  "language_info": {
   "codemirror_mode": {
    "name": "ipython",
    "version": 3
   },
   "file_extension": ".py",
   "mimetype": "text/x-python",
   "name": "python",
   "nbconvert_exporter": "python",
   "pygments_lexer": "ipython3",
   "version": "3.7.3"
  }
 },
 "nbformat": 4,
 "nbformat_minor": 1
}
