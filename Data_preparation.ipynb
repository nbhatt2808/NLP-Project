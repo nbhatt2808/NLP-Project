{
  "nbformat": 4,
  "nbformat_minor": 0,
  "metadata": {
    "kernelspec": {
      "display_name": "Python 3",
      "language": "python",
      "name": "python3"
    },
    "language_info": {
      "codemirror_mode": {
        "name": "ipython",
        "version": 3
      },
      "file_extension": ".py",
      "mimetype": "text/x-python",
      "name": "python",
      "nbconvert_exporter": "python",
      "pygments_lexer": "ipython3",
      "version": "3.7.3"
    },
    "colab": {
      "name": "Data preparation.ipynb",
      "provenance": [],
      "collapsed_sections": []
    }
  },
  "cells": [
    {
      "cell_type": "code",
      "metadata": {
        "id": "jS_QhQrS6AR7",
        "colab_type": "code",
        "colab": {
          "base_uri": "https://localhost:8080/",
          "height": 124
        },
        "outputId": "f4a9b04d-2c60-4e45-9364-16437031ca60"
      },
      "source": [
        "from google.colab import drive\n",
        "drive.mount('gdrive')"
      ],
      "execution_count": 1,
      "outputs": [
        {
          "output_type": "stream",
          "text": [
            "Go to this URL in a browser: https://accounts.google.com/o/oauth2/auth?client_id=947318989803-6bn6qk8qdgf4n4g3pfee6491hc0brc4i.apps.googleusercontent.com&redirect_uri=urn%3aietf%3awg%3aoauth%3a2.0%3aoob&response_type=code&scope=email%20https%3a%2f%2fwww.googleapis.com%2fauth%2fdocs.test%20https%3a%2f%2fwww.googleapis.com%2fauth%2fdrive%20https%3a%2f%2fwww.googleapis.com%2fauth%2fdrive.photos.readonly%20https%3a%2f%2fwww.googleapis.com%2fauth%2fpeopleapi.readonly\n",
            "\n",
            "Enter your authorization code:\n",
            "··········\n",
            "Mounted at gdrive\n"
          ],
          "name": "stdout"
        }
      ]
    },
    {
      "cell_type": "code",
      "metadata": {
        "id": "ZonSG-Zm6R5P",
        "colab_type": "code",
        "colab": {
          "base_uri": "https://localhost:8080/",
          "height": 35
        },
        "outputId": "d01fb988-b1d6-427e-bd3e-f5853358844e"
      },
      "source": [
        "cd gdrive/My\\ Drive"
      ],
      "execution_count": 2,
      "outputs": [
        {
          "output_type": "stream",
          "text": [
            "/content/gdrive/My Drive\n"
          ],
          "name": "stdout"
        }
      ]
    },
    {
      "cell_type": "code",
      "metadata": {
        "id": "zqKEBfaE6iGG",
        "colab_type": "code",
        "colab": {
          "base_uri": "https://localhost:8080/",
          "height": 35
        },
        "outputId": "dd455f5d-0967-43f5-e635-438b759ce180"
      },
      "source": [
        "cd Final\\ project"
      ],
      "execution_count": 9,
      "outputs": [
        {
          "output_type": "stream",
          "text": [
            "/content/gdrive/My Drive/Final project\n"
          ],
          "name": "stdout"
        }
      ]
    },
    {
      "cell_type": "code",
      "metadata": {
        "id": "nXDYpUWg6krH",
        "colab_type": "code",
        "colab": {
          "base_uri": "https://localhost:8080/",
          "height": 104
        },
        "outputId": "d919f796-21de-44e3-8042-b04b45054c5b"
      },
      "source": [
        "!ls"
      ],
      "execution_count": 10,
      "outputs": [
        {
          "output_type": "stream",
          "text": [
            "'A Novel Way of Identifying Cyber Predators.pdf'   hillary_tweets.csv\n",
            "'Data Exploration.ipynb'\t\t\t  'sp test corpus'\n",
            "'Data preparation.ipynb'\t\t\t  'sp training corpus'\n",
            " final_prep.html\t\t\t\t  'Tweet data extraction.ipynb'\n",
            " final_prep.Rmd\n"
          ],
          "name": "stdout"
        }
      ]
    },
    {
      "cell_type": "code",
      "metadata": {
        "id": "VWVf9DxA5kZ3",
        "colab_type": "code",
        "colab": {}
      },
      "source": [
        "txt_file = open('sp training corpus/pan12-sexual-predator-identification-training-corpus-predators-2012-05-01.txt', 'r')\n",
        "file = txt_file.readlines()"
      ],
      "execution_count": 11,
      "outputs": []
    },
    {
      "cell_type": "code",
      "metadata": {
        "id": "vjXJsY6l5kZ7",
        "colab_type": "code",
        "colab": {
          "base_uri": "https://localhost:8080/",
          "height": 35
        },
        "outputId": "38ed80bc-5202-4c30-e906-ad51015469d4"
      },
      "source": [
        "len(file)"
      ],
      "execution_count": 12,
      "outputs": [
        {
          "output_type": "execute_result",
          "data": {
            "text/plain": [
              "142"
            ]
          },
          "metadata": {
            "tags": []
          },
          "execution_count": 12
        }
      ]
    },
    {
      "cell_type": "code",
      "metadata": {
        "id": "XHkW2cE75kaB",
        "colab_type": "code",
        "colab": {}
      },
      "source": [
        "txt_file1 = open('sp training corpus/pan12-sexual-predator-identification-diff.txt', 'r')\n",
        "file1 = txt_file1.readlines()"
      ],
      "execution_count": 13,
      "outputs": []
    },
    {
      "cell_type": "code",
      "metadata": {
        "id": "bi8j3Ati5kaD",
        "colab_type": "code",
        "colab": {
          "base_uri": "https://localhost:8080/",
          "height": 35
        },
        "outputId": "02f4ad97-5c36-428a-f3e4-996487b4faf7"
      },
      "source": [
        "len(file1)"
      ],
      "execution_count": 14,
      "outputs": [
        {
          "output_type": "execute_result",
          "data": {
            "text/plain": [
              "16948"
            ]
          },
          "metadata": {
            "tags": []
          },
          "execution_count": 14
        }
      ]
    },
    {
      "cell_type": "code",
      "metadata": {
        "id": "0ieSDKhT5kaF",
        "colab_type": "code",
        "colab": {
          "base_uri": "https://localhost:8080/",
          "height": 35
        },
        "outputId": "0f494e34-33b3-489d-9617-0eb81919c337"
      },
      "source": [
        "file[0]"
      ],
      "execution_count": 15,
      "outputs": [
        {
          "output_type": "execute_result",
          "data": {
            "text/plain": [
              "'00851429b21722a4d62f63a328c601ca\\n'"
            ]
          },
          "metadata": {
            "tags": []
          },
          "execution_count": 15
        }
      ]
    },
    {
      "cell_type": "code",
      "metadata": {
        "id": "PMC-TvqZ5kaI",
        "colab_type": "code",
        "colab": {
          "base_uri": "https://localhost:8080/",
          "height": 35
        },
        "outputId": "938643ec-a957-40cf-862d-b20d6a9b328a"
      },
      "source": [
        "file1[0]"
      ],
      "execution_count": 16,
      "outputs": [
        {
          "output_type": "execute_result",
          "data": {
            "text/plain": [
              "'0af080e9433ebd6802551f2e6a4c1bee\\t1\\n'"
            ]
          },
          "metadata": {
            "tags": []
          },
          "execution_count": 16
        }
      ]
    },
    {
      "cell_type": "code",
      "metadata": {
        "id": "2EM-PX0f5kaK",
        "colab_type": "code",
        "colab": {}
      },
      "source": [
        "from bs4 import BeautifulSoup\n",
        "data = open('sp training corpus/pan12-sexual-predator-identification-training-corpus-2012-05-01.xml', 'r', encoding = 'utf-8')\n",
        "contents = data.read()\n",
        "extract = BeautifulSoup(contents, 'xml')\n",
        "texts = extract.find_all(['conversation'])"
      ],
      "execution_count": 17,
      "outputs": []
    },
    {
      "cell_type": "code",
      "metadata": {
        "id": "HSqugBHp5kaS",
        "colab_type": "code",
        "colab": {
          "base_uri": "https://localhost:8080/",
          "height": 35
        },
        "outputId": "fd6932b8-21a7-47e0-de02-91c13ff6e928"
      },
      "source": [
        "len(texts)"
      ],
      "execution_count": 18,
      "outputs": [
        {
          "output_type": "execute_result",
          "data": {
            "text/plain": [
              "66927"
            ]
          },
          "metadata": {
            "tags": []
          },
          "execution_count": 18
        }
      ]
    },
    {
      "cell_type": "code",
      "metadata": {
        "id": "6tLoKg7I5kaU",
        "colab_type": "code",
        "colab": {
          "base_uri": "https://localhost:8080/",
          "height": 399
        },
        "outputId": "58eb598b-a00a-4575-ea4d-363e578516d1"
      },
      "source": [
        "texts[-2]"
      ],
      "execution_count": 23,
      "outputs": [
        {
          "output_type": "execute_result",
          "data": {
            "text/plain": [
              "<conversation id=\"588c0826629526d6a3512c6d6c81bf42\">\n",
              "<message line=\"1\">\n",
              "<author>7c1e11b36deddcff88d2007f0127b39c</author>\n",
              "<time>19:40</time>\n",
              "<text>hi, Im male 22 and u?</text>\n",
              "</message>\n",
              "<message line=\"2\">\n",
              "<author>780a4968748d2608f35ab09258149793</author>\n",
              "<time>19:40</time>\n",
              "<text>hey:)</text>\n",
              "</message>\n",
              "<message line=\"3\">\n",
              "<author>780a4968748d2608f35ab09258149793</author>\n",
              "<time>19:40</time>\n",
              "<text>swe 17</text>\n",
              "</message>\n",
              "<message line=\"4\">\n",
              "<author>780a4968748d2608f35ab09258149793</author>\n",
              "<time>19:40</time>\n",
              "<text>f</text>\n",
              "</message>\n",
              "</conversation>"
            ]
          },
          "metadata": {
            "tags": []
          },
          "execution_count": 23
        }
      ]
    },
    {
      "cell_type": "code",
      "metadata": {
        "id": "cuDTeNgy7wQy",
        "colab_type": "code",
        "colab": {
          "base_uri": "https://localhost:8080/",
          "height": 1000
        },
        "outputId": "0e16de59-ae63-4570-c3d7-17f7e8496bdc"
      },
      "source": [
        "texts[0:2]"
      ],
      "execution_count": 24,
      "outputs": [
        {
          "output_type": "execute_result",
          "data": {
            "text/plain": [
              "[<conversation id=\"e621da5de598c9321a1d505ea95e6a2d\">\n",
              " <message line=\"1\">\n",
              " <author>97964e7a9e8eb9cf78f2e4d7b2ff34c7</author>\n",
              " <time>03:20</time>\n",
              " <text>Hola.</text>\n",
              " </message>\n",
              " <message line=\"2\">\n",
              " <author>0158d0d6781fc4d493f243d4caa49747</author>\n",
              " <time>03:20</time>\n",
              " <text>hi.</text>\n",
              " </message>\n",
              " <message line=\"3\">\n",
              " <author>0158d0d6781fc4d493f243d4caa49747</author>\n",
              " <time>03:20</time>\n",
              " <text>whats up?</text>\n",
              " </message>\n",
              " <message line=\"4\">\n",
              " <author>97964e7a9e8eb9cf78f2e4d7b2ff34c7</author>\n",
              " <time>03:20</time>\n",
              " <text>not a ton.</text>\n",
              " </message>\n",
              " <message line=\"5\">\n",
              " <author>97964e7a9e8eb9cf78f2e4d7b2ff34c7</author>\n",
              " <time>03:20</time>\n",
              " <text>you?</text>\n",
              " </message>\n",
              " <message line=\"6\">\n",
              " <author>0158d0d6781fc4d493f243d4caa49747</author>\n",
              " <time>03:20</time>\n",
              " <text>same.  being lazy.  M or f?</text>\n",
              " </message>\n",
              " <message line=\"7\">\n",
              " <author>97964e7a9e8eb9cf78f2e4d7b2ff34c7</author>\n",
              " <time>03:20</time>\n",
              " <text>F.</text>\n",
              " </message>\n",
              " <message line=\"8\">\n",
              " <author>97964e7a9e8eb9cf78f2e4d7b2ff34c7</author>\n",
              " <time>03:21</time>\n",
              " <text>Ditto, I&amp;apos;ve done absolutely nothing with my day besides watching stuff on Hulu.</text>\n",
              " </message>\n",
              " <message line=\"9\">\n",
              " <author>0158d0d6781fc4d493f243d4caa49747</author>\n",
              " <time>03:21</time>\n",
              " <text>M here.  Just got home from weekend trip.  Tired.</text>\n",
              " </message>\n",
              " <message line=\"10\">\n",
              " <author>97964e7a9e8eb9cf78f2e4d7b2ff34c7</author>\n",
              " <time>03:21</time>\n",
              " <text>Oh, cool. Family thing?</text>\n",
              " </message>\n",
              " <message line=\"11\">\n",
              " <author>0158d0d6781fc4d493f243d4caa49747</author>\n",
              " <time>03:22</time>\n",
              " <text>yeah.</text>\n",
              " </message>\n",
              " <message line=\"12\">\n",
              " <author>0158d0d6781fc4d493f243d4caa49747</author>\n",
              " <time>03:22</time>\n",
              " <text>a &amp;amp; l?</text>\n",
              " </message>\n",
              " <message line=\"13\">\n",
              " <author>97964e7a9e8eb9cf78f2e4d7b2ff34c7</author>\n",
              " <time>03:22</time>\n",
              " <text>Gotta love those.</text>\n",
              " </message>\n",
              " <message line=\"14\">\n",
              " <author>97964e7a9e8eb9cf78f2e4d7b2ff34c7</author>\n",
              " <time>03:22</time>\n",
              " <text>17, Hawaii.</text>\n",
              " </message>\n",
              " <message line=\"15\">\n",
              " <author>97964e7a9e8eb9cf78f2e4d7b2ff34c7</author>\n",
              " <time>03:23</time>\n",
              " <text>and yourself?</text>\n",
              " </message>\n",
              " <message line=\"16\">\n",
              " <author>0158d0d6781fc4d493f243d4caa49747</author>\n",
              " <time>03:23</time>\n",
              " <text>Uh oh.  older. 30</text>\n",
              " </message>\n",
              " <message line=\"17\">\n",
              " <author>0158d0d6781fc4d493f243d4caa49747</author>\n",
              " <time>03:23</time>\n",
              " <text>Been to Hawaii.</text>\n",
              " </message>\n",
              " <message line=\"18\">\n",
              " <author>97964e7a9e8eb9cf78f2e4d7b2ff34c7</author>\n",
              " <time>03:23</time>\n",
              " <text>whoops xD</text>\n",
              " </message>\n",
              " <message line=\"19\">\n",
              " <author>97964e7a9e8eb9cf78f2e4d7b2ff34c7</author>\n",
              " <time>03:23</time>\n",
              " <text>It&amp;apos;s nice, isn&amp;apos;t it?</text>\n",
              " </message>\n",
              " <message line=\"20\">\n",
              " <author>0158d0d6781fc4d493f243d4caa49747</author>\n",
              " <time>03:24</time>\n",
              " <text>Yeah.  Always enjoy visiting.</text>\n",
              " </message>\n",
              " <message line=\"21\">\n",
              " <author>0158d0d6781fc4d493f243d4caa49747</author>\n",
              " <time>03:24</time>\n",
              " <text>Which Island you on Oahu?</text>\n",
              " </message>\n",
              " <message line=\"22\">\n",
              " <author>97964e7a9e8eb9cf78f2e4d7b2ff34c7</author>\n",
              " <time>03:24</time>\n",
              " <text>married?</text>\n",
              " </message>\n",
              " <message line=\"23\">\n",
              " <author>97964e7a9e8eb9cf78f2e4d7b2ff34c7</author>\n",
              " <time>03:24</time>\n",
              " <text>i&amp;apos;m assuming since you went on a &amp;apos;family&amp;apos; trip :p</text>\n",
              " </message>\n",
              " <message line=\"24\">\n",
              " <author>0158d0d6781fc4d493f243d4caa49747</author>\n",
              " <time>03:25</time>\n",
              " <text>yeah. Just found this site a few days ago.</text>\n",
              " </message>\n",
              " <message line=\"25\">\n",
              " <author>97964e7a9e8eb9cf78f2e4d7b2ff34c7</author>\n",
              " <time>03:25</time>\n",
              " <text>Yeah, Oahu.</text>\n",
              " </message>\n",
              " <message line=\"26\">\n",
              " <author>0158d0d6781fc4d493f243d4caa49747</author>\n",
              " <time>03:25</time>\n",
              " <text>Curious to the whole &amp;quot;random thing&amp;quot;</text>\n",
              " </message>\n",
              " <message line=\"27\">\n",
              " <author>97964e7a9e8eb9cf78f2e4d7b2ff34c7</author>\n",
              " <time>03:25</time>\n",
              " <text>Pretty crazy the individuals you meet, isn&amp;apos;t it?</text>\n",
              " </message>\n",
              " <message line=\"28\">\n",
              " <author>0158d0d6781fc4d493f243d4caa49747</author>\n",
              " <time>03:25</time>\n",
              " <text>It&amp;apos;s been eye opening for sure.</text>\n",
              " </message>\n",
              " <message line=\"29\">\n",
              " <author>97964e7a9e8eb9cf78f2e4d7b2ff34c7</author>\n",
              " <time>03:25</time>\n",
              " <text>Yeah, I hear you.</text>\n",
              " </message>\n",
              " <message line=\"30\">\n",
              " <author>0158d0d6781fc4d493f243d4caa49747</author>\n",
              " <time>03:25</time>\n",
              " <text>I&amp;apos;m pretty open to meet/talk to anyone.</text>\n",
              " </message>\n",
              " <message line=\"31\">\n",
              " <author>0158d0d6781fc4d493f243d4caa49747</author>\n",
              " <time>03:26</time>\n",
              " <text>But pretty clear what most are looking for on this site, it seems.</text>\n",
              " </message>\n",
              " <message line=\"32\">\n",
              " <author>97964e7a9e8eb9cf78f2e4d7b2ff34c7</author>\n",
              " <time>03:27</time>\n",
              " <text>Half the people that strike up a conversation only seem to be interested in more. . risque topics.</text>\n",
              " </message>\n",
              " <message line=\"33\">\n",
              " <author>97964e7a9e8eb9cf78f2e4d7b2ff34c7</author>\n",
              " <time>03:27</time>\n",
              " <text>What more do you expect though, ya know?</text>\n",
              " </message>\n",
              " <message line=\"34\">\n",
              " <author>0158d0d6781fc4d493f243d4caa49747</author>\n",
              " <time>03:27</time>\n",
              " <text>Yep.  It&amp;apos;s the internet.</text>\n",
              " </message>\n",
              " <message line=\"35\">\n",
              " <author>0158d0d6781fc4d493f243d4caa49747</author>\n",
              " <time>03:28</time>\n",
              " <text>You seem to take it pretty well.</text>\n",
              " </message>\n",
              " <message line=\"36\">\n",
              " <author>97964e7a9e8eb9cf78f2e4d7b2ff34c7</author>\n",
              " <time>03:28</time>\n",
              " <text>Pardon?</text>\n",
              " </message>\n",
              " <message line=\"37\">\n",
              " <author>0158d0d6781fc4d493f243d4caa49747</author>\n",
              " <time>03:28</time>\n",
              " <text>I just mean you seem to handle the obvious shennagans on here pretty well.</text>\n",
              " </message>\n",
              " <message line=\"38\">\n",
              " <author>0158d0d6781fc4d493f243d4caa49747</author>\n",
              " <time>03:28</time>\n",
              " <text>harder for ladies on here for sure.</text>\n",
              " </message>\n",
              " <message line=\"39\">\n",
              " <author>97964e7a9e8eb9cf78f2e4d7b2ff34c7</author>\n",
              " <time>03:29</time>\n",
              " <text>Ah, yeah.</text>\n",
              " </message>\n",
              " <message line=\"40\">\n",
              " <author>97964e7a9e8eb9cf78f2e4d7b2ff34c7</author>\n",
              " <time>03:29</time>\n",
              " <text>That&amp;apos;s what the wonderful &amp;quot;disconnect&amp;quot; button is for.</text>\n",
              " </message>\n",
              " <message line=\"41\">\n",
              " <author>0158d0d6781fc4d493f243d4caa49747</author>\n",
              " <time>03:29</time>\n",
              " <text>LMAO, yes it is :)</text>\n",
              " </message>\n",
              " <message line=\"42\">\n",
              " <author>0158d0d6781fc4d493f243d4caa49747</author>\n",
              " <time>03:30</time>\n",
              " <text>So..I said I was new to this, right?</text>\n",
              " </message>\n",
              " <message line=\"43\">\n",
              " <author>97964e7a9e8eb9cf78f2e4d7b2ff34c7</author>\n",
              " <time>03:30</time>\n",
              " <text>You mentioned it, yeah.</text>\n",
              " </message>\n",
              " <message line=\"44\">\n",
              " <author>0158d0d6781fc4d493f243d4caa49747</author>\n",
              " <time>03:30</time>\n",
              " <text>I thought I&amp;apos;d turn on cam.  After 10 mins, turned it off.</text>\n",
              " </message>\n",
              " <message line=\"45\">\n",
              " <author>0158d0d6781fc4d493f243d4caa49747</author>\n",
              " <time>03:30</time>\n",
              " <text>Went back to text.</text>\n",
              " </message>\n",
              " <message line=\"46\">\n",
              " <author>97964e7a9e8eb9cf78f2e4d7b2ff34c7</author>\n",
              " <time>03:31</time>\n",
              " <text>Yeah, I haven&amp;apos;t bothered touching that button. Sounds too risky to me.</text>\n",
              " </message>\n",
              " <message line=\"47\">\n",
              " <author>0158d0d6781fc4d493f243d4caa49747</author>\n",
              " <time>03:32</time>\n",
              " <text>It&amp;apos;s a mix of stuff, but one big difference.</text>\n",
              " </message>\n",
              " <message line=\"48\">\n",
              " <author>0158d0d6781fc4d493f243d4caa49747</author>\n",
              " <time>03:32</time>\n",
              " <text>Cam = not such good conversation.</text>\n",
              " </message>\n",
              " <message line=\"49\">\n",
              " <author>97964e7a9e8eb9cf78f2e4d7b2ff34c7</author>\n",
              " <time>03:33</time>\n",
              " <text>It&amp;apos;s the reason more individuals text than call these days. More response time, better things to say, suspense, etc.</text>\n",
              " </message>\n",
              " <message line=\"50\">\n",
              " <author>0158d0d6781fc4d493f243d4caa49747</author>\n",
              " <time>03:33</time>\n",
              " <text>Makes sense.</text>\n",
              " </message>\n",
              " <message line=\"51\">\n",
              " <author>0158d0d6781fc4d493f243d4caa49747</author>\n",
              " <time>03:34</time>\n",
              " <text>So, you been using this site very long?</text>\n",
              " </message>\n",
              " <message line=\"52\">\n",
              " <author>0158d0d6781fc4d493f243d4caa49747</author>\n",
              " <time>03:34</time>\n",
              " <text>what interests you w/ it?</text>\n",
              " </message>\n",
              " <message line=\"53\">\n",
              " <author>97964e7a9e8eb9cf78f2e4d7b2ff34c7</author>\n",
              " <time>03:35</time>\n",
              " <text>You see quite a few characters.</text>\n",
              " </message>\n",
              " <message line=\"54\">\n",
              " <author>97964e7a9e8eb9cf78f2e4d7b2ff34c7</author>\n",
              " <time>03:35</time>\n",
              " <text>Gives me a laugh.</text>\n",
              " </message>\n",
              " <message line=\"55\">\n",
              " <author>0158d0d6781fc4d493f243d4caa49747</author>\n",
              " <time>03:35</time>\n",
              " <text>Bet it does.</text>\n",
              " </message>\n",
              " <message line=\"56\">\n",
              " <author>97964e7a9e8eb9cf78f2e4d7b2ff34c7</author>\n",
              " <time>03:36</time>\n",
              " <text>I think it&amp;apos;s quite funny, trying to figure out people.</text>\n",
              " </message>\n",
              " <message line=\"57\">\n",
              " <author>0158d0d6781fc4d493f243d4caa49747</author>\n",
              " <time>03:37</time>\n",
              " <text>Well, even though I&amp;apos;m glad to chat w/ ya &amp;amp; you&amp;apos;re quite...probably better I let you connect w/ someone a bit younger, eh?</text>\n",
              " </message>\n",
              " <message line=\"58\">\n",
              " <author>97964e7a9e8eb9cf78f2e4d7b2ff34c7</author>\n",
              " <time>03:37</time>\n",
              " <text>I s&amp;apos;pose.</text>\n",
              " </message>\n",
              " <message line=\"59\">\n",
              " <author>97964e7a9e8eb9cf78f2e4d7b2ff34c7</author>\n",
              " <time>03:37</time>\n",
              " <text>It was a pleasure meeting you.</text>\n",
              " </message>\n",
              " <message line=\"60\">\n",
              " <author>97964e7a9e8eb9cf78f2e4d7b2ff34c7</author>\n",
              " <time>03:37</time>\n",
              " <text>Happy chatting!</text>\n",
              " </message>\n",
              " <message line=\"61\">\n",
              " <author>0158d0d6781fc4d493f243d4caa49747</author>\n",
              " <time>03:38</time>\n",
              " <text>You too!  Be safe!</text>\n",
              " </message>\n",
              " <message line=\"62\">\n",
              " <author>0158d0d6781fc4d493f243d4caa49747</author>\n",
              " <time>03:38</time>\n",
              " <text>bye</text>\n",
              " </message>\n",
              " </conversation>, <conversation id=\"1f1298186cac7c8e97ec901f30aa47f4\">\n",
              " <message line=\"1\">\n",
              " <author>ba209a914b0d43e49df90df597464589</author>\n",
              " <time>14:36</time>\n",
              " <text>asuu</text>\n",
              " </message>\n",
              " <message line=\"2\">\n",
              " <author>ba209a914b0d43e49df90df597464589</author>\n",
              " <time>14:36</time>\n",
              " <text>lonte koe</text>\n",
              " </message>\n",
              " <message line=\"3\">\n",
              " <author>ba209a914b0d43e49df90df597464589</author>\n",
              " <time>14:36</time>\n",
              " <text>hi</text>\n",
              " </message>\n",
              " </conversation>]"
            ]
          },
          "metadata": {
            "tags": []
          },
          "execution_count": 24
        }
      ]
    },
    {
      "cell_type": "code",
      "metadata": {
        "id": "VL8fwmcp-ByA",
        "colab_type": "code",
        "colab": {
          "base_uri": "https://localhost:8080/",
          "height": 35
        },
        "outputId": "1361202a-5308-4c93-fde3-e5a2fc6e4f77"
      },
      "source": [
        "type(texts)"
      ],
      "execution_count": 25,
      "outputs": [
        {
          "output_type": "execute_result",
          "data": {
            "text/plain": [
              "bs4.element.ResultSet"
            ]
          },
          "metadata": {
            "tags": []
          },
          "execution_count": 25
        }
      ]
    },
    {
      "cell_type": "code",
      "metadata": {
        "id": "B3DutWPF-EWM",
        "colab_type": "code",
        "colab": {}
      },
      "source": [
        "l = list(texts[0:2])"
      ],
      "execution_count": 26,
      "outputs": []
    },
    {
      "cell_type": "code",
      "metadata": {
        "id": "uWEb5b8Y-U5y",
        "colab_type": "code",
        "colab": {
          "base_uri": "https://localhost:8080/",
          "height": 1000
        },
        "outputId": "d3bacc7a-af54-4fcb-d348-cc3ba6e9e9ee"
      },
      "source": [
        "l"
      ],
      "execution_count": 29,
      "outputs": [
        {
          "output_type": "execute_result",
          "data": {
            "text/plain": [
              "[<conversation id=\"e621da5de598c9321a1d505ea95e6a2d\">\n",
              " <message line=\"1\">\n",
              " <author>97964e7a9e8eb9cf78f2e4d7b2ff34c7</author>\n",
              " <time>03:20</time>\n",
              " <text>Hola.</text>\n",
              " </message>\n",
              " <message line=\"2\">\n",
              " <author>0158d0d6781fc4d493f243d4caa49747</author>\n",
              " <time>03:20</time>\n",
              " <text>hi.</text>\n",
              " </message>\n",
              " <message line=\"3\">\n",
              " <author>0158d0d6781fc4d493f243d4caa49747</author>\n",
              " <time>03:20</time>\n",
              " <text>whats up?</text>\n",
              " </message>\n",
              " <message line=\"4\">\n",
              " <author>97964e7a9e8eb9cf78f2e4d7b2ff34c7</author>\n",
              " <time>03:20</time>\n",
              " <text>not a ton.</text>\n",
              " </message>\n",
              " <message line=\"5\">\n",
              " <author>97964e7a9e8eb9cf78f2e4d7b2ff34c7</author>\n",
              " <time>03:20</time>\n",
              " <text>you?</text>\n",
              " </message>\n",
              " <message line=\"6\">\n",
              " <author>0158d0d6781fc4d493f243d4caa49747</author>\n",
              " <time>03:20</time>\n",
              " <text>same.  being lazy.  M or f?</text>\n",
              " </message>\n",
              " <message line=\"7\">\n",
              " <author>97964e7a9e8eb9cf78f2e4d7b2ff34c7</author>\n",
              " <time>03:20</time>\n",
              " <text>F.</text>\n",
              " </message>\n",
              " <message line=\"8\">\n",
              " <author>97964e7a9e8eb9cf78f2e4d7b2ff34c7</author>\n",
              " <time>03:21</time>\n",
              " <text>Ditto, I&amp;apos;ve done absolutely nothing with my day besides watching stuff on Hulu.</text>\n",
              " </message>\n",
              " <message line=\"9\">\n",
              " <author>0158d0d6781fc4d493f243d4caa49747</author>\n",
              " <time>03:21</time>\n",
              " <text>M here.  Just got home from weekend trip.  Tired.</text>\n",
              " </message>\n",
              " <message line=\"10\">\n",
              " <author>97964e7a9e8eb9cf78f2e4d7b2ff34c7</author>\n",
              " <time>03:21</time>\n",
              " <text>Oh, cool. Family thing?</text>\n",
              " </message>\n",
              " <message line=\"11\">\n",
              " <author>0158d0d6781fc4d493f243d4caa49747</author>\n",
              " <time>03:22</time>\n",
              " <text>yeah.</text>\n",
              " </message>\n",
              " <message line=\"12\">\n",
              " <author>0158d0d6781fc4d493f243d4caa49747</author>\n",
              " <time>03:22</time>\n",
              " <text>a &amp;amp; l?</text>\n",
              " </message>\n",
              " <message line=\"13\">\n",
              " <author>97964e7a9e8eb9cf78f2e4d7b2ff34c7</author>\n",
              " <time>03:22</time>\n",
              " <text>Gotta love those.</text>\n",
              " </message>\n",
              " <message line=\"14\">\n",
              " <author>97964e7a9e8eb9cf78f2e4d7b2ff34c7</author>\n",
              " <time>03:22</time>\n",
              " <text>17, Hawaii.</text>\n",
              " </message>\n",
              " <message line=\"15\">\n",
              " <author>97964e7a9e8eb9cf78f2e4d7b2ff34c7</author>\n",
              " <time>03:23</time>\n",
              " <text>and yourself?</text>\n",
              " </message>\n",
              " <message line=\"16\">\n",
              " <author>0158d0d6781fc4d493f243d4caa49747</author>\n",
              " <time>03:23</time>\n",
              " <text>Uh oh.  older. 30</text>\n",
              " </message>\n",
              " <message line=\"17\">\n",
              " <author>0158d0d6781fc4d493f243d4caa49747</author>\n",
              " <time>03:23</time>\n",
              " <text>Been to Hawaii.</text>\n",
              " </message>\n",
              " <message line=\"18\">\n",
              " <author>97964e7a9e8eb9cf78f2e4d7b2ff34c7</author>\n",
              " <time>03:23</time>\n",
              " <text>whoops xD</text>\n",
              " </message>\n",
              " <message line=\"19\">\n",
              " <author>97964e7a9e8eb9cf78f2e4d7b2ff34c7</author>\n",
              " <time>03:23</time>\n",
              " <text>It&amp;apos;s nice, isn&amp;apos;t it?</text>\n",
              " </message>\n",
              " <message line=\"20\">\n",
              " <author>0158d0d6781fc4d493f243d4caa49747</author>\n",
              " <time>03:24</time>\n",
              " <text>Yeah.  Always enjoy visiting.</text>\n",
              " </message>\n",
              " <message line=\"21\">\n",
              " <author>0158d0d6781fc4d493f243d4caa49747</author>\n",
              " <time>03:24</time>\n",
              " <text>Which Island you on Oahu?</text>\n",
              " </message>\n",
              " <message line=\"22\">\n",
              " <author>97964e7a9e8eb9cf78f2e4d7b2ff34c7</author>\n",
              " <time>03:24</time>\n",
              " <text>married?</text>\n",
              " </message>\n",
              " <message line=\"23\">\n",
              " <author>97964e7a9e8eb9cf78f2e4d7b2ff34c7</author>\n",
              " <time>03:24</time>\n",
              " <text>i&amp;apos;m assuming since you went on a &amp;apos;family&amp;apos; trip :p</text>\n",
              " </message>\n",
              " <message line=\"24\">\n",
              " <author>0158d0d6781fc4d493f243d4caa49747</author>\n",
              " <time>03:25</time>\n",
              " <text>yeah. Just found this site a few days ago.</text>\n",
              " </message>\n",
              " <message line=\"25\">\n",
              " <author>97964e7a9e8eb9cf78f2e4d7b2ff34c7</author>\n",
              " <time>03:25</time>\n",
              " <text>Yeah, Oahu.</text>\n",
              " </message>\n",
              " <message line=\"26\">\n",
              " <author>0158d0d6781fc4d493f243d4caa49747</author>\n",
              " <time>03:25</time>\n",
              " <text>Curious to the whole &amp;quot;random thing&amp;quot;</text>\n",
              " </message>\n",
              " <message line=\"27\">\n",
              " <author>97964e7a9e8eb9cf78f2e4d7b2ff34c7</author>\n",
              " <time>03:25</time>\n",
              " <text>Pretty crazy the individuals you meet, isn&amp;apos;t it?</text>\n",
              " </message>\n",
              " <message line=\"28\">\n",
              " <author>0158d0d6781fc4d493f243d4caa49747</author>\n",
              " <time>03:25</time>\n",
              " <text>It&amp;apos;s been eye opening for sure.</text>\n",
              " </message>\n",
              " <message line=\"29\">\n",
              " <author>97964e7a9e8eb9cf78f2e4d7b2ff34c7</author>\n",
              " <time>03:25</time>\n",
              " <text>Yeah, I hear you.</text>\n",
              " </message>\n",
              " <message line=\"30\">\n",
              " <author>0158d0d6781fc4d493f243d4caa49747</author>\n",
              " <time>03:25</time>\n",
              " <text>I&amp;apos;m pretty open to meet/talk to anyone.</text>\n",
              " </message>\n",
              " <message line=\"31\">\n",
              " <author>0158d0d6781fc4d493f243d4caa49747</author>\n",
              " <time>03:26</time>\n",
              " <text>But pretty clear what most are looking for on this site, it seems.</text>\n",
              " </message>\n",
              " <message line=\"32\">\n",
              " <author>97964e7a9e8eb9cf78f2e4d7b2ff34c7</author>\n",
              " <time>03:27</time>\n",
              " <text>Half the people that strike up a conversation only seem to be interested in more. . risque topics.</text>\n",
              " </message>\n",
              " <message line=\"33\">\n",
              " <author>97964e7a9e8eb9cf78f2e4d7b2ff34c7</author>\n",
              " <time>03:27</time>\n",
              " <text>What more do you expect though, ya know?</text>\n",
              " </message>\n",
              " <message line=\"34\">\n",
              " <author>0158d0d6781fc4d493f243d4caa49747</author>\n",
              " <time>03:27</time>\n",
              " <text>Yep.  It&amp;apos;s the internet.</text>\n",
              " </message>\n",
              " <message line=\"35\">\n",
              " <author>0158d0d6781fc4d493f243d4caa49747</author>\n",
              " <time>03:28</time>\n",
              " <text>You seem to take it pretty well.</text>\n",
              " </message>\n",
              " <message line=\"36\">\n",
              " <author>97964e7a9e8eb9cf78f2e4d7b2ff34c7</author>\n",
              " <time>03:28</time>\n",
              " <text>Pardon?</text>\n",
              " </message>\n",
              " <message line=\"37\">\n",
              " <author>0158d0d6781fc4d493f243d4caa49747</author>\n",
              " <time>03:28</time>\n",
              " <text>I just mean you seem to handle the obvious shennagans on here pretty well.</text>\n",
              " </message>\n",
              " <message line=\"38\">\n",
              " <author>0158d0d6781fc4d493f243d4caa49747</author>\n",
              " <time>03:28</time>\n",
              " <text>harder for ladies on here for sure.</text>\n",
              " </message>\n",
              " <message line=\"39\">\n",
              " <author>97964e7a9e8eb9cf78f2e4d7b2ff34c7</author>\n",
              " <time>03:29</time>\n",
              " <text>Ah, yeah.</text>\n",
              " </message>\n",
              " <message line=\"40\">\n",
              " <author>97964e7a9e8eb9cf78f2e4d7b2ff34c7</author>\n",
              " <time>03:29</time>\n",
              " <text>That&amp;apos;s what the wonderful &amp;quot;disconnect&amp;quot; button is for.</text>\n",
              " </message>\n",
              " <message line=\"41\">\n",
              " <author>0158d0d6781fc4d493f243d4caa49747</author>\n",
              " <time>03:29</time>\n",
              " <text>LMAO, yes it is :)</text>\n",
              " </message>\n",
              " <message line=\"42\">\n",
              " <author>0158d0d6781fc4d493f243d4caa49747</author>\n",
              " <time>03:30</time>\n",
              " <text>So..I said I was new to this, right?</text>\n",
              " </message>\n",
              " <message line=\"43\">\n",
              " <author>97964e7a9e8eb9cf78f2e4d7b2ff34c7</author>\n",
              " <time>03:30</time>\n",
              " <text>You mentioned it, yeah.</text>\n",
              " </message>\n",
              " <message line=\"44\">\n",
              " <author>0158d0d6781fc4d493f243d4caa49747</author>\n",
              " <time>03:30</time>\n",
              " <text>I thought I&amp;apos;d turn on cam.  After 10 mins, turned it off.</text>\n",
              " </message>\n",
              " <message line=\"45\">\n",
              " <author>0158d0d6781fc4d493f243d4caa49747</author>\n",
              " <time>03:30</time>\n",
              " <text>Went back to text.</text>\n",
              " </message>\n",
              " <message line=\"46\">\n",
              " <author>97964e7a9e8eb9cf78f2e4d7b2ff34c7</author>\n",
              " <time>03:31</time>\n",
              " <text>Yeah, I haven&amp;apos;t bothered touching that button. Sounds too risky to me.</text>\n",
              " </message>\n",
              " <message line=\"47\">\n",
              " <author>0158d0d6781fc4d493f243d4caa49747</author>\n",
              " <time>03:32</time>\n",
              " <text>It&amp;apos;s a mix of stuff, but one big difference.</text>\n",
              " </message>\n",
              " <message line=\"48\">\n",
              " <author>0158d0d6781fc4d493f243d4caa49747</author>\n",
              " <time>03:32</time>\n",
              " <text>Cam = not such good conversation.</text>\n",
              " </message>\n",
              " <message line=\"49\">\n",
              " <author>97964e7a9e8eb9cf78f2e4d7b2ff34c7</author>\n",
              " <time>03:33</time>\n",
              " <text>It&amp;apos;s the reason more individuals text than call these days. More response time, better things to say, suspense, etc.</text>\n",
              " </message>\n",
              " <message line=\"50\">\n",
              " <author>0158d0d6781fc4d493f243d4caa49747</author>\n",
              " <time>03:33</time>\n",
              " <text>Makes sense.</text>\n",
              " </message>\n",
              " <message line=\"51\">\n",
              " <author>0158d0d6781fc4d493f243d4caa49747</author>\n",
              " <time>03:34</time>\n",
              " <text>So, you been using this site very long?</text>\n",
              " </message>\n",
              " <message line=\"52\">\n",
              " <author>0158d0d6781fc4d493f243d4caa49747</author>\n",
              " <time>03:34</time>\n",
              " <text>what interests you w/ it?</text>\n",
              " </message>\n",
              " <message line=\"53\">\n",
              " <author>97964e7a9e8eb9cf78f2e4d7b2ff34c7</author>\n",
              " <time>03:35</time>\n",
              " <text>You see quite a few characters.</text>\n",
              " </message>\n",
              " <message line=\"54\">\n",
              " <author>97964e7a9e8eb9cf78f2e4d7b2ff34c7</author>\n",
              " <time>03:35</time>\n",
              " <text>Gives me a laugh.</text>\n",
              " </message>\n",
              " <message line=\"55\">\n",
              " <author>0158d0d6781fc4d493f243d4caa49747</author>\n",
              " <time>03:35</time>\n",
              " <text>Bet it does.</text>\n",
              " </message>\n",
              " <message line=\"56\">\n",
              " <author>97964e7a9e8eb9cf78f2e4d7b2ff34c7</author>\n",
              " <time>03:36</time>\n",
              " <text>I think it&amp;apos;s quite funny, trying to figure out people.</text>\n",
              " </message>\n",
              " <message line=\"57\">\n",
              " <author>0158d0d6781fc4d493f243d4caa49747</author>\n",
              " <time>03:37</time>\n",
              " <text>Well, even though I&amp;apos;m glad to chat w/ ya &amp;amp; you&amp;apos;re quite...probably better I let you connect w/ someone a bit younger, eh?</text>\n",
              " </message>\n",
              " <message line=\"58\">\n",
              " <author>97964e7a9e8eb9cf78f2e4d7b2ff34c7</author>\n",
              " <time>03:37</time>\n",
              " <text>I s&amp;apos;pose.</text>\n",
              " </message>\n",
              " <message line=\"59\">\n",
              " <author>97964e7a9e8eb9cf78f2e4d7b2ff34c7</author>\n",
              " <time>03:37</time>\n",
              " <text>It was a pleasure meeting you.</text>\n",
              " </message>\n",
              " <message line=\"60\">\n",
              " <author>97964e7a9e8eb9cf78f2e4d7b2ff34c7</author>\n",
              " <time>03:37</time>\n",
              " <text>Happy chatting!</text>\n",
              " </message>\n",
              " <message line=\"61\">\n",
              " <author>0158d0d6781fc4d493f243d4caa49747</author>\n",
              " <time>03:38</time>\n",
              " <text>You too!  Be safe!</text>\n",
              " </message>\n",
              " <message line=\"62\">\n",
              " <author>0158d0d6781fc4d493f243d4caa49747</author>\n",
              " <time>03:38</time>\n",
              " <text>bye</text>\n",
              " </message>\n",
              " </conversation>, <conversation id=\"1f1298186cac7c8e97ec901f30aa47f4\">\n",
              " <message line=\"1\">\n",
              " <author>ba209a914b0d43e49df90df597464589</author>\n",
              " <time>14:36</time>\n",
              " <text>asuu</text>\n",
              " </message>\n",
              " <message line=\"2\">\n",
              " <author>ba209a914b0d43e49df90df597464589</author>\n",
              " <time>14:36</time>\n",
              " <text>lonte koe</text>\n",
              " </message>\n",
              " <message line=\"3\">\n",
              " <author>ba209a914b0d43e49df90df597464589</author>\n",
              " <time>14:36</time>\n",
              " <text>hi</text>\n",
              " </message>\n",
              " </conversation>]"
            ]
          },
          "metadata": {
            "tags": []
          },
          "execution_count": 29
        }
      ]
    },
    {
      "cell_type": "code",
      "metadata": {
        "id": "gNt1wzmBF9rW",
        "colab_type": "code",
        "colab": {}
      },
      "source": [
        "tags_list = list(texts)"
      ],
      "execution_count": 30,
      "outputs": []
    },
    {
      "cell_type": "code",
      "metadata": {
        "id": "Cr6-5Nx4GC-f",
        "colab_type": "code",
        "colab": {
          "base_uri": "https://localhost:8080/",
          "height": 35
        },
        "outputId": "93414fb1-91dd-451f-f7df-689036cbdd0e"
      },
      "source": [
        "type(tags_list)"
      ],
      "execution_count": 31,
      "outputs": [
        {
          "output_type": "execute_result",
          "data": {
            "text/plain": [
              "list"
            ]
          },
          "metadata": {
            "tags": []
          },
          "execution_count": 31
        }
      ]
    },
    {
      "cell_type": "code",
      "metadata": {
        "id": "i15NpDa0GEhe",
        "colab_type": "code",
        "colab": {
          "base_uri": "https://localhost:8080/",
          "height": 399
        },
        "outputId": "e6ec6c39-aa03-4bf1-afa6-15966ca58cd2"
      },
      "source": [
        "tags_list[-2]"
      ],
      "execution_count": 34,
      "outputs": [
        {
          "output_type": "execute_result",
          "data": {
            "text/plain": [
              "<conversation id=\"588c0826629526d6a3512c6d6c81bf42\">\n",
              "<message line=\"1\">\n",
              "<author>7c1e11b36deddcff88d2007f0127b39c</author>\n",
              "<time>19:40</time>\n",
              "<text>hi, Im male 22 and u?</text>\n",
              "</message>\n",
              "<message line=\"2\">\n",
              "<author>780a4968748d2608f35ab09258149793</author>\n",
              "<time>19:40</time>\n",
              "<text>hey:)</text>\n",
              "</message>\n",
              "<message line=\"3\">\n",
              "<author>780a4968748d2608f35ab09258149793</author>\n",
              "<time>19:40</time>\n",
              "<text>swe 17</text>\n",
              "</message>\n",
              "<message line=\"4\">\n",
              "<author>780a4968748d2608f35ab09258149793</author>\n",
              "<time>19:40</time>\n",
              "<text>f</text>\n",
              "</message>\n",
              "</conversation>"
            ]
          },
          "metadata": {
            "tags": []
          },
          "execution_count": 34
        }
      ]
    },
    {
      "cell_type": "code",
      "metadata": {
        "id": "ggD4kxWqXEmw",
        "colab_type": "code",
        "colab": {
          "base_uri": "https://localhost:8080/",
          "height": 35
        },
        "outputId": "1987e88e-2f44-4be0-f646-69fdd1fff5a6"
      },
      "source": [
        "len(tags_list)"
      ],
      "execution_count": 36,
      "outputs": [
        {
          "output_type": "execute_result",
          "data": {
            "text/plain": [
              "66927"
            ]
          },
          "metadata": {
            "tags": []
          },
          "execution_count": 36
        }
      ]
    },
    {
      "cell_type": "code",
      "metadata": {
        "id": "frYQSK2vIJLx",
        "colab_type": "code",
        "colab": {}
      },
      "source": [
        "import re"
      ],
      "execution_count": 37,
      "outputs": []
    },
    {
      "cell_type": "code",
      "metadata": {
        "id": "ca1PgqSgdqE8",
        "colab_type": "code",
        "colab": {
          "base_uri": "https://localhost:8080/",
          "height": 1000
        },
        "outputId": "eb743dbe-72a6-4bd5-ab81-d107148aab98"
      },
      "source": [
        "samp_list = str(tags_list[0]).split('\\n')\n",
        "samp_list"
      ],
      "execution_count": 43,
      "outputs": [
        {
          "output_type": "execute_result",
          "data": {
            "text/plain": [
              "['<conversation id=\"e621da5de598c9321a1d505ea95e6a2d\">',\n",
              " '<message line=\"1\">',\n",
              " '<author>97964e7a9e8eb9cf78f2e4d7b2ff34c7</author>',\n",
              " '<time>03:20</time>',\n",
              " '<text>Hola.</text>',\n",
              " '</message>',\n",
              " '<message line=\"2\">',\n",
              " '<author>0158d0d6781fc4d493f243d4caa49747</author>',\n",
              " '<time>03:20</time>',\n",
              " '<text>hi.</text>',\n",
              " '</message>',\n",
              " '<message line=\"3\">',\n",
              " '<author>0158d0d6781fc4d493f243d4caa49747</author>',\n",
              " '<time>03:20</time>',\n",
              " '<text>whats up?</text>',\n",
              " '</message>',\n",
              " '<message line=\"4\">',\n",
              " '<author>97964e7a9e8eb9cf78f2e4d7b2ff34c7</author>',\n",
              " '<time>03:20</time>',\n",
              " '<text>not a ton.</text>',\n",
              " '</message>',\n",
              " '<message line=\"5\">',\n",
              " '<author>97964e7a9e8eb9cf78f2e4d7b2ff34c7</author>',\n",
              " '<time>03:20</time>',\n",
              " '<text>you?</text>',\n",
              " '</message>',\n",
              " '<message line=\"6\">',\n",
              " '<author>0158d0d6781fc4d493f243d4caa49747</author>',\n",
              " '<time>03:20</time>',\n",
              " '<text>same.  being lazy.  M or f?</text>',\n",
              " '</message>',\n",
              " '<message line=\"7\">',\n",
              " '<author>97964e7a9e8eb9cf78f2e4d7b2ff34c7</author>',\n",
              " '<time>03:20</time>',\n",
              " '<text>F.</text>',\n",
              " '</message>',\n",
              " '<message line=\"8\">',\n",
              " '<author>97964e7a9e8eb9cf78f2e4d7b2ff34c7</author>',\n",
              " '<time>03:21</time>',\n",
              " '<text>Ditto, I&amp;apos;ve done absolutely nothing with my day besides watching stuff on Hulu.</text>',\n",
              " '</message>',\n",
              " '<message line=\"9\">',\n",
              " '<author>0158d0d6781fc4d493f243d4caa49747</author>',\n",
              " '<time>03:21</time>',\n",
              " '<text>M here.  Just got home from weekend trip.  Tired.</text>',\n",
              " '</message>',\n",
              " '<message line=\"10\">',\n",
              " '<author>97964e7a9e8eb9cf78f2e4d7b2ff34c7</author>',\n",
              " '<time>03:21</time>',\n",
              " '<text>Oh, cool. Family thing?</text>',\n",
              " '</message>',\n",
              " '<message line=\"11\">',\n",
              " '<author>0158d0d6781fc4d493f243d4caa49747</author>',\n",
              " '<time>03:22</time>',\n",
              " '<text>yeah.</text>',\n",
              " '</message>',\n",
              " '<message line=\"12\">',\n",
              " '<author>0158d0d6781fc4d493f243d4caa49747</author>',\n",
              " '<time>03:22</time>',\n",
              " '<text>a &amp;amp; l?</text>',\n",
              " '</message>',\n",
              " '<message line=\"13\">',\n",
              " '<author>97964e7a9e8eb9cf78f2e4d7b2ff34c7</author>',\n",
              " '<time>03:22</time>',\n",
              " '<text>Gotta love those.</text>',\n",
              " '</message>',\n",
              " '<message line=\"14\">',\n",
              " '<author>97964e7a9e8eb9cf78f2e4d7b2ff34c7</author>',\n",
              " '<time>03:22</time>',\n",
              " '<text>17, Hawaii.</text>',\n",
              " '</message>',\n",
              " '<message line=\"15\">',\n",
              " '<author>97964e7a9e8eb9cf78f2e4d7b2ff34c7</author>',\n",
              " '<time>03:23</time>',\n",
              " '<text>and yourself?</text>',\n",
              " '</message>',\n",
              " '<message line=\"16\">',\n",
              " '<author>0158d0d6781fc4d493f243d4caa49747</author>',\n",
              " '<time>03:23</time>',\n",
              " '<text>Uh oh.  older. 30</text>',\n",
              " '</message>',\n",
              " '<message line=\"17\">',\n",
              " '<author>0158d0d6781fc4d493f243d4caa49747</author>',\n",
              " '<time>03:23</time>',\n",
              " '<text>Been to Hawaii.</text>',\n",
              " '</message>',\n",
              " '<message line=\"18\">',\n",
              " '<author>97964e7a9e8eb9cf78f2e4d7b2ff34c7</author>',\n",
              " '<time>03:23</time>',\n",
              " '<text>whoops xD</text>',\n",
              " '</message>',\n",
              " '<message line=\"19\">',\n",
              " '<author>97964e7a9e8eb9cf78f2e4d7b2ff34c7</author>',\n",
              " '<time>03:23</time>',\n",
              " '<text>It&amp;apos;s nice, isn&amp;apos;t it?</text>',\n",
              " '</message>',\n",
              " '<message line=\"20\">',\n",
              " '<author>0158d0d6781fc4d493f243d4caa49747</author>',\n",
              " '<time>03:24</time>',\n",
              " '<text>Yeah.  Always enjoy visiting.</text>',\n",
              " '</message>',\n",
              " '<message line=\"21\">',\n",
              " '<author>0158d0d6781fc4d493f243d4caa49747</author>',\n",
              " '<time>03:24</time>',\n",
              " '<text>Which Island you on Oahu?</text>',\n",
              " '</message>',\n",
              " '<message line=\"22\">',\n",
              " '<author>97964e7a9e8eb9cf78f2e4d7b2ff34c7</author>',\n",
              " '<time>03:24</time>',\n",
              " '<text>married?</text>',\n",
              " '</message>',\n",
              " '<message line=\"23\">',\n",
              " '<author>97964e7a9e8eb9cf78f2e4d7b2ff34c7</author>',\n",
              " '<time>03:24</time>',\n",
              " '<text>i&amp;apos;m assuming since you went on a &amp;apos;family&amp;apos; trip :p</text>',\n",
              " '</message>',\n",
              " '<message line=\"24\">',\n",
              " '<author>0158d0d6781fc4d493f243d4caa49747</author>',\n",
              " '<time>03:25</time>',\n",
              " '<text>yeah. Just found this site a few days ago.</text>',\n",
              " '</message>',\n",
              " '<message line=\"25\">',\n",
              " '<author>97964e7a9e8eb9cf78f2e4d7b2ff34c7</author>',\n",
              " '<time>03:25</time>',\n",
              " '<text>Yeah, Oahu.</text>',\n",
              " '</message>',\n",
              " '<message line=\"26\">',\n",
              " '<author>0158d0d6781fc4d493f243d4caa49747</author>',\n",
              " '<time>03:25</time>',\n",
              " '<text>Curious to the whole &amp;quot;random thing&amp;quot;</text>',\n",
              " '</message>',\n",
              " '<message line=\"27\">',\n",
              " '<author>97964e7a9e8eb9cf78f2e4d7b2ff34c7</author>',\n",
              " '<time>03:25</time>',\n",
              " '<text>Pretty crazy the individuals you meet, isn&amp;apos;t it?</text>',\n",
              " '</message>',\n",
              " '<message line=\"28\">',\n",
              " '<author>0158d0d6781fc4d493f243d4caa49747</author>',\n",
              " '<time>03:25</time>',\n",
              " '<text>It&amp;apos;s been eye opening for sure.</text>',\n",
              " '</message>',\n",
              " '<message line=\"29\">',\n",
              " '<author>97964e7a9e8eb9cf78f2e4d7b2ff34c7</author>',\n",
              " '<time>03:25</time>',\n",
              " '<text>Yeah, I hear you.</text>',\n",
              " '</message>',\n",
              " '<message line=\"30\">',\n",
              " '<author>0158d0d6781fc4d493f243d4caa49747</author>',\n",
              " '<time>03:25</time>',\n",
              " '<text>I&amp;apos;m pretty open to meet/talk to anyone.</text>',\n",
              " '</message>',\n",
              " '<message line=\"31\">',\n",
              " '<author>0158d0d6781fc4d493f243d4caa49747</author>',\n",
              " '<time>03:26</time>',\n",
              " '<text>But pretty clear what most are looking for on this site, it seems.</text>',\n",
              " '</message>',\n",
              " '<message line=\"32\">',\n",
              " '<author>97964e7a9e8eb9cf78f2e4d7b2ff34c7</author>',\n",
              " '<time>03:27</time>',\n",
              " '<text>Half the people that strike up a conversation only seem to be interested in more. . risque topics.</text>',\n",
              " '</message>',\n",
              " '<message line=\"33\">',\n",
              " '<author>97964e7a9e8eb9cf78f2e4d7b2ff34c7</author>',\n",
              " '<time>03:27</time>',\n",
              " '<text>What more do you expect though, ya know?</text>',\n",
              " '</message>',\n",
              " '<message line=\"34\">',\n",
              " '<author>0158d0d6781fc4d493f243d4caa49747</author>',\n",
              " '<time>03:27</time>',\n",
              " '<text>Yep.  It&amp;apos;s the internet.</text>',\n",
              " '</message>',\n",
              " '<message line=\"35\">',\n",
              " '<author>0158d0d6781fc4d493f243d4caa49747</author>',\n",
              " '<time>03:28</time>',\n",
              " '<text>You seem to take it pretty well.</text>',\n",
              " '</message>',\n",
              " '<message line=\"36\">',\n",
              " '<author>97964e7a9e8eb9cf78f2e4d7b2ff34c7</author>',\n",
              " '<time>03:28</time>',\n",
              " '<text>Pardon?</text>',\n",
              " '</message>',\n",
              " '<message line=\"37\">',\n",
              " '<author>0158d0d6781fc4d493f243d4caa49747</author>',\n",
              " '<time>03:28</time>',\n",
              " '<text>I just mean you seem to handle the obvious shennagans on here pretty well.</text>',\n",
              " '</message>',\n",
              " '<message line=\"38\">',\n",
              " '<author>0158d0d6781fc4d493f243d4caa49747</author>',\n",
              " '<time>03:28</time>',\n",
              " '<text>harder for ladies on here for sure.</text>',\n",
              " '</message>',\n",
              " '<message line=\"39\">',\n",
              " '<author>97964e7a9e8eb9cf78f2e4d7b2ff34c7</author>',\n",
              " '<time>03:29</time>',\n",
              " '<text>Ah, yeah.</text>',\n",
              " '</message>',\n",
              " '<message line=\"40\">',\n",
              " '<author>97964e7a9e8eb9cf78f2e4d7b2ff34c7</author>',\n",
              " '<time>03:29</time>',\n",
              " '<text>That&amp;apos;s what the wonderful &amp;quot;disconnect&amp;quot; button is for.</text>',\n",
              " '</message>',\n",
              " '<message line=\"41\">',\n",
              " '<author>0158d0d6781fc4d493f243d4caa49747</author>',\n",
              " '<time>03:29</time>',\n",
              " '<text>LMAO, yes it is :)</text>',\n",
              " '</message>',\n",
              " '<message line=\"42\">',\n",
              " '<author>0158d0d6781fc4d493f243d4caa49747</author>',\n",
              " '<time>03:30</time>',\n",
              " '<text>So..I said I was new to this, right?</text>',\n",
              " '</message>',\n",
              " '<message line=\"43\">',\n",
              " '<author>97964e7a9e8eb9cf78f2e4d7b2ff34c7</author>',\n",
              " '<time>03:30</time>',\n",
              " '<text>You mentioned it, yeah.</text>',\n",
              " '</message>',\n",
              " '<message line=\"44\">',\n",
              " '<author>0158d0d6781fc4d493f243d4caa49747</author>',\n",
              " '<time>03:30</time>',\n",
              " '<text>I thought I&amp;apos;d turn on cam.  After 10 mins, turned it off.</text>',\n",
              " '</message>',\n",
              " '<message line=\"45\">',\n",
              " '<author>0158d0d6781fc4d493f243d4caa49747</author>',\n",
              " '<time>03:30</time>',\n",
              " '<text>Went back to text.</text>',\n",
              " '</message>',\n",
              " '<message line=\"46\">',\n",
              " '<author>97964e7a9e8eb9cf78f2e4d7b2ff34c7</author>',\n",
              " '<time>03:31</time>',\n",
              " '<text>Yeah, I haven&amp;apos;t bothered touching that button. Sounds too risky to me.</text>',\n",
              " '</message>',\n",
              " '<message line=\"47\">',\n",
              " '<author>0158d0d6781fc4d493f243d4caa49747</author>',\n",
              " '<time>03:32</time>',\n",
              " '<text>It&amp;apos;s a mix of stuff, but one big difference.</text>',\n",
              " '</message>',\n",
              " '<message line=\"48\">',\n",
              " '<author>0158d0d6781fc4d493f243d4caa49747</author>',\n",
              " '<time>03:32</time>',\n",
              " '<text>Cam = not such good conversation.</text>',\n",
              " '</message>',\n",
              " '<message line=\"49\">',\n",
              " '<author>97964e7a9e8eb9cf78f2e4d7b2ff34c7</author>',\n",
              " '<time>03:33</time>',\n",
              " '<text>It&amp;apos;s the reason more individuals text than call these days. More response time, better things to say, suspense, etc.</text>',\n",
              " '</message>',\n",
              " '<message line=\"50\">',\n",
              " '<author>0158d0d6781fc4d493f243d4caa49747</author>',\n",
              " '<time>03:33</time>',\n",
              " '<text>Makes sense.</text>',\n",
              " '</message>',\n",
              " '<message line=\"51\">',\n",
              " '<author>0158d0d6781fc4d493f243d4caa49747</author>',\n",
              " '<time>03:34</time>',\n",
              " '<text>So, you been using this site very long?</text>',\n",
              " '</message>',\n",
              " '<message line=\"52\">',\n",
              " '<author>0158d0d6781fc4d493f243d4caa49747</author>',\n",
              " '<time>03:34</time>',\n",
              " '<text>what interests you w/ it?</text>',\n",
              " '</message>',\n",
              " '<message line=\"53\">',\n",
              " '<author>97964e7a9e8eb9cf78f2e4d7b2ff34c7</author>',\n",
              " '<time>03:35</time>',\n",
              " '<text>You see quite a few characters.</text>',\n",
              " '</message>',\n",
              " '<message line=\"54\">',\n",
              " '<author>97964e7a9e8eb9cf78f2e4d7b2ff34c7</author>',\n",
              " '<time>03:35</time>',\n",
              " '<text>Gives me a laugh.</text>',\n",
              " '</message>',\n",
              " '<message line=\"55\">',\n",
              " '<author>0158d0d6781fc4d493f243d4caa49747</author>',\n",
              " '<time>03:35</time>',\n",
              " '<text>Bet it does.</text>',\n",
              " '</message>',\n",
              " '<message line=\"56\">',\n",
              " '<author>97964e7a9e8eb9cf78f2e4d7b2ff34c7</author>',\n",
              " '<time>03:36</time>',\n",
              " '<text>I think it&amp;apos;s quite funny, trying to figure out people.</text>',\n",
              " '</message>',\n",
              " '<message line=\"57\">',\n",
              " '<author>0158d0d6781fc4d493f243d4caa49747</author>',\n",
              " '<time>03:37</time>',\n",
              " '<text>Well, even though I&amp;apos;m glad to chat w/ ya &amp;amp; you&amp;apos;re quite...probably better I let you connect w/ someone a bit younger, eh?</text>',\n",
              " '</message>',\n",
              " '<message line=\"58\">',\n",
              " '<author>97964e7a9e8eb9cf78f2e4d7b2ff34c7</author>',\n",
              " '<time>03:37</time>',\n",
              " '<text>I s&amp;apos;pose.</text>',\n",
              " '</message>',\n",
              " '<message line=\"59\">',\n",
              " '<author>97964e7a9e8eb9cf78f2e4d7b2ff34c7</author>',\n",
              " '<time>03:37</time>',\n",
              " '<text>It was a pleasure meeting you.</text>',\n",
              " '</message>',\n",
              " '<message line=\"60\">',\n",
              " '<author>97964e7a9e8eb9cf78f2e4d7b2ff34c7</author>',\n",
              " '<time>03:37</time>',\n",
              " '<text>Happy chatting!</text>',\n",
              " '</message>',\n",
              " '<message line=\"61\">',\n",
              " '<author>0158d0d6781fc4d493f243d4caa49747</author>',\n",
              " '<time>03:38</time>',\n",
              " '<text>You too!  Be safe!</text>',\n",
              " '</message>',\n",
              " '<message line=\"62\">',\n",
              " '<author>0158d0d6781fc4d493f243d4caa49747</author>',\n",
              " '<time>03:38</time>',\n",
              " '<text>bye</text>',\n",
              " '</message>',\n",
              " '</conversation>']"
            ]
          },
          "metadata": {
            "tags": []
          },
          "execution_count": 43
        }
      ]
    },
    {
      "cell_type": "code",
      "metadata": {
        "id": "aSg0KeX7dMsX",
        "colab_type": "code",
        "colab": {
          "base_uri": "https://localhost:8080/",
          "height": 35
        },
        "outputId": "269cbb0d-9ed5-4df0-b3ba-441f88bbc7b5"
      },
      "source": [
        "re.findall(r'<message line', samp_list[1])"
      ],
      "execution_count": 48,
      "outputs": [
        {
          "output_type": "execute_result",
          "data": {
            "text/plain": [
              "['<message line']"
            ]
          },
          "metadata": {
            "tags": []
          },
          "execution_count": 48
        }
      ]
    },
    {
      "cell_type": "code",
      "metadata": {
        "id": "7SYhFIXChi4j",
        "colab_type": "code",
        "colab": {
          "base_uri": "https://localhost:8080/",
          "height": 1000
        },
        "outputId": "df25c65c-74ef-4f5e-bab7-378f967be799"
      },
      "source": [
        "samp_list = str(tags_list[0]).split('\\n')\n",
        "samp_list"
      ],
      "execution_count": 49,
      "outputs": [
        {
          "output_type": "execute_result",
          "data": {
            "text/plain": [
              "['<conversation id=\"e621da5de598c9321a1d505ea95e6a2d\">',\n",
              " '<message line=\"1\">',\n",
              " '<author>97964e7a9e8eb9cf78f2e4d7b2ff34c7</author>',\n",
              " '<time>03:20</time>',\n",
              " '<text>Hola.</text>',\n",
              " '</message>',\n",
              " '<message line=\"2\">',\n",
              " '<author>0158d0d6781fc4d493f243d4caa49747</author>',\n",
              " '<time>03:20</time>',\n",
              " '<text>hi.</text>',\n",
              " '</message>',\n",
              " '<message line=\"3\">',\n",
              " '<author>0158d0d6781fc4d493f243d4caa49747</author>',\n",
              " '<time>03:20</time>',\n",
              " '<text>whats up?</text>',\n",
              " '</message>',\n",
              " '<message line=\"4\">',\n",
              " '<author>97964e7a9e8eb9cf78f2e4d7b2ff34c7</author>',\n",
              " '<time>03:20</time>',\n",
              " '<text>not a ton.</text>',\n",
              " '</message>',\n",
              " '<message line=\"5\">',\n",
              " '<author>97964e7a9e8eb9cf78f2e4d7b2ff34c7</author>',\n",
              " '<time>03:20</time>',\n",
              " '<text>you?</text>',\n",
              " '</message>',\n",
              " '<message line=\"6\">',\n",
              " '<author>0158d0d6781fc4d493f243d4caa49747</author>',\n",
              " '<time>03:20</time>',\n",
              " '<text>same.  being lazy.  M or f?</text>',\n",
              " '</message>',\n",
              " '<message line=\"7\">',\n",
              " '<author>97964e7a9e8eb9cf78f2e4d7b2ff34c7</author>',\n",
              " '<time>03:20</time>',\n",
              " '<text>F.</text>',\n",
              " '</message>',\n",
              " '<message line=\"8\">',\n",
              " '<author>97964e7a9e8eb9cf78f2e4d7b2ff34c7</author>',\n",
              " '<time>03:21</time>',\n",
              " '<text>Ditto, I&amp;apos;ve done absolutely nothing with my day besides watching stuff on Hulu.</text>',\n",
              " '</message>',\n",
              " '<message line=\"9\">',\n",
              " '<author>0158d0d6781fc4d493f243d4caa49747</author>',\n",
              " '<time>03:21</time>',\n",
              " '<text>M here.  Just got home from weekend trip.  Tired.</text>',\n",
              " '</message>',\n",
              " '<message line=\"10\">',\n",
              " '<author>97964e7a9e8eb9cf78f2e4d7b2ff34c7</author>',\n",
              " '<time>03:21</time>',\n",
              " '<text>Oh, cool. Family thing?</text>',\n",
              " '</message>',\n",
              " '<message line=\"11\">',\n",
              " '<author>0158d0d6781fc4d493f243d4caa49747</author>',\n",
              " '<time>03:22</time>',\n",
              " '<text>yeah.</text>',\n",
              " '</message>',\n",
              " '<message line=\"12\">',\n",
              " '<author>0158d0d6781fc4d493f243d4caa49747</author>',\n",
              " '<time>03:22</time>',\n",
              " '<text>a &amp;amp; l?</text>',\n",
              " '</message>',\n",
              " '<message line=\"13\">',\n",
              " '<author>97964e7a9e8eb9cf78f2e4d7b2ff34c7</author>',\n",
              " '<time>03:22</time>',\n",
              " '<text>Gotta love those.</text>',\n",
              " '</message>',\n",
              " '<message line=\"14\">',\n",
              " '<author>97964e7a9e8eb9cf78f2e4d7b2ff34c7</author>',\n",
              " '<time>03:22</time>',\n",
              " '<text>17, Hawaii.</text>',\n",
              " '</message>',\n",
              " '<message line=\"15\">',\n",
              " '<author>97964e7a9e8eb9cf78f2e4d7b2ff34c7</author>',\n",
              " '<time>03:23</time>',\n",
              " '<text>and yourself?</text>',\n",
              " '</message>',\n",
              " '<message line=\"16\">',\n",
              " '<author>0158d0d6781fc4d493f243d4caa49747</author>',\n",
              " '<time>03:23</time>',\n",
              " '<text>Uh oh.  older. 30</text>',\n",
              " '</message>',\n",
              " '<message line=\"17\">',\n",
              " '<author>0158d0d6781fc4d493f243d4caa49747</author>',\n",
              " '<time>03:23</time>',\n",
              " '<text>Been to Hawaii.</text>',\n",
              " '</message>',\n",
              " '<message line=\"18\">',\n",
              " '<author>97964e7a9e8eb9cf78f2e4d7b2ff34c7</author>',\n",
              " '<time>03:23</time>',\n",
              " '<text>whoops xD</text>',\n",
              " '</message>',\n",
              " '<message line=\"19\">',\n",
              " '<author>97964e7a9e8eb9cf78f2e4d7b2ff34c7</author>',\n",
              " '<time>03:23</time>',\n",
              " '<text>It&amp;apos;s nice, isn&amp;apos;t it?</text>',\n",
              " '</message>',\n",
              " '<message line=\"20\">',\n",
              " '<author>0158d0d6781fc4d493f243d4caa49747</author>',\n",
              " '<time>03:24</time>',\n",
              " '<text>Yeah.  Always enjoy visiting.</text>',\n",
              " '</message>',\n",
              " '<message line=\"21\">',\n",
              " '<author>0158d0d6781fc4d493f243d4caa49747</author>',\n",
              " '<time>03:24</time>',\n",
              " '<text>Which Island you on Oahu?</text>',\n",
              " '</message>',\n",
              " '<message line=\"22\">',\n",
              " '<author>97964e7a9e8eb9cf78f2e4d7b2ff34c7</author>',\n",
              " '<time>03:24</time>',\n",
              " '<text>married?</text>',\n",
              " '</message>',\n",
              " '<message line=\"23\">',\n",
              " '<author>97964e7a9e8eb9cf78f2e4d7b2ff34c7</author>',\n",
              " '<time>03:24</time>',\n",
              " '<text>i&amp;apos;m assuming since you went on a &amp;apos;family&amp;apos; trip :p</text>',\n",
              " '</message>',\n",
              " '<message line=\"24\">',\n",
              " '<author>0158d0d6781fc4d493f243d4caa49747</author>',\n",
              " '<time>03:25</time>',\n",
              " '<text>yeah. Just found this site a few days ago.</text>',\n",
              " '</message>',\n",
              " '<message line=\"25\">',\n",
              " '<author>97964e7a9e8eb9cf78f2e4d7b2ff34c7</author>',\n",
              " '<time>03:25</time>',\n",
              " '<text>Yeah, Oahu.</text>',\n",
              " '</message>',\n",
              " '<message line=\"26\">',\n",
              " '<author>0158d0d6781fc4d493f243d4caa49747</author>',\n",
              " '<time>03:25</time>',\n",
              " '<text>Curious to the whole &amp;quot;random thing&amp;quot;</text>',\n",
              " '</message>',\n",
              " '<message line=\"27\">',\n",
              " '<author>97964e7a9e8eb9cf78f2e4d7b2ff34c7</author>',\n",
              " '<time>03:25</time>',\n",
              " '<text>Pretty crazy the individuals you meet, isn&amp;apos;t it?</text>',\n",
              " '</message>',\n",
              " '<message line=\"28\">',\n",
              " '<author>0158d0d6781fc4d493f243d4caa49747</author>',\n",
              " '<time>03:25</time>',\n",
              " '<text>It&amp;apos;s been eye opening for sure.</text>',\n",
              " '</message>',\n",
              " '<message line=\"29\">',\n",
              " '<author>97964e7a9e8eb9cf78f2e4d7b2ff34c7</author>',\n",
              " '<time>03:25</time>',\n",
              " '<text>Yeah, I hear you.</text>',\n",
              " '</message>',\n",
              " '<message line=\"30\">',\n",
              " '<author>0158d0d6781fc4d493f243d4caa49747</author>',\n",
              " '<time>03:25</time>',\n",
              " '<text>I&amp;apos;m pretty open to meet/talk to anyone.</text>',\n",
              " '</message>',\n",
              " '<message line=\"31\">',\n",
              " '<author>0158d0d6781fc4d493f243d4caa49747</author>',\n",
              " '<time>03:26</time>',\n",
              " '<text>But pretty clear what most are looking for on this site, it seems.</text>',\n",
              " '</message>',\n",
              " '<message line=\"32\">',\n",
              " '<author>97964e7a9e8eb9cf78f2e4d7b2ff34c7</author>',\n",
              " '<time>03:27</time>',\n",
              " '<text>Half the people that strike up a conversation only seem to be interested in more. . risque topics.</text>',\n",
              " '</message>',\n",
              " '<message line=\"33\">',\n",
              " '<author>97964e7a9e8eb9cf78f2e4d7b2ff34c7</author>',\n",
              " '<time>03:27</time>',\n",
              " '<text>What more do you expect though, ya know?</text>',\n",
              " '</message>',\n",
              " '<message line=\"34\">',\n",
              " '<author>0158d0d6781fc4d493f243d4caa49747</author>',\n",
              " '<time>03:27</time>',\n",
              " '<text>Yep.  It&amp;apos;s the internet.</text>',\n",
              " '</message>',\n",
              " '<message line=\"35\">',\n",
              " '<author>0158d0d6781fc4d493f243d4caa49747</author>',\n",
              " '<time>03:28</time>',\n",
              " '<text>You seem to take it pretty well.</text>',\n",
              " '</message>',\n",
              " '<message line=\"36\">',\n",
              " '<author>97964e7a9e8eb9cf78f2e4d7b2ff34c7</author>',\n",
              " '<time>03:28</time>',\n",
              " '<text>Pardon?</text>',\n",
              " '</message>',\n",
              " '<message line=\"37\">',\n",
              " '<author>0158d0d6781fc4d493f243d4caa49747</author>',\n",
              " '<time>03:28</time>',\n",
              " '<text>I just mean you seem to handle the obvious shennagans on here pretty well.</text>',\n",
              " '</message>',\n",
              " '<message line=\"38\">',\n",
              " '<author>0158d0d6781fc4d493f243d4caa49747</author>',\n",
              " '<time>03:28</time>',\n",
              " '<text>harder for ladies on here for sure.</text>',\n",
              " '</message>',\n",
              " '<message line=\"39\">',\n",
              " '<author>97964e7a9e8eb9cf78f2e4d7b2ff34c7</author>',\n",
              " '<time>03:29</time>',\n",
              " '<text>Ah, yeah.</text>',\n",
              " '</message>',\n",
              " '<message line=\"40\">',\n",
              " '<author>97964e7a9e8eb9cf78f2e4d7b2ff34c7</author>',\n",
              " '<time>03:29</time>',\n",
              " '<text>That&amp;apos;s what the wonderful &amp;quot;disconnect&amp;quot; button is for.</text>',\n",
              " '</message>',\n",
              " '<message line=\"41\">',\n",
              " '<author>0158d0d6781fc4d493f243d4caa49747</author>',\n",
              " '<time>03:29</time>',\n",
              " '<text>LMAO, yes it is :)</text>',\n",
              " '</message>',\n",
              " '<message line=\"42\">',\n",
              " '<author>0158d0d6781fc4d493f243d4caa49747</author>',\n",
              " '<time>03:30</time>',\n",
              " '<text>So..I said I was new to this, right?</text>',\n",
              " '</message>',\n",
              " '<message line=\"43\">',\n",
              " '<author>97964e7a9e8eb9cf78f2e4d7b2ff34c7</author>',\n",
              " '<time>03:30</time>',\n",
              " '<text>You mentioned it, yeah.</text>',\n",
              " '</message>',\n",
              " '<message line=\"44\">',\n",
              " '<author>0158d0d6781fc4d493f243d4caa49747</author>',\n",
              " '<time>03:30</time>',\n",
              " '<text>I thought I&amp;apos;d turn on cam.  After 10 mins, turned it off.</text>',\n",
              " '</message>',\n",
              " '<message line=\"45\">',\n",
              " '<author>0158d0d6781fc4d493f243d4caa49747</author>',\n",
              " '<time>03:30</time>',\n",
              " '<text>Went back to text.</text>',\n",
              " '</message>',\n",
              " '<message line=\"46\">',\n",
              " '<author>97964e7a9e8eb9cf78f2e4d7b2ff34c7</author>',\n",
              " '<time>03:31</time>',\n",
              " '<text>Yeah, I haven&amp;apos;t bothered touching that button. Sounds too risky to me.</text>',\n",
              " '</message>',\n",
              " '<message line=\"47\">',\n",
              " '<author>0158d0d6781fc4d493f243d4caa49747</author>',\n",
              " '<time>03:32</time>',\n",
              " '<text>It&amp;apos;s a mix of stuff, but one big difference.</text>',\n",
              " '</message>',\n",
              " '<message line=\"48\">',\n",
              " '<author>0158d0d6781fc4d493f243d4caa49747</author>',\n",
              " '<time>03:32</time>',\n",
              " '<text>Cam = not such good conversation.</text>',\n",
              " '</message>',\n",
              " '<message line=\"49\">',\n",
              " '<author>97964e7a9e8eb9cf78f2e4d7b2ff34c7</author>',\n",
              " '<time>03:33</time>',\n",
              " '<text>It&amp;apos;s the reason more individuals text than call these days. More response time, better things to say, suspense, etc.</text>',\n",
              " '</message>',\n",
              " '<message line=\"50\">',\n",
              " '<author>0158d0d6781fc4d493f243d4caa49747</author>',\n",
              " '<time>03:33</time>',\n",
              " '<text>Makes sense.</text>',\n",
              " '</message>',\n",
              " '<message line=\"51\">',\n",
              " '<author>0158d0d6781fc4d493f243d4caa49747</author>',\n",
              " '<time>03:34</time>',\n",
              " '<text>So, you been using this site very long?</text>',\n",
              " '</message>',\n",
              " '<message line=\"52\">',\n",
              " '<author>0158d0d6781fc4d493f243d4caa49747</author>',\n",
              " '<time>03:34</time>',\n",
              " '<text>what interests you w/ it?</text>',\n",
              " '</message>',\n",
              " '<message line=\"53\">',\n",
              " '<author>97964e7a9e8eb9cf78f2e4d7b2ff34c7</author>',\n",
              " '<time>03:35</time>',\n",
              " '<text>You see quite a few characters.</text>',\n",
              " '</message>',\n",
              " '<message line=\"54\">',\n",
              " '<author>97964e7a9e8eb9cf78f2e4d7b2ff34c7</author>',\n",
              " '<time>03:35</time>',\n",
              " '<text>Gives me a laugh.</text>',\n",
              " '</message>',\n",
              " '<message line=\"55\">',\n",
              " '<author>0158d0d6781fc4d493f243d4caa49747</author>',\n",
              " '<time>03:35</time>',\n",
              " '<text>Bet it does.</text>',\n",
              " '</message>',\n",
              " '<message line=\"56\">',\n",
              " '<author>97964e7a9e8eb9cf78f2e4d7b2ff34c7</author>',\n",
              " '<time>03:36</time>',\n",
              " '<text>I think it&amp;apos;s quite funny, trying to figure out people.</text>',\n",
              " '</message>',\n",
              " '<message line=\"57\">',\n",
              " '<author>0158d0d6781fc4d493f243d4caa49747</author>',\n",
              " '<time>03:37</time>',\n",
              " '<text>Well, even though I&amp;apos;m glad to chat w/ ya &amp;amp; you&amp;apos;re quite...probably better I let you connect w/ someone a bit younger, eh?</text>',\n",
              " '</message>',\n",
              " '<message line=\"58\">',\n",
              " '<author>97964e7a9e8eb9cf78f2e4d7b2ff34c7</author>',\n",
              " '<time>03:37</time>',\n",
              " '<text>I s&amp;apos;pose.</text>',\n",
              " '</message>',\n",
              " '<message line=\"59\">',\n",
              " '<author>97964e7a9e8eb9cf78f2e4d7b2ff34c7</author>',\n",
              " '<time>03:37</time>',\n",
              " '<text>It was a pleasure meeting you.</text>',\n",
              " '</message>',\n",
              " '<message line=\"60\">',\n",
              " '<author>97964e7a9e8eb9cf78f2e4d7b2ff34c7</author>',\n",
              " '<time>03:37</time>',\n",
              " '<text>Happy chatting!</text>',\n",
              " '</message>',\n",
              " '<message line=\"61\">',\n",
              " '<author>0158d0d6781fc4d493f243d4caa49747</author>',\n",
              " '<time>03:38</time>',\n",
              " '<text>You too!  Be safe!</text>',\n",
              " '</message>',\n",
              " '<message line=\"62\">',\n",
              " '<author>0158d0d6781fc4d493f243d4caa49747</author>',\n",
              " '<time>03:38</time>',\n",
              " '<text>bye</text>',\n",
              " '</message>',\n",
              " '</conversation>']"
            ]
          },
          "metadata": {
            "tags": []
          },
          "execution_count": 49
        }
      ]
    },
    {
      "cell_type": "code",
      "metadata": {
        "id": "_jYbJg-bhcBx",
        "colab_type": "code",
        "colab": {
          "base_uri": "https://localhost:8080/",
          "height": 35
        },
        "outputId": "a33dc9d2-1ffa-4447-cd9b-fc2ce896a0ac"
      },
      "source": [
        "conversation_id = samp_list[0]\n",
        "conversation_id"
      ],
      "execution_count": 93,
      "outputs": [
        {
          "output_type": "execute_result",
          "data": {
            "text/plain": [
              "'<conversation id=\"e621da5de598c9321a1d505ea95e6a2d\">'"
            ]
          },
          "metadata": {
            "tags": []
          },
          "execution_count": 93
        }
      ]
    },
    {
      "cell_type": "code",
      "metadata": {
        "id": "Hk1k8efSlydr",
        "colab_type": "code",
        "colab": {
          "base_uri": "https://localhost:8080/",
          "height": 35
        },
        "outputId": "b50a2cd2-4bdf-4607-cdb0-9506f11b563f"
      },
      "source": [
        "re.sub(r'<conversation id=|\"|>|<message line=|<author>|</author>|<time>|</time>|<text>|</text>', '',samp_list[-5])"
      ],
      "execution_count": 77,
      "outputs": [
        {
          "output_type": "execute_result",
          "data": {
            "text/plain": [
              "'0158d0d6781fc4d493f243d4caa49747'"
            ]
          },
          "metadata": {
            "tags": []
          },
          "execution_count": 77
        }
      ]
    },
    {
      "cell_type": "code",
      "metadata": {
        "id": "8xf9gXCUgCqf",
        "colab_type": "code",
        "colab": {}
      },
      "source": [
        "message_line = [line for line in samp_list if len(re.findall(r'<message line', line)) > 0]\n",
        "message_line = [re.sub(r'<conversation id=|\"|>|<message line=|<author>|</author>|<time>|</time>|<text>|</text>', '',line) for line in message_line]\n",
        "\n",
        "author = [line for line in samp_list if len(re.findall(r'<author', line)) > 0]\n",
        "author = [re.sub(r'<conversation id=|\"|>|<message line=|<author>|</author>|<time>|</time>|<text>|</text>', '', line) for line in author]\n",
        "\n",
        "time = [line for line in samp_list if len(re.findall(r'<time', line)) > 0]\n",
        "time = [re.sub(r'<conversation id=|\"|>|<message line=|<author>|</author>|<time>|</time>|<text>|</text>', '', line) for line in time]\n",
        "\n",
        "text = [line for line in samp_list if len(re.findall(r'<text', line)) > 0]\n",
        "text = [re.sub(r'<conversation id=|\"|>|<message line=|<author>|</author>|<time>|</time>|<text>|</text>', '', line) for line in text]"
      ],
      "execution_count": 78,
      "outputs": []
    },
    {
      "cell_type": "code",
      "metadata": {
        "id": "1zdlfy7Yh3FM",
        "colab_type": "code",
        "colab": {
          "base_uri": "https://localhost:8080/",
          "height": 35
        },
        "outputId": "91f97e67-09aa-4807-8d82-1d83261b23ea"
      },
      "source": [
        "len(samp_list)"
      ],
      "execution_count": 79,
      "outputs": [
        {
          "output_type": "execute_result",
          "data": {
            "text/plain": [
              "312"
            ]
          },
          "metadata": {
            "tags": []
          },
          "execution_count": 79
        }
      ]
    },
    {
      "cell_type": "code",
      "metadata": {
        "id": "WYAstT6jh939",
        "colab_type": "code",
        "colab": {
          "base_uri": "https://localhost:8080/",
          "height": 35
        },
        "outputId": "8db26e13-abe2-479a-c931-be5bbe5f4758"
      },
      "source": [
        "len(author)"
      ],
      "execution_count": 80,
      "outputs": [
        {
          "output_type": "execute_result",
          "data": {
            "text/plain": [
              "62"
            ]
          },
          "metadata": {
            "tags": []
          },
          "execution_count": 80
        }
      ]
    },
    {
      "cell_type": "code",
      "metadata": {
        "id": "VHIzYvQYiEwc",
        "colab_type": "code",
        "colab": {
          "base_uri": "https://localhost:8080/",
          "height": 35
        },
        "outputId": "df5d773a-4e71-47d6-c52c-d7cf4c6d9f04"
      },
      "source": [
        "len(time)"
      ],
      "execution_count": 81,
      "outputs": [
        {
          "output_type": "execute_result",
          "data": {
            "text/plain": [
              "62"
            ]
          },
          "metadata": {
            "tags": []
          },
          "execution_count": 81
        }
      ]
    },
    {
      "cell_type": "code",
      "metadata": {
        "id": "4Ru9BPp0iLZk",
        "colab_type": "code",
        "colab": {
          "base_uri": "https://localhost:8080/",
          "height": 35
        },
        "outputId": "80802dfb-ffa0-44ca-ef7a-0d6b52edb6f6"
      },
      "source": [
        "len(text)"
      ],
      "execution_count": 82,
      "outputs": [
        {
          "output_type": "execute_result",
          "data": {
            "text/plain": [
              "62"
            ]
          },
          "metadata": {
            "tags": []
          },
          "execution_count": 82
        }
      ]
    },
    {
      "cell_type": "code",
      "metadata": {
        "id": "ItrWm6m8iMvE",
        "colab_type": "code",
        "colab": {
          "base_uri": "https://localhost:8080/",
          "height": 35
        },
        "outputId": "4bae70b9-14c9-449a-d2f9-bfb13945accc"
      },
      "source": [
        "author[-1]"
      ],
      "execution_count": 83,
      "outputs": [
        {
          "output_type": "execute_result",
          "data": {
            "text/plain": [
              "'0158d0d6781fc4d493f243d4caa49747'"
            ]
          },
          "metadata": {
            "tags": []
          },
          "execution_count": 83
        }
      ]
    },
    {
      "cell_type": "code",
      "metadata": {
        "id": "mxD0xS6piRc-",
        "colab_type": "code",
        "colab": {
          "base_uri": "https://localhost:8080/",
          "height": 35
        },
        "outputId": "55b7dc67-94e8-4901-f4c7-b9dc30aa4e7c"
      },
      "source": [
        "time[-1]"
      ],
      "execution_count": 84,
      "outputs": [
        {
          "output_type": "execute_result",
          "data": {
            "text/plain": [
              "'03:38'"
            ]
          },
          "metadata": {
            "tags": []
          },
          "execution_count": 84
        }
      ]
    },
    {
      "cell_type": "code",
      "metadata": {
        "id": "dn2uSZLDiYFT",
        "colab_type": "code",
        "colab": {
          "base_uri": "https://localhost:8080/",
          "height": 35
        },
        "outputId": "f12c04f3-73ae-4d29-dff9-9d179c6a5cc7"
      },
      "source": [
        "text[-1]"
      ],
      "execution_count": 85,
      "outputs": [
        {
          "output_type": "execute_result",
          "data": {
            "text/plain": [
              "'bye'"
            ]
          },
          "metadata": {
            "tags": []
          },
          "execution_count": 85
        }
      ]
    },
    {
      "cell_type": "code",
      "metadata": {
        "id": "CaBdAe9_icGo",
        "colab_type": "code",
        "colab": {
          "base_uri": "https://localhost:8080/",
          "height": 35
        },
        "outputId": "5ec614cb-871e-40f3-a5ad-1d0d4a6f4c6b"
      },
      "source": [
        "message_line[-1]"
      ],
      "execution_count": 86,
      "outputs": [
        {
          "output_type": "execute_result",
          "data": {
            "text/plain": [
              "'62'"
            ]
          },
          "metadata": {
            "tags": []
          },
          "execution_count": 86
        }
      ]
    },
    {
      "cell_type": "code",
      "metadata": {
        "id": "MeJl93Iti7tB",
        "colab_type": "code",
        "colab": {}
      },
      "source": [
        "import itertools\n",
        "conversation_id = list(itertools.repeat(conversation_id, len(author)))\n",
        "conversation_id = [re.sub(r'<conversation id=|\"|>|<message line=|<author>|</author>|<time>|</time>|<text>|</text>', '', str(line)) for line in conversation_id]"
      ],
      "execution_count": 94,
      "outputs": []
    },
    {
      "cell_type": "code",
      "metadata": {
        "id": "NzVabzLQkiqg",
        "colab_type": "code",
        "colab": {
          "base_uri": "https://localhost:8080/",
          "height": 35
        },
        "outputId": "e49e7d0e-d78b-4316-d02c-c0e25223cb80"
      },
      "source": [
        "len(conversation_id)"
      ],
      "execution_count": 95,
      "outputs": [
        {
          "output_type": "execute_result",
          "data": {
            "text/plain": [
              "62"
            ]
          },
          "metadata": {
            "tags": []
          },
          "execution_count": 95
        }
      ]
    },
    {
      "cell_type": "code",
      "metadata": {
        "id": "Xx4aVL6YoHCT",
        "colab_type": "code",
        "colab": {
          "base_uri": "https://localhost:8080/",
          "height": 191
        },
        "outputId": "1a8d90ac-78fe-435f-8a1d-51077bd4b8bc"
      },
      "source": [
        "conversation_id[0:10]"
      ],
      "execution_count": 97,
      "outputs": [
        {
          "output_type": "execute_result",
          "data": {
            "text/plain": [
              "['e621da5de598c9321a1d505ea95e6a2d',\n",
              " 'e621da5de598c9321a1d505ea95e6a2d',\n",
              " 'e621da5de598c9321a1d505ea95e6a2d',\n",
              " 'e621da5de598c9321a1d505ea95e6a2d',\n",
              " 'e621da5de598c9321a1d505ea95e6a2d',\n",
              " 'e621da5de598c9321a1d505ea95e6a2d',\n",
              " 'e621da5de598c9321a1d505ea95e6a2d',\n",
              " 'e621da5de598c9321a1d505ea95e6a2d',\n",
              " 'e621da5de598c9321a1d505ea95e6a2d',\n",
              " 'e621da5de598c9321a1d505ea95e6a2d']"
            ]
          },
          "metadata": {
            "tags": []
          },
          "execution_count": 97
        }
      ]
    },
    {
      "cell_type": "code",
      "metadata": {
        "id": "F3Ordf-HkqCU",
        "colab_type": "code",
        "colab": {
          "base_uri": "https://localhost:8080/",
          "height": 415
        },
        "outputId": "00a5c300-de7d-4154-ec88-870ecf43211c"
      },
      "source": [
        "import pandas as pd\n",
        "df = pd.DataFrame({'conversation_id': conversation_id, 'message_line': message_line, 'author': author, 'time': time, 'chat_message': text})\n",
        "df"
      ],
      "execution_count": 99,
      "outputs": [
        {
          "output_type": "execute_result",
          "data": {
            "text/html": [
              "<div>\n",
              "<style scoped>\n",
              "    .dataframe tbody tr th:only-of-type {\n",
              "        vertical-align: middle;\n",
              "    }\n",
              "\n",
              "    .dataframe tbody tr th {\n",
              "        vertical-align: top;\n",
              "    }\n",
              "\n",
              "    .dataframe thead th {\n",
              "        text-align: right;\n",
              "    }\n",
              "</style>\n",
              "<table border=\"1\" class=\"dataframe\">\n",
              "  <thead>\n",
              "    <tr style=\"text-align: right;\">\n",
              "      <th></th>\n",
              "      <th>conversation_id</th>\n",
              "      <th>message_line</th>\n",
              "      <th>author</th>\n",
              "      <th>time</th>\n",
              "      <th>chat_message</th>\n",
              "    </tr>\n",
              "  </thead>\n",
              "  <tbody>\n",
              "    <tr>\n",
              "      <th>0</th>\n",
              "      <td>e621da5de598c9321a1d505ea95e6a2d</td>\n",
              "      <td>1</td>\n",
              "      <td>97964e7a9e8eb9cf78f2e4d7b2ff34c7</td>\n",
              "      <td>03:20</td>\n",
              "      <td>Hola.</td>\n",
              "    </tr>\n",
              "    <tr>\n",
              "      <th>1</th>\n",
              "      <td>e621da5de598c9321a1d505ea95e6a2d</td>\n",
              "      <td>2</td>\n",
              "      <td>0158d0d6781fc4d493f243d4caa49747</td>\n",
              "      <td>03:20</td>\n",
              "      <td>hi.</td>\n",
              "    </tr>\n",
              "    <tr>\n",
              "      <th>2</th>\n",
              "      <td>e621da5de598c9321a1d505ea95e6a2d</td>\n",
              "      <td>3</td>\n",
              "      <td>0158d0d6781fc4d493f243d4caa49747</td>\n",
              "      <td>03:20</td>\n",
              "      <td>whats up?</td>\n",
              "    </tr>\n",
              "    <tr>\n",
              "      <th>3</th>\n",
              "      <td>e621da5de598c9321a1d505ea95e6a2d</td>\n",
              "      <td>4</td>\n",
              "      <td>97964e7a9e8eb9cf78f2e4d7b2ff34c7</td>\n",
              "      <td>03:20</td>\n",
              "      <td>not a ton.</td>\n",
              "    </tr>\n",
              "    <tr>\n",
              "      <th>4</th>\n",
              "      <td>e621da5de598c9321a1d505ea95e6a2d</td>\n",
              "      <td>5</td>\n",
              "      <td>97964e7a9e8eb9cf78f2e4d7b2ff34c7</td>\n",
              "      <td>03:20</td>\n",
              "      <td>you?</td>\n",
              "    </tr>\n",
              "    <tr>\n",
              "      <th>...</th>\n",
              "      <td>...</td>\n",
              "      <td>...</td>\n",
              "      <td>...</td>\n",
              "      <td>...</td>\n",
              "      <td>...</td>\n",
              "    </tr>\n",
              "    <tr>\n",
              "      <th>57</th>\n",
              "      <td>e621da5de598c9321a1d505ea95e6a2d</td>\n",
              "      <td>58</td>\n",
              "      <td>97964e7a9e8eb9cf78f2e4d7b2ff34c7</td>\n",
              "      <td>03:37</td>\n",
              "      <td>I s&amp;amp;apos;pose.</td>\n",
              "    </tr>\n",
              "    <tr>\n",
              "      <th>58</th>\n",
              "      <td>e621da5de598c9321a1d505ea95e6a2d</td>\n",
              "      <td>59</td>\n",
              "      <td>97964e7a9e8eb9cf78f2e4d7b2ff34c7</td>\n",
              "      <td>03:37</td>\n",
              "      <td>It was a pleasure meeting you.</td>\n",
              "    </tr>\n",
              "    <tr>\n",
              "      <th>59</th>\n",
              "      <td>e621da5de598c9321a1d505ea95e6a2d</td>\n",
              "      <td>60</td>\n",
              "      <td>97964e7a9e8eb9cf78f2e4d7b2ff34c7</td>\n",
              "      <td>03:37</td>\n",
              "      <td>Happy chatting!</td>\n",
              "    </tr>\n",
              "    <tr>\n",
              "      <th>60</th>\n",
              "      <td>e621da5de598c9321a1d505ea95e6a2d</td>\n",
              "      <td>61</td>\n",
              "      <td>0158d0d6781fc4d493f243d4caa49747</td>\n",
              "      <td>03:38</td>\n",
              "      <td>You too!  Be safe!</td>\n",
              "    </tr>\n",
              "    <tr>\n",
              "      <th>61</th>\n",
              "      <td>e621da5de598c9321a1d505ea95e6a2d</td>\n",
              "      <td>62</td>\n",
              "      <td>0158d0d6781fc4d493f243d4caa49747</td>\n",
              "      <td>03:38</td>\n",
              "      <td>bye</td>\n",
              "    </tr>\n",
              "  </tbody>\n",
              "</table>\n",
              "<p>62 rows × 5 columns</p>\n",
              "</div>"
            ],
            "text/plain": [
              "                     conversation_id  ...                    chat_message\n",
              "0   e621da5de598c9321a1d505ea95e6a2d  ...                           Hola.\n",
              "1   e621da5de598c9321a1d505ea95e6a2d  ...                             hi.\n",
              "2   e621da5de598c9321a1d505ea95e6a2d  ...                       whats up?\n",
              "3   e621da5de598c9321a1d505ea95e6a2d  ...                      not a ton.\n",
              "4   e621da5de598c9321a1d505ea95e6a2d  ...                            you?\n",
              "..                               ...  ...                             ...\n",
              "57  e621da5de598c9321a1d505ea95e6a2d  ...              I s&amp;apos;pose.\n",
              "58  e621da5de598c9321a1d505ea95e6a2d  ...  It was a pleasure meeting you.\n",
              "59  e621da5de598c9321a1d505ea95e6a2d  ...                 Happy chatting!\n",
              "60  e621da5de598c9321a1d505ea95e6a2d  ...              You too!  Be safe!\n",
              "61  e621da5de598c9321a1d505ea95e6a2d  ...                             bye\n",
              "\n",
              "[62 rows x 5 columns]"
            ]
          },
          "metadata": {
            "tags": []
          },
          "execution_count": 99
        }
      ]
    },
    {
      "cell_type": "code",
      "metadata": {
        "id": "JOnAs3p6qwT7",
        "colab_type": "code",
        "colab": {
          "base_uri": "https://localhost:8080/",
          "height": 141
        },
        "outputId": "5d691e22-05bf-45ca-bc8d-31db11868090"
      },
      "source": [
        "samp_list = str(tags_list[1]).split('\\n')\n",
        "conversation_id = samp_list[0]\n",
        "\n",
        "message_line = [line for line in samp_list if len(re.findall(r'<message line', line)) > 0]\n",
        "message_line = [re.sub(r'<conversation id=|\"|>|<message line=|<author>|</author>|<time>|</time>|<text>|</text>', '',line) for line in message_line]\n",
        "\n",
        "author = [line for line in samp_list if len(re.findall(r'<author', line)) > 0]\n",
        "author = [re.sub(r'<conversation id=|\"|>|<message line=|<author>|</author>|<time>|</time>|<text>|</text>', '', line) for line in author]\n",
        "\n",
        "time = [line for line in samp_list if len(re.findall(r'<time', line)) > 0]\n",
        "time = [re.sub(r'<conversation id=|\"|>|<message line=|<author>|</author>|<time>|</time>|<text>|</text>', '', line) for line in time]\n",
        "\n",
        "text = [line for line in samp_list if len(re.findall(r'<text', line)) > 0]\n",
        "text = [re.sub(r'<conversation id=|\"|>|<message line=|<author>|</author>|<time>|</time>|<text>|</text>', '', line) for line in text]\n",
        "\n",
        "conversation_id = list(itertools.repeat(conversation_id, len(author)))\n",
        "conversation_id = [re.sub(r'<conversation id=|\"|>|<message line=|<author>|</author>|<time>|</time>|<text>|</text>', '', str(line)) for line in conversation_id]\n",
        "\n",
        "df2 = pd.DataFrame({'conversation_id': conversation_id, 'message_line': message_line, 'author': author, 'time': time, 'chat_message': text})\n",
        "df2"
      ],
      "execution_count": 108,
      "outputs": [
        {
          "output_type": "execute_result",
          "data": {
            "text/html": [
              "<div>\n",
              "<style scoped>\n",
              "    .dataframe tbody tr th:only-of-type {\n",
              "        vertical-align: middle;\n",
              "    }\n",
              "\n",
              "    .dataframe tbody tr th {\n",
              "        vertical-align: top;\n",
              "    }\n",
              "\n",
              "    .dataframe thead th {\n",
              "        text-align: right;\n",
              "    }\n",
              "</style>\n",
              "<table border=\"1\" class=\"dataframe\">\n",
              "  <thead>\n",
              "    <tr style=\"text-align: right;\">\n",
              "      <th></th>\n",
              "      <th>conversation_id</th>\n",
              "      <th>message_line</th>\n",
              "      <th>author</th>\n",
              "      <th>time</th>\n",
              "      <th>chat_message</th>\n",
              "    </tr>\n",
              "  </thead>\n",
              "  <tbody>\n",
              "    <tr>\n",
              "      <th>0</th>\n",
              "      <td>1f1298186cac7c8e97ec901f30aa47f4</td>\n",
              "      <td>1</td>\n",
              "      <td>ba209a914b0d43e49df90df597464589</td>\n",
              "      <td>14:36</td>\n",
              "      <td>asuu</td>\n",
              "    </tr>\n",
              "    <tr>\n",
              "      <th>1</th>\n",
              "      <td>1f1298186cac7c8e97ec901f30aa47f4</td>\n",
              "      <td>2</td>\n",
              "      <td>ba209a914b0d43e49df90df597464589</td>\n",
              "      <td>14:36</td>\n",
              "      <td>lonte koe</td>\n",
              "    </tr>\n",
              "    <tr>\n",
              "      <th>2</th>\n",
              "      <td>1f1298186cac7c8e97ec901f30aa47f4</td>\n",
              "      <td>3</td>\n",
              "      <td>ba209a914b0d43e49df90df597464589</td>\n",
              "      <td>14:36</td>\n",
              "      <td>hi</td>\n",
              "    </tr>\n",
              "  </tbody>\n",
              "</table>\n",
              "</div>"
            ],
            "text/plain": [
              "                    conversation_id message_line  ...   time chat_message\n",
              "0  1f1298186cac7c8e97ec901f30aa47f4            1  ...  14:36         asuu\n",
              "1  1f1298186cac7c8e97ec901f30aa47f4            2  ...  14:36    lonte koe\n",
              "2  1f1298186cac7c8e97ec901f30aa47f4            3  ...  14:36           hi\n",
              "\n",
              "[3 rows x 5 columns]"
            ]
          },
          "metadata": {
            "tags": []
          },
          "execution_count": 108
        }
      ]
    },
    {
      "cell_type": "code",
      "metadata": {
        "id": "0bpBlS3BrueW",
        "colab_type": "code",
        "colab": {
          "base_uri": "https://localhost:8080/",
          "height": 415
        },
        "outputId": "1cc66e75-c170-4df7-ca23-615eb86d901f"
      },
      "source": [
        "df3 = pd.concat([df, df2], axis = 0)\n",
        "df3"
      ],
      "execution_count": 110,
      "outputs": [
        {
          "output_type": "execute_result",
          "data": {
            "text/html": [
              "<div>\n",
              "<style scoped>\n",
              "    .dataframe tbody tr th:only-of-type {\n",
              "        vertical-align: middle;\n",
              "    }\n",
              "\n",
              "    .dataframe tbody tr th {\n",
              "        vertical-align: top;\n",
              "    }\n",
              "\n",
              "    .dataframe thead th {\n",
              "        text-align: right;\n",
              "    }\n",
              "</style>\n",
              "<table border=\"1\" class=\"dataframe\">\n",
              "  <thead>\n",
              "    <tr style=\"text-align: right;\">\n",
              "      <th></th>\n",
              "      <th>conversation_id</th>\n",
              "      <th>message_line</th>\n",
              "      <th>author</th>\n",
              "      <th>time</th>\n",
              "      <th>chat_message</th>\n",
              "    </tr>\n",
              "  </thead>\n",
              "  <tbody>\n",
              "    <tr>\n",
              "      <th>0</th>\n",
              "      <td>e621da5de598c9321a1d505ea95e6a2d</td>\n",
              "      <td>1</td>\n",
              "      <td>97964e7a9e8eb9cf78f2e4d7b2ff34c7</td>\n",
              "      <td>03:20</td>\n",
              "      <td>Hola.</td>\n",
              "    </tr>\n",
              "    <tr>\n",
              "      <th>1</th>\n",
              "      <td>e621da5de598c9321a1d505ea95e6a2d</td>\n",
              "      <td>2</td>\n",
              "      <td>0158d0d6781fc4d493f243d4caa49747</td>\n",
              "      <td>03:20</td>\n",
              "      <td>hi.</td>\n",
              "    </tr>\n",
              "    <tr>\n",
              "      <th>2</th>\n",
              "      <td>e621da5de598c9321a1d505ea95e6a2d</td>\n",
              "      <td>3</td>\n",
              "      <td>0158d0d6781fc4d493f243d4caa49747</td>\n",
              "      <td>03:20</td>\n",
              "      <td>whats up?</td>\n",
              "    </tr>\n",
              "    <tr>\n",
              "      <th>3</th>\n",
              "      <td>e621da5de598c9321a1d505ea95e6a2d</td>\n",
              "      <td>4</td>\n",
              "      <td>97964e7a9e8eb9cf78f2e4d7b2ff34c7</td>\n",
              "      <td>03:20</td>\n",
              "      <td>not a ton.</td>\n",
              "    </tr>\n",
              "    <tr>\n",
              "      <th>4</th>\n",
              "      <td>e621da5de598c9321a1d505ea95e6a2d</td>\n",
              "      <td>5</td>\n",
              "      <td>97964e7a9e8eb9cf78f2e4d7b2ff34c7</td>\n",
              "      <td>03:20</td>\n",
              "      <td>you?</td>\n",
              "    </tr>\n",
              "    <tr>\n",
              "      <th>...</th>\n",
              "      <td>...</td>\n",
              "      <td>...</td>\n",
              "      <td>...</td>\n",
              "      <td>...</td>\n",
              "      <td>...</td>\n",
              "    </tr>\n",
              "    <tr>\n",
              "      <th>60</th>\n",
              "      <td>e621da5de598c9321a1d505ea95e6a2d</td>\n",
              "      <td>61</td>\n",
              "      <td>0158d0d6781fc4d493f243d4caa49747</td>\n",
              "      <td>03:38</td>\n",
              "      <td>You too!  Be safe!</td>\n",
              "    </tr>\n",
              "    <tr>\n",
              "      <th>61</th>\n",
              "      <td>e621da5de598c9321a1d505ea95e6a2d</td>\n",
              "      <td>62</td>\n",
              "      <td>0158d0d6781fc4d493f243d4caa49747</td>\n",
              "      <td>03:38</td>\n",
              "      <td>bye</td>\n",
              "    </tr>\n",
              "    <tr>\n",
              "      <th>0</th>\n",
              "      <td>1f1298186cac7c8e97ec901f30aa47f4</td>\n",
              "      <td>1</td>\n",
              "      <td>ba209a914b0d43e49df90df597464589</td>\n",
              "      <td>14:36</td>\n",
              "      <td>asuu</td>\n",
              "    </tr>\n",
              "    <tr>\n",
              "      <th>1</th>\n",
              "      <td>1f1298186cac7c8e97ec901f30aa47f4</td>\n",
              "      <td>2</td>\n",
              "      <td>ba209a914b0d43e49df90df597464589</td>\n",
              "      <td>14:36</td>\n",
              "      <td>lonte koe</td>\n",
              "    </tr>\n",
              "    <tr>\n",
              "      <th>2</th>\n",
              "      <td>1f1298186cac7c8e97ec901f30aa47f4</td>\n",
              "      <td>3</td>\n",
              "      <td>ba209a914b0d43e49df90df597464589</td>\n",
              "      <td>14:36</td>\n",
              "      <td>hi</td>\n",
              "    </tr>\n",
              "  </tbody>\n",
              "</table>\n",
              "<p>65 rows × 5 columns</p>\n",
              "</div>"
            ],
            "text/plain": [
              "                     conversation_id message_line  ...   time        chat_message\n",
              "0   e621da5de598c9321a1d505ea95e6a2d            1  ...  03:20               Hola.\n",
              "1   e621da5de598c9321a1d505ea95e6a2d            2  ...  03:20                 hi.\n",
              "2   e621da5de598c9321a1d505ea95e6a2d            3  ...  03:20           whats up?\n",
              "3   e621da5de598c9321a1d505ea95e6a2d            4  ...  03:20          not a ton.\n",
              "4   e621da5de598c9321a1d505ea95e6a2d            5  ...  03:20                you?\n",
              "..                               ...          ...  ...    ...                 ...\n",
              "60  e621da5de598c9321a1d505ea95e6a2d           61  ...  03:38  You too!  Be safe!\n",
              "61  e621da5de598c9321a1d505ea95e6a2d           62  ...  03:38                 bye\n",
              "0   1f1298186cac7c8e97ec901f30aa47f4            1  ...  14:36                asuu\n",
              "1   1f1298186cac7c8e97ec901f30aa47f4            2  ...  14:36           lonte koe\n",
              "2   1f1298186cac7c8e97ec901f30aa47f4            3  ...  14:36                  hi\n",
              "\n",
              "[65 rows x 5 columns]"
            ]
          },
          "metadata": {
            "tags": []
          },
          "execution_count": 110
        }
      ]
    },
    {
      "cell_type": "code",
      "metadata": {
        "id": "z2uw1-ics1Mi",
        "colab_type": "code",
        "colab": {}
      },
      "source": [
        "def create_df_from_tags(tag):\n",
        "  samp_list = str(tag).split('\\n')\n",
        "  conversation_id = samp_list[0]\n",
        "\n",
        "  message_line = [line for line in samp_list if len(re.findall(r'<message line', line)) > 0]\n",
        "  message_line = [re.sub(r'<conversation id=|\"|>|<message line=|<author>|</author>|<time>|</time>|<text>|</text>', '',line) for line in message_line]\n",
        "\n",
        "  author = [line for line in samp_list if len(re.findall(r'<author', line)) > 0]\n",
        "  author = [re.sub(r'<conversation id=|\"|>|<message line=|<author>|</author>|<time>|</time>|<text>|</text>', '', line) for line in author]\n",
        "\n",
        "  time = [line for line in samp_list if len(re.findall(r'<time', line)) > 0]\n",
        "  time = [re.sub(r'<conversation id=|\"|>|<message line=|<author>|</author>|<time>|</time>|<text>|</text>', '', line) for line in time]\n",
        "\n",
        "  text = [line for line in samp_list if len(re.findall(r'<text', line)) > 0]\n",
        "  text = [re.sub(r'<conversation id=|\"|>|<message line=|<author>|</author>|<time>|</time>|<text>|</text>', '', line) for line in text]\n",
        "\n",
        "  conversation_id = list(itertools.repeat(conversation_id, len(author)))\n",
        "  conversation_id = [re.sub(r'<conversation id=|\"|>|<message line=|<author>|</author>|<time>|</time>|<text>|</text>', '', str(line)) for line in conversation_id]\n",
        "\n",
        "  df = pd.DataFrame({'conversation_id': conversation_id, 'message_line': message_line, 'author': author, 'time': time, 'chat_message': text})\n",
        "  return df"
      ],
      "execution_count": 123,
      "outputs": []
    },
    {
      "cell_type": "code",
      "metadata": {
        "id": "17GgjcIOt4Z2",
        "colab_type": "code",
        "colab": {
          "base_uri": "https://localhost:8080/",
          "height": 312
        },
        "outputId": "47a62194-2a4f-4035-ab4a-8efd0b88d108"
      },
      "source": [
        "tags_list[1]"
      ],
      "execution_count": 124,
      "outputs": [
        {
          "output_type": "execute_result",
          "data": {
            "text/plain": [
              "<conversation id=\"1f1298186cac7c8e97ec901f30aa47f4\">\n",
              "<message line=\"1\">\n",
              "<author>ba209a914b0d43e49df90df597464589</author>\n",
              "<time>14:36</time>\n",
              "<text>asuu</text>\n",
              "</message>\n",
              "<message line=\"2\">\n",
              "<author>ba209a914b0d43e49df90df597464589</author>\n",
              "<time>14:36</time>\n",
              "<text>lonte koe</text>\n",
              "</message>\n",
              "<message line=\"3\">\n",
              "<author>ba209a914b0d43e49df90df597464589</author>\n",
              "<time>14:36</time>\n",
              "<text>hi</text>\n",
              "</message>\n",
              "</conversation>"
            ]
          },
          "metadata": {
            "tags": []
          },
          "execution_count": 124
        }
      ]
    },
    {
      "cell_type": "code",
      "metadata": {
        "id": "BZnyDGNZtudc",
        "colab_type": "code",
        "colab": {
          "base_uri": "https://localhost:8080/",
          "height": 415
        },
        "outputId": "af36ca4b-6108-4cde-b7fe-b3ed9386747f"
      },
      "source": [
        "create_df_from_tags(tags_list[0])"
      ],
      "execution_count": 130,
      "outputs": [
        {
          "output_type": "execute_result",
          "data": {
            "text/html": [
              "<div>\n",
              "<style scoped>\n",
              "    .dataframe tbody tr th:only-of-type {\n",
              "        vertical-align: middle;\n",
              "    }\n",
              "\n",
              "    .dataframe tbody tr th {\n",
              "        vertical-align: top;\n",
              "    }\n",
              "\n",
              "    .dataframe thead th {\n",
              "        text-align: right;\n",
              "    }\n",
              "</style>\n",
              "<table border=\"1\" class=\"dataframe\">\n",
              "  <thead>\n",
              "    <tr style=\"text-align: right;\">\n",
              "      <th></th>\n",
              "      <th>conversation_id</th>\n",
              "      <th>message_line</th>\n",
              "      <th>author</th>\n",
              "      <th>time</th>\n",
              "      <th>chat_message</th>\n",
              "    </tr>\n",
              "  </thead>\n",
              "  <tbody>\n",
              "    <tr>\n",
              "      <th>0</th>\n",
              "      <td>e621da5de598c9321a1d505ea95e6a2d</td>\n",
              "      <td>1</td>\n",
              "      <td>97964e7a9e8eb9cf78f2e4d7b2ff34c7</td>\n",
              "      <td>03:20</td>\n",
              "      <td>Hola.</td>\n",
              "    </tr>\n",
              "    <tr>\n",
              "      <th>1</th>\n",
              "      <td>e621da5de598c9321a1d505ea95e6a2d</td>\n",
              "      <td>2</td>\n",
              "      <td>0158d0d6781fc4d493f243d4caa49747</td>\n",
              "      <td>03:20</td>\n",
              "      <td>hi.</td>\n",
              "    </tr>\n",
              "    <tr>\n",
              "      <th>2</th>\n",
              "      <td>e621da5de598c9321a1d505ea95e6a2d</td>\n",
              "      <td>3</td>\n",
              "      <td>0158d0d6781fc4d493f243d4caa49747</td>\n",
              "      <td>03:20</td>\n",
              "      <td>whats up?</td>\n",
              "    </tr>\n",
              "    <tr>\n",
              "      <th>3</th>\n",
              "      <td>e621da5de598c9321a1d505ea95e6a2d</td>\n",
              "      <td>4</td>\n",
              "      <td>97964e7a9e8eb9cf78f2e4d7b2ff34c7</td>\n",
              "      <td>03:20</td>\n",
              "      <td>not a ton.</td>\n",
              "    </tr>\n",
              "    <tr>\n",
              "      <th>4</th>\n",
              "      <td>e621da5de598c9321a1d505ea95e6a2d</td>\n",
              "      <td>5</td>\n",
              "      <td>97964e7a9e8eb9cf78f2e4d7b2ff34c7</td>\n",
              "      <td>03:20</td>\n",
              "      <td>you?</td>\n",
              "    </tr>\n",
              "    <tr>\n",
              "      <th>...</th>\n",
              "      <td>...</td>\n",
              "      <td>...</td>\n",
              "      <td>...</td>\n",
              "      <td>...</td>\n",
              "      <td>...</td>\n",
              "    </tr>\n",
              "    <tr>\n",
              "      <th>57</th>\n",
              "      <td>e621da5de598c9321a1d505ea95e6a2d</td>\n",
              "      <td>58</td>\n",
              "      <td>97964e7a9e8eb9cf78f2e4d7b2ff34c7</td>\n",
              "      <td>03:37</td>\n",
              "      <td>I s&amp;amp;apos;pose.</td>\n",
              "    </tr>\n",
              "    <tr>\n",
              "      <th>58</th>\n",
              "      <td>e621da5de598c9321a1d505ea95e6a2d</td>\n",
              "      <td>59</td>\n",
              "      <td>97964e7a9e8eb9cf78f2e4d7b2ff34c7</td>\n",
              "      <td>03:37</td>\n",
              "      <td>It was a pleasure meeting you.</td>\n",
              "    </tr>\n",
              "    <tr>\n",
              "      <th>59</th>\n",
              "      <td>e621da5de598c9321a1d505ea95e6a2d</td>\n",
              "      <td>60</td>\n",
              "      <td>97964e7a9e8eb9cf78f2e4d7b2ff34c7</td>\n",
              "      <td>03:37</td>\n",
              "      <td>Happy chatting!</td>\n",
              "    </tr>\n",
              "    <tr>\n",
              "      <th>60</th>\n",
              "      <td>e621da5de598c9321a1d505ea95e6a2d</td>\n",
              "      <td>61</td>\n",
              "      <td>0158d0d6781fc4d493f243d4caa49747</td>\n",
              "      <td>03:38</td>\n",
              "      <td>You too!  Be safe!</td>\n",
              "    </tr>\n",
              "    <tr>\n",
              "      <th>61</th>\n",
              "      <td>e621da5de598c9321a1d505ea95e6a2d</td>\n",
              "      <td>62</td>\n",
              "      <td>0158d0d6781fc4d493f243d4caa49747</td>\n",
              "      <td>03:38</td>\n",
              "      <td>bye</td>\n",
              "    </tr>\n",
              "  </tbody>\n",
              "</table>\n",
              "<p>62 rows × 5 columns</p>\n",
              "</div>"
            ],
            "text/plain": [
              "                     conversation_id  ...                    chat_message\n",
              "0   e621da5de598c9321a1d505ea95e6a2d  ...                           Hola.\n",
              "1   e621da5de598c9321a1d505ea95e6a2d  ...                             hi.\n",
              "2   e621da5de598c9321a1d505ea95e6a2d  ...                       whats up?\n",
              "3   e621da5de598c9321a1d505ea95e6a2d  ...                      not a ton.\n",
              "4   e621da5de598c9321a1d505ea95e6a2d  ...                            you?\n",
              "..                               ...  ...                             ...\n",
              "57  e621da5de598c9321a1d505ea95e6a2d  ...              I s&amp;apos;pose.\n",
              "58  e621da5de598c9321a1d505ea95e6a2d  ...  It was a pleasure meeting you.\n",
              "59  e621da5de598c9321a1d505ea95e6a2d  ...                 Happy chatting!\n",
              "60  e621da5de598c9321a1d505ea95e6a2d  ...              You too!  Be safe!\n",
              "61  e621da5de598c9321a1d505ea95e6a2d  ...                             bye\n",
              "\n",
              "[62 rows x 5 columns]"
            ]
          },
          "metadata": {
            "tags": []
          },
          "execution_count": 130
        }
      ]
    },
    {
      "cell_type": "code",
      "metadata": {
        "id": "TXLc1QhyvvMP",
        "colab_type": "code",
        "colab": {
          "base_uri": "https://localhost:8080/",
          "height": 35
        },
        "outputId": "3c4b3609-6116-4db0-f299-00b3900b3116"
      },
      "source": [
        "len(tags_list)"
      ],
      "execution_count": 131,
      "outputs": [
        {
          "output_type": "execute_result",
          "data": {
            "text/plain": [
              "66927"
            ]
          },
          "metadata": {
            "tags": []
          },
          "execution_count": 131
        }
      ]
    },
    {
      "cell_type": "code",
      "metadata": {
        "id": "GhFvUrVWwLO6",
        "colab_type": "code",
        "colab": {
          "base_uri": "https://localhost:8080/",
          "height": 415
        },
        "outputId": "3e4bdbd0-c5f3-4d0c-f4b8-f64cfd04b58c"
      },
      "source": [
        "df3.index = range(0, df3.shape[0])\n",
        "df3"
      ],
      "execution_count": 132,
      "outputs": [
        {
          "output_type": "execute_result",
          "data": {
            "text/html": [
              "<div>\n",
              "<style scoped>\n",
              "    .dataframe tbody tr th:only-of-type {\n",
              "        vertical-align: middle;\n",
              "    }\n",
              "\n",
              "    .dataframe tbody tr th {\n",
              "        vertical-align: top;\n",
              "    }\n",
              "\n",
              "    .dataframe thead th {\n",
              "        text-align: right;\n",
              "    }\n",
              "</style>\n",
              "<table border=\"1\" class=\"dataframe\">\n",
              "  <thead>\n",
              "    <tr style=\"text-align: right;\">\n",
              "      <th></th>\n",
              "      <th>conversation_id</th>\n",
              "      <th>message_line</th>\n",
              "      <th>author</th>\n",
              "      <th>time</th>\n",
              "      <th>chat_message</th>\n",
              "    </tr>\n",
              "  </thead>\n",
              "  <tbody>\n",
              "    <tr>\n",
              "      <th>0</th>\n",
              "      <td>e621da5de598c9321a1d505ea95e6a2d</td>\n",
              "      <td>1</td>\n",
              "      <td>97964e7a9e8eb9cf78f2e4d7b2ff34c7</td>\n",
              "      <td>03:20</td>\n",
              "      <td>Hola.</td>\n",
              "    </tr>\n",
              "    <tr>\n",
              "      <th>1</th>\n",
              "      <td>e621da5de598c9321a1d505ea95e6a2d</td>\n",
              "      <td>2</td>\n",
              "      <td>0158d0d6781fc4d493f243d4caa49747</td>\n",
              "      <td>03:20</td>\n",
              "      <td>hi.</td>\n",
              "    </tr>\n",
              "    <tr>\n",
              "      <th>2</th>\n",
              "      <td>e621da5de598c9321a1d505ea95e6a2d</td>\n",
              "      <td>3</td>\n",
              "      <td>0158d0d6781fc4d493f243d4caa49747</td>\n",
              "      <td>03:20</td>\n",
              "      <td>whats up?</td>\n",
              "    </tr>\n",
              "    <tr>\n",
              "      <th>3</th>\n",
              "      <td>e621da5de598c9321a1d505ea95e6a2d</td>\n",
              "      <td>4</td>\n",
              "      <td>97964e7a9e8eb9cf78f2e4d7b2ff34c7</td>\n",
              "      <td>03:20</td>\n",
              "      <td>not a ton.</td>\n",
              "    </tr>\n",
              "    <tr>\n",
              "      <th>4</th>\n",
              "      <td>e621da5de598c9321a1d505ea95e6a2d</td>\n",
              "      <td>5</td>\n",
              "      <td>97964e7a9e8eb9cf78f2e4d7b2ff34c7</td>\n",
              "      <td>03:20</td>\n",
              "      <td>you?</td>\n",
              "    </tr>\n",
              "    <tr>\n",
              "      <th>...</th>\n",
              "      <td>...</td>\n",
              "      <td>...</td>\n",
              "      <td>...</td>\n",
              "      <td>...</td>\n",
              "      <td>...</td>\n",
              "    </tr>\n",
              "    <tr>\n",
              "      <th>60</th>\n",
              "      <td>e621da5de598c9321a1d505ea95e6a2d</td>\n",
              "      <td>61</td>\n",
              "      <td>0158d0d6781fc4d493f243d4caa49747</td>\n",
              "      <td>03:38</td>\n",
              "      <td>You too!  Be safe!</td>\n",
              "    </tr>\n",
              "    <tr>\n",
              "      <th>61</th>\n",
              "      <td>e621da5de598c9321a1d505ea95e6a2d</td>\n",
              "      <td>62</td>\n",
              "      <td>0158d0d6781fc4d493f243d4caa49747</td>\n",
              "      <td>03:38</td>\n",
              "      <td>bye</td>\n",
              "    </tr>\n",
              "    <tr>\n",
              "      <th>62</th>\n",
              "      <td>1f1298186cac7c8e97ec901f30aa47f4</td>\n",
              "      <td>1</td>\n",
              "      <td>ba209a914b0d43e49df90df597464589</td>\n",
              "      <td>14:36</td>\n",
              "      <td>asuu</td>\n",
              "    </tr>\n",
              "    <tr>\n",
              "      <th>63</th>\n",
              "      <td>1f1298186cac7c8e97ec901f30aa47f4</td>\n",
              "      <td>2</td>\n",
              "      <td>ba209a914b0d43e49df90df597464589</td>\n",
              "      <td>14:36</td>\n",
              "      <td>lonte koe</td>\n",
              "    </tr>\n",
              "    <tr>\n",
              "      <th>64</th>\n",
              "      <td>1f1298186cac7c8e97ec901f30aa47f4</td>\n",
              "      <td>3</td>\n",
              "      <td>ba209a914b0d43e49df90df597464589</td>\n",
              "      <td>14:36</td>\n",
              "      <td>hi</td>\n",
              "    </tr>\n",
              "  </tbody>\n",
              "</table>\n",
              "<p>65 rows × 5 columns</p>\n",
              "</div>"
            ],
            "text/plain": [
              "                     conversation_id message_line  ...   time        chat_message\n",
              "0   e621da5de598c9321a1d505ea95e6a2d            1  ...  03:20               Hola.\n",
              "1   e621da5de598c9321a1d505ea95e6a2d            2  ...  03:20                 hi.\n",
              "2   e621da5de598c9321a1d505ea95e6a2d            3  ...  03:20           whats up?\n",
              "3   e621da5de598c9321a1d505ea95e6a2d            4  ...  03:20          not a ton.\n",
              "4   e621da5de598c9321a1d505ea95e6a2d            5  ...  03:20                you?\n",
              "..                               ...          ...  ...    ...                 ...\n",
              "60  e621da5de598c9321a1d505ea95e6a2d           61  ...  03:38  You too!  Be safe!\n",
              "61  e621da5de598c9321a1d505ea95e6a2d           62  ...  03:38                 bye\n",
              "62  1f1298186cac7c8e97ec901f30aa47f4            1  ...  14:36                asuu\n",
              "63  1f1298186cac7c8e97ec901f30aa47f4            2  ...  14:36           lonte koe\n",
              "64  1f1298186cac7c8e97ec901f30aa47f4            3  ...  14:36                  hi\n",
              "\n",
              "[65 rows x 5 columns]"
            ]
          },
          "metadata": {
            "tags": []
          },
          "execution_count": 132
        }
      ]
    },
    {
      "cell_type": "code",
      "metadata": {
        "id": "o0jNE0ILuKjF",
        "colab_type": "code",
        "colab": {}
      },
      "source": [
        "def merge_dfs(tag_list):\n",
        "  df_list = []\n",
        "  for i in range(len(tag_list)):\n",
        "    df = create_df_from_tags(tags_list[i])\n",
        "    df_list.append(df)\n",
        "  \n",
        "  df_all = pd.concat(df_list, axis = 0)\n",
        "  df_all.index = range(0, df_all.shape[0])\n",
        "  return df_all"
      ],
      "execution_count": 133,
      "outputs": []
    },
    {
      "cell_type": "code",
      "metadata": {
        "id": "G1hCR6q9wbIh",
        "colab_type": "code",
        "colab": {}
      },
      "source": [
        "df_all = merge_dfs(tags_list)"
      ],
      "execution_count": 134,
      "outputs": []
    },
    {
      "cell_type": "code",
      "metadata": {
        "id": "RM5mM46Vwe9M",
        "colab_type": "code",
        "colab": {
          "base_uri": "https://localhost:8080/",
          "height": 35
        },
        "outputId": "cf45dca7-2706-4d7b-c471-9b5757d36ec9"
      },
      "source": [
        "df_all.shape"
      ],
      "execution_count": 135,
      "outputs": [
        {
          "output_type": "execute_result",
          "data": {
            "text/plain": [
              "(903607, 5)"
            ]
          },
          "metadata": {
            "tags": []
          },
          "execution_count": 135
        }
      ]
    },
    {
      "cell_type": "code",
      "metadata": {
        "id": "RbEpu3-VxEhy",
        "colab_type": "code",
        "colab": {
          "base_uri": "https://localhost:8080/",
          "height": 202
        },
        "outputId": "08b137d0-5f35-4fb6-f4b6-db22111266c8"
      },
      "source": [
        "df_all.tail()"
      ],
      "execution_count": 139,
      "outputs": [
        {
          "output_type": "execute_result",
          "data": {
            "text/html": [
              "<div>\n",
              "<style scoped>\n",
              "    .dataframe tbody tr th:only-of-type {\n",
              "        vertical-align: middle;\n",
              "    }\n",
              "\n",
              "    .dataframe tbody tr th {\n",
              "        vertical-align: top;\n",
              "    }\n",
              "\n",
              "    .dataframe thead th {\n",
              "        text-align: right;\n",
              "    }\n",
              "</style>\n",
              "<table border=\"1\" class=\"dataframe\">\n",
              "  <thead>\n",
              "    <tr style=\"text-align: right;\">\n",
              "      <th></th>\n",
              "      <th>conversation_id</th>\n",
              "      <th>message_line</th>\n",
              "      <th>author</th>\n",
              "      <th>time</th>\n",
              "      <th>chat_message</th>\n",
              "    </tr>\n",
              "  </thead>\n",
              "  <tbody>\n",
              "    <tr>\n",
              "      <th>903602</th>\n",
              "      <td>4ed6b02ae537fdfd6078597b706292a8</td>\n",
              "      <td>101</td>\n",
              "      <td>74bfc043bd5ce9c17b37ffae6e0ba2fa</td>\n",
              "      <td>22:36</td>\n",
              "      <td>oh ok</td>\n",
              "    </tr>\n",
              "    <tr>\n",
              "      <th>903603</th>\n",
              "      <td>4ed6b02ae537fdfd6078597b706292a8</td>\n",
              "      <td>102</td>\n",
              "      <td>8cd850ea4215ee7c4b94b6bcc0bae593</td>\n",
              "      <td>22:36</td>\n",
              "      <td>i will look for you tomorrow</td>\n",
              "    </tr>\n",
              "    <tr>\n",
              "      <th>903604</th>\n",
              "      <td>4ed6b02ae537fdfd6078597b706292a8</td>\n",
              "      <td>103</td>\n",
              "      <td>74bfc043bd5ce9c17b37ffae6e0ba2fa</td>\n",
              "      <td>22:36</td>\n",
              "      <td>ok</td>\n",
              "    </tr>\n",
              "    <tr>\n",
              "      <th>903605</th>\n",
              "      <td>4ed6b02ae537fdfd6078597b706292a8</td>\n",
              "      <td>104</td>\n",
              "      <td>8cd850ea4215ee7c4b94b6bcc0bae593</td>\n",
              "      <td>22:36</td>\n",
              "      <td>bye lissa</td>\n",
              "    </tr>\n",
              "    <tr>\n",
              "      <th>903606</th>\n",
              "      <td>4ed6b02ae537fdfd6078597b706292a8</td>\n",
              "      <td>105</td>\n",
              "      <td>74bfc043bd5ce9c17b37ffae6e0ba2fa</td>\n",
              "      <td>22:37</td>\n",
              "      <td>bye jake</td>\n",
              "    </tr>\n",
              "  </tbody>\n",
              "</table>\n",
              "</div>"
            ],
            "text/plain": [
              "                         conversation_id  ...                  chat_message\n",
              "903602  4ed6b02ae537fdfd6078597b706292a8  ...                         oh ok\n",
              "903603  4ed6b02ae537fdfd6078597b706292a8  ...  i will look for you tomorrow\n",
              "903604  4ed6b02ae537fdfd6078597b706292a8  ...                            ok\n",
              "903605  4ed6b02ae537fdfd6078597b706292a8  ...                     bye lissa\n",
              "903606  4ed6b02ae537fdfd6078597b706292a8  ...                      bye jake\n",
              "\n",
              "[5 rows x 5 columns]"
            ]
          },
          "metadata": {
            "tags": []
          },
          "execution_count": 139
        }
      ]
    },
    {
      "cell_type": "code",
      "metadata": {
        "id": "9Oh4T7HOxJmp",
        "colab_type": "code",
        "colab": {
          "base_uri": "https://localhost:8080/",
          "height": 1000
        },
        "outputId": "35679a55-b31d-4bd5-bc15-6977c0e4b308"
      },
      "source": [
        "tags_list[-1]"
      ],
      "execution_count": 138,
      "outputs": [
        {
          "output_type": "execute_result",
          "data": {
            "text/plain": [
              "<conversation id=\"4ed6b02ae537fdfd6078597b706292a8\">\n",
              "<message line=\"1\">\n",
              "<author>74bfc043bd5ce9c17b37ffae6e0ba2fa</author>\n",
              "<time>22:00</time>\n",
              "<text>hay remember me?</text>\n",
              "</message>\n",
              "<message line=\"2\">\n",
              "<author>8cd850ea4215ee7c4b94b6bcc0bae593</author>\n",
              "<time>22:01</time>\n",
              "<text>oh yeah, hi, how could i forget you</text>\n",
              "</message>\n",
              "<message line=\"3\">\n",
              "<author>74bfc043bd5ce9c17b37ffae6e0ba2fa</author>\n",
              "<time>22:01</time>\n",
              "<text>mom sux she grounded me for the entire vacation all cuz i broke grammas antique vase</text>\n",
              "</message>\n",
              "<message line=\"4\">\n",
              "<author>8cd850ea4215ee7c4b94b6bcc0bae593</author>\n",
              "<time>22:01</time>\n",
              "<text>i m sorry</text>\n",
              "</message>\n",
              "<message line=\"5\">\n",
              "<author>74bfc043bd5ce9c17b37ffae6e0ba2fa</author>\n",
              "<time>22:01</time>\n",
              "<text>itz ok</text>\n",
              "</message>\n",
              "<message line=\"6\">\n",
              "<author>8cd850ea4215ee7c4b94b6bcc0bae593</author>\n",
              "<time>22:02</time>\n",
              "<text>u still grounded?</text>\n",
              "</message>\n",
              "<message line=\"7\">\n",
              "<author>74bfc043bd5ce9c17b37ffae6e0ba2fa</author>\n",
              "<time>22:02</time>\n",
              "<text>no i'm off groundin</text>\n",
              "</message>\n",
              "<message line=\"8\">\n",
              "<author>8cd850ea4215ee7c4b94b6bcc0bae593</author>\n",
              "<time>22:02</time>\n",
              "<text>kewl, maybe we can hook up soon</text>\n",
              "</message>\n",
              "<message line=\"9\">\n",
              "<author>74bfc043bd5ce9c17b37ffae6e0ba2fa</author>\n",
              "<time>22:03</time>\n",
              "<text>yea that wud be kewl</text>\n",
              "</message>\n",
              "<message line=\"10\">\n",
              "<author>8cd850ea4215ee7c4b94b6bcc0bae593</author>\n",
              "<time>22:03</time>\n",
              "<text>can u call sometime soon?</text>\n",
              "</message>\n",
              "<message line=\"11\">\n",
              "<author>74bfc043bd5ce9c17b37ffae6e0ba2fa</author>\n",
              "<time>22:04</time>\n",
              "<text>i'll try but itz not safe tonite... moms sick n she's off work tonite</text>\n",
              "</message>\n",
              "<message line=\"12\">\n",
              "<author>74bfc043bd5ce9c17b37ffae6e0ba2fa</author>\n",
              "<time>22:04</time>\n",
              "<text>shes sleepin</text>\n",
              "</message>\n",
              "<message line=\"13\">\n",
              "<author>8cd850ea4215ee7c4b94b6bcc0bae593</author>\n",
              "<time>22:04</time>\n",
              "<text>ok</text>\n",
              "</message>\n",
              "<message line=\"14\">\n",
              "<author>74bfc043bd5ce9c17b37ffae6e0ba2fa</author>\n",
              "<time>22:04</time>\n",
              "<text>n she'd hear me</text>\n",
              "</message>\n",
              "<message line=\"15\">\n",
              "<author>8cd850ea4215ee7c4b94b6bcc0bae593</author>\n",
              "<time>22:04</time>\n",
              "<text>ok, maybe tomorrow?</text>\n",
              "</message>\n",
              "<message line=\"16\">\n",
              "<author>74bfc043bd5ce9c17b37ffae6e0ba2fa</author>\n",
              "<time>22:04</time>\n",
              "<text>i dont know i hope momz better by then</text>\n",
              "</message>\n",
              "<message line=\"17\">\n",
              "<author>8cd850ea4215ee7c4b94b6bcc0bae593</author>\n",
              "<time>22:05</time>\n",
              "<text>ya, me too</text>\n",
              "</message>\n",
              "<message line=\"18\">\n",
              "<author>74bfc043bd5ce9c17b37ffae6e0ba2fa</author>\n",
              "<time>22:05</time>\n",
              "<text>i cant help she is sick</text>\n",
              "</message>\n",
              "<message line=\"19\">\n",
              "<author>8cd850ea4215ee7c4b94b6bcc0bae593</author>\n",
              "<time>22:06</time>\n",
              "<text>i just hate for n e one to be sick, it sux</text>\n",
              "</message>\n",
              "<message line=\"20\">\n",
              "<author>74bfc043bd5ce9c17b37ffae6e0ba2fa</author>\n",
              "<time>22:06</time>\n",
              "<text>ya</text>\n",
              "</message>\n",
              "<message line=\"21\">\n",
              "<author>8cd850ea4215ee7c4b94b6bcc0bae593</author>\n",
              "<time>22:06</time>\n",
              "<text>then u might get it too</text>\n",
              "</message>\n",
              "<message line=\"22\">\n",
              "<author>74bfc043bd5ce9c17b37ffae6e0ba2fa</author>\n",
              "<time>22:07</time>\n",
              "<text>i hope not</text>\n",
              "</message>\n",
              "<message line=\"23\">\n",
              "<author>8cd850ea4215ee7c4b94b6bcc0bae593</author>\n",
              "<time>22:08</time>\n",
              "<text>me too</text>\n",
              "</message>\n",
              "<message line=\"24\">\n",
              "<author>74bfc043bd5ce9c17b37ffae6e0ba2fa</author>\n",
              "<time>22:08</time>\n",
              "<text>how wuz ur new years</text>\n",
              "</message>\n",
              "<message line=\"25\">\n",
              "<author>8cd850ea4215ee7c4b94b6bcc0bae593</author>\n",
              "<time>22:08</time>\n",
              "<text>it was ok</text>\n",
              "</message>\n",
              "<message line=\"26\">\n",
              "<author>8cd850ea4215ee7c4b94b6bcc0bae593</author>\n",
              "<time>22:08</time>\n",
              "<text>how was yours?</text>\n",
              "</message>\n",
              "<message line=\"27\">\n",
              "<author>74bfc043bd5ce9c17b37ffae6e0ba2fa</author>\n",
              "<time>22:09</time>\n",
              "<text>it wuz ok 2</text>\n",
              "</message>\n",
              "<message line=\"28\">\n",
              "<author>74bfc043bd5ce9c17b37ffae6e0ba2fa</author>\n",
              "<time>22:09</time>\n",
              "<text>i didnt get in ne more trouble</text>\n",
              "</message>\n",
              "<message line=\"29\">\n",
              "<author>8cd850ea4215ee7c4b94b6bcc0bae593</author>\n",
              "<time>22:09</time>\n",
              "<text>how did u do it in the first place?</text>\n",
              "</message>\n",
              "<message line=\"30\">\n",
              "<author>74bfc043bd5ce9c17b37ffae6e0ba2fa</author>\n",
              "<time>22:09</time>\n",
              "<text>my cousins were there 2</text>\n",
              "</message>\n",
              "<message line=\"31\">\n",
              "<author>74bfc043bd5ce9c17b37ffae6e0ba2fa</author>\n",
              "<time>22:10</time>\n",
              "<text>we were runnin around</text>\n",
              "</message>\n",
              "<message line=\"32\">\n",
              "<author>74bfc043bd5ce9c17b37ffae6e0ba2fa</author>\n",
              "<time>22:10</time>\n",
              "<text>and we bumped into the vase stand and it fell</text>\n",
              "</message>\n",
              "<message line=\"33\">\n",
              "<author>8cd850ea4215ee7c4b94b6bcc0bae593</author>\n",
              "<time>22:10</time>\n",
              "<text>just an accident</text>\n",
              "</message>\n",
              "<message line=\"34\">\n",
              "<author>74bfc043bd5ce9c17b37ffae6e0ba2fa</author>\n",
              "<time>22:10</time>\n",
              "<text>ya but i got in big trouble 4 runnin</text>\n",
              "</message>\n",
              "<message line=\"35\">\n",
              "<author>8cd850ea4215ee7c4b94b6bcc0bae593</author>\n",
              "<time>22:11</time>\n",
              "<text>ya, but at least u didnt do it on purpose</text>\n",
              "</message>\n",
              "<message line=\"36\">\n",
              "<author>74bfc043bd5ce9c17b37ffae6e0ba2fa</author>\n",
              "<time>22:11</time>\n",
              "<text>yea</text>\n",
              "</message>\n",
              "<message line=\"37\">\n",
              "<author>74bfc043bd5ce9c17b37ffae6e0ba2fa</author>\n",
              "<time>22:11</time>\n",
              "<text>i made gramma sad tho</text>\n",
              "</message>\n",
              "<message line=\"38\">\n",
              "<author>8cd850ea4215ee7c4b94b6bcc0bae593</author>\n",
              "<time>22:12</time>\n",
              "<text>i m sorry</text>\n",
              "</message>\n",
              "<message line=\"39\">\n",
              "<author>74bfc043bd5ce9c17b37ffae6e0ba2fa</author>\n",
              "<time>22:12</time>\n",
              "<text>itz ok</text>\n",
              "</message>\n",
              "<message line=\"40\">\n",
              "<author>8cd850ea4215ee7c4b94b6bcc0bae593</author>\n",
              "<time>22:13</time>\n",
              "<text>when u want to try to meet?</text>\n",
              "</message>\n",
              "<message line=\"41\">\n",
              "<author>74bfc043bd5ce9c17b37ffae6e0ba2fa</author>\n",
              "<time>22:13</time>\n",
              "<text>i dunno i gotta make sure moms not sick anymore</text>\n",
              "</message>\n",
              "<message line=\"42\">\n",
              "<author>8cd850ea4215ee7c4b94b6bcc0bae593</author>\n",
              "<time>22:14</time>\n",
              "<text>for sure</text>\n",
              "</message>\n",
              "<message line=\"43\">\n",
              "<author>74bfc043bd5ce9c17b37ffae6e0ba2fa</author>\n",
              "<time>22:14</time>\n",
              "<text>and i dunno how long shes gonna be sick</text>\n",
              "</message>\n",
              "<message line=\"44\">\n",
              "<author>74bfc043bd5ce9c17b37ffae6e0ba2fa</author>\n",
              "<time>22:14</time>\n",
              "<text>this is the 1st day ever she didnt go 2 work</text>\n",
              "</message>\n",
              "<message line=\"45\">\n",
              "<author>8cd850ea4215ee7c4b94b6bcc0bae593</author>\n",
              "<time>22:15</time>\n",
              "<text>where does she work?</text>\n",
              "</message>\n",
              "<message line=\"46\">\n",
              "<author>74bfc043bd5ce9c17b37ffae6e0ba2fa</author>\n",
              "<time>22:15</time>\n",
              "<text>she's a nurse</text>\n",
              "</message>\n",
              "<message line=\"47\">\n",
              "<author>8cd850ea4215ee7c4b94b6bcc0bae593</author>\n",
              "<time>22:15</time>\n",
              "<text>oh, ok</text>\n",
              "</message>\n",
              "<message line=\"48\">\n",
              "<author>8cd850ea4215ee7c4b94b6bcc0bae593</author>\n",
              "<time>22:16</time>\n",
              "<text>so it would have to be kinda late at nite?</text>\n",
              "</message>\n",
              "<message line=\"49\">\n",
              "<author>74bfc043bd5ce9c17b37ffae6e0ba2fa</author>\n",
              "<time>22:16</time>\n",
              "<text>it wud have to be when she's at work</text>\n",
              "</message>\n",
              "<message line=\"50\">\n",
              "<author>8cd850ea4215ee7c4b94b6bcc0bae593</author>\n",
              "<time>22:16</time>\n",
              "<text>and after she wont be calling to check on you</text>\n",
              "</message>\n",
              "<message line=\"51\">\n",
              "<author>74bfc043bd5ce9c17b37ffae6e0ba2fa</author>\n",
              "<time>22:17</time>\n",
              "<text>yea</text>\n",
              "</message>\n",
              "<message line=\"52\">\n",
              "<author>8cd850ea4215ee7c4b94b6bcc0bae593</author>\n",
              "<time>22:18</time>\n",
              "<text>like after 9 or 9:30?</text>\n",
              "</message>\n",
              "<message line=\"53\">\n",
              "<author>74bfc043bd5ce9c17b37ffae6e0ba2fa</author>\n",
              "<time>22:18</time>\n",
              "<text>yea</text>\n",
              "</message>\n",
              "<message line=\"54\">\n",
              "<author>8cd850ea4215ee7c4b94b6bcc0bae593</author>\n",
              "<time>22:18</time>\n",
              "<text>when do u need to be back in?</text>\n",
              "</message>\n",
              "<message line=\"55\">\n",
              "<author>74bfc043bd5ce9c17b37ffae6e0ba2fa</author>\n",
              "<time>22:19</time>\n",
              "<text>prolly by midnite</text>\n",
              "</message>\n",
              "<message line=\"56\">\n",
              "<author>8cd850ea4215ee7c4b94b6bcc0bae593</author>\n",
              "<time>22:19</time>\n",
              "<text>k</text>\n",
              "</message>\n",
              "<message line=\"57\">\n",
              "<author>8cd850ea4215ee7c4b94b6bcc0bae593</author>\n",
              "<time>22:20</time>\n",
              "<text>where u want to meet?</text>\n",
              "</message>\n",
              "<message line=\"58\">\n",
              "<author>74bfc043bd5ce9c17b37ffae6e0ba2fa</author>\n",
              "<time>22:21</time>\n",
              "<text>i dunno</text>\n",
              "</message>\n",
              "<message line=\"59\">\n",
              "<author>74bfc043bd5ce9c17b37ffae6e0ba2fa</author>\n",
              "<time>22:21</time>\n",
              "<text>where wud be good 4 u?</text>\n",
              "</message>\n",
              "<message line=\"60\">\n",
              "<author>8cd850ea4215ee7c4b94b6bcc0bae593</author>\n",
              "<time>22:21</time>\n",
              "<text>somewhere close to you</text>\n",
              "</message>\n",
              "<message line=\"61\">\n",
              "<author>74bfc043bd5ce9c17b37ffae6e0ba2fa</author>\n",
              "<time>22:22</time>\n",
              "<text>ok umm i gotta think on that</text>\n",
              "</message>\n",
              "<message line=\"62\">\n",
              "<author>8cd850ea4215ee7c4b94b6bcc0bae593</author>\n",
              "<time>22:22</time>\n",
              "<text>ok</text>\n",
              "</message>\n",
              "<message line=\"63\">\n",
              "<author>74bfc043bd5ce9c17b37ffae6e0ba2fa</author>\n",
              "<time>22:23</time>\n",
              "<text>wat wud we do when we meet?</text>\n",
              "</message>\n",
              "<message line=\"64\">\n",
              "<author>8cd850ea4215ee7c4b94b6bcc0bae593</author>\n",
              "<time>22:24</time>\n",
              "<text>talk i guess</text>\n",
              "</message>\n",
              "<message line=\"65\">\n",
              "<author>74bfc043bd5ce9c17b37ffae6e0ba2fa</author>\n",
              "<time>22:24</time>\n",
              "<text>kewl wat about?</text>\n",
              "</message>\n",
              "<message line=\"66\">\n",
              "<author>8cd850ea4215ee7c4b94b6bcc0bae593</author>\n",
              "<time>22:24</time>\n",
              "<text>whatever, just get to know each other and see where it goes</text>\n",
              "</message>\n",
              "<message line=\"67\">\n",
              "<author>74bfc043bd5ce9c17b37ffae6e0ba2fa</author>\n",
              "<time>22:24</time>\n",
              "<text>kewl</text>\n",
              "</message>\n",
              "<message line=\"68\">\n",
              "<author>8cd850ea4215ee7c4b94b6bcc0bae593</author>\n",
              "<time>22:25</time>\n",
              "<text>maybe u wont like me at all</text>\n",
              "</message>\n",
              "<message line=\"69\">\n",
              "<author>74bfc043bd5ce9c17b37ffae6e0ba2fa</author>\n",
              "<time>22:25</time>\n",
              "<text>how cud i not like u</text>\n",
              "</message>\n",
              "<message line=\"70\">\n",
              "<author>8cd850ea4215ee7c4b94b6bcc0bae593</author>\n",
              "<time>22:25</time>\n",
              "<text>u just never know till u meet 4 real</text>\n",
              "</message>\n",
              "<message line=\"71\">\n",
              "<author>74bfc043bd5ce9c17b37ffae6e0ba2fa</author>\n",
              "<time>22:26</time>\n",
              "<text>but y wud u say i mite not like u?</text>\n",
              "</message>\n",
              "<message line=\"72\">\n",
              "<author>8cd850ea4215ee7c4b94b6bcc0bae593</author>\n",
              "<time>22:26</time>\n",
              "<text>dont know, maybe by now you have another bf</text>\n",
              "</message>\n",
              "<message line=\"73\">\n",
              "<author>74bfc043bd5ce9c17b37ffae6e0ba2fa</author>\n",
              "<time>22:26</time>\n",
              "<text>nah</text>\n",
              "</message>\n",
              "<message line=\"74\">\n",
              "<author>74bfc043bd5ce9c17b37ffae6e0ba2fa</author>\n",
              "<time>22:27</time>\n",
              "<text>i dont have another bf</text>\n",
              "</message>\n",
              "<message line=\"75\">\n",
              "<author>8cd850ea4215ee7c4b94b6bcc0bae593</author>\n",
              "<time>22:27</time>\n",
              "<text>maybe u want someone closer to your age</text>\n",
              "</message>\n",
              "<message line=\"76\">\n",
              "<author>74bfc043bd5ce9c17b37ffae6e0ba2fa</author>\n",
              "<time>22:28</time>\n",
              "<text>nah guys my age r dumb</text>\n",
              "</message>\n",
              "<message line=\"77\">\n",
              "<author>74bfc043bd5ce9c17b37ffae6e0ba2fa</author>\n",
              "<time>22:29</time>\n",
              "<text>how old r u 4 real</text>\n",
              "</message>\n",
              "<message line=\"78\">\n",
              "<author>8cd850ea4215ee7c4b94b6bcc0bae593</author>\n",
              "<time>22:29</time>\n",
              "<text>older than your mom</text>\n",
              "</message>\n",
              "<message line=\"79\">\n",
              "<author>74bfc043bd5ce9c17b37ffae6e0ba2fa</author>\n",
              "<time>22:29</time>\n",
              "<text>thats kewl</text>\n",
              "</message>\n",
              "<message line=\"80\">\n",
              "<author>74bfc043bd5ce9c17b37ffae6e0ba2fa</author>\n",
              "<time>22:29</time>\n",
              "<text>i dont care</text>\n",
              "</message>\n",
              "<message line=\"81\">\n",
              "<author>8cd850ea4215ee7c4b94b6bcc0bae593</author>\n",
              "<time>22:29</time>\n",
              "<text>really?</text>\n",
              "</message>\n",
              "<message line=\"82\">\n",
              "<author>74bfc043bd5ce9c17b37ffae6e0ba2fa</author>\n",
              "<time>22:30</time>\n",
              "<text>ya i dont care ur my friend</text>\n",
              "</message>\n",
              "<message line=\"83\">\n",
              "<author>8cd850ea4215ee7c4b94b6bcc0bae593</author>\n",
              "<time>22:31</time>\n",
              "<text>u ever do stuff with an older guy b 4?</text>\n",
              "</message>\n",
              "<message line=\"84\">\n",
              "<author>74bfc043bd5ce9c17b37ffae6e0ba2fa</author>\n",
              "<time>22:31</time>\n",
              "<text>yea once</text>\n",
              "</message>\n",
              "<message line=\"85\">\n",
              "<author>74bfc043bd5ce9c17b37ffae6e0ba2fa</author>\n",
              "<time>22:31</time>\n",
              "<text>my bf was older than me he wuz 21 remember</text>\n",
              "</message>\n",
              "<message line=\"86\">\n",
              "<author>8cd850ea4215ee7c4b94b6bcc0bae593</author>\n",
              "<time>22:32</time>\n",
              "<text>ya, but not in his 40's</text>\n",
              "</message>\n",
              "<message line=\"87\">\n",
              "<author>74bfc043bd5ce9c17b37ffae6e0ba2fa</author>\n",
              "<time>22:32</time>\n",
              "<text>thats ok</text>\n",
              "</message>\n",
              "<message line=\"88\">\n",
              "<author>74bfc043bd5ce9c17b37ffae6e0ba2fa</author>\n",
              "<time>22:32</time>\n",
              "<text>i dont mind really</text>\n",
              "</message>\n",
              "<message line=\"89\">\n",
              "<author>8cd850ea4215ee7c4b94b6bcc0bae593</author>\n",
              "<time>22:32</time>\n",
              "<text>ok, call me when u can</text>\n",
              "</message>\n",
              "<message line=\"90\">\n",
              "<author>74bfc043bd5ce9c17b37ffae6e0ba2fa</author>\n",
              "<time>22:33</time>\n",
              "<text>i will</text>\n",
              "</message>\n",
              "<message line=\"91\">\n",
              "<author>74bfc043bd5ce9c17b37ffae6e0ba2fa</author>\n",
              "<time>22:33</time>\n",
              "<text>i promise</text>\n",
              "</message>\n",
              "<message line=\"92\">\n",
              "<author>8cd850ea4215ee7c4b94b6bcc0bae593</author>\n",
              "<time>22:33</time>\n",
              "<text>ok</text>\n",
              "</message>\n",
              "<message line=\"93\">\n",
              "<author>74bfc043bd5ce9c17b37ffae6e0ba2fa</author>\n",
              "<time>22:34</time>\n",
              "<text>u really dont mind that i'm 13 rite?</text>\n",
              "</message>\n",
              "<message line=\"94\">\n",
              "<author>8cd850ea4215ee7c4b94b6bcc0bae593</author>\n",
              "<time>22:35</time>\n",
              "<text>no, not at all</text>\n",
              "</message>\n",
              "<message line=\"95\">\n",
              "<author>74bfc043bd5ce9c17b37ffae6e0ba2fa</author>\n",
              "<time>22:35</time>\n",
              "<text>kewl</text>\n",
              "</message>\n",
              "<message line=\"96\">\n",
              "<author>8cd850ea4215ee7c4b94b6bcc0bae593</author>\n",
              "<time>22:35</time>\n",
              "<text>hey, i gtg, i got a call</text>\n",
              "</message>\n",
              "<message line=\"97\">\n",
              "<author>74bfc043bd5ce9c17b37ffae6e0ba2fa</author>\n",
              "<time>22:35</time>\n",
              "<text>who's callin u?</text>\n",
              "</message>\n",
              "<message line=\"98\">\n",
              "<author>8cd850ea4215ee7c4b94b6bcc0bae593</author>\n",
              "<time>22:35</time>\n",
              "<text>will u be on tomorrow?</text>\n",
              "</message>\n",
              "<message line=\"99\">\n",
              "<author>74bfc043bd5ce9c17b37ffae6e0ba2fa</author>\n",
              "<time>22:36</time>\n",
              "<text>prolly i dont know</text>\n",
              "</message>\n",
              "<message line=\"100\">\n",
              "<author>8cd850ea4215ee7c4b94b6bcc0bae593</author>\n",
              "<time>22:36</time>\n",
              "<text>a friend that is stuck</text>\n",
              "</message>\n",
              "<message line=\"101\">\n",
              "<author>74bfc043bd5ce9c17b37ffae6e0ba2fa</author>\n",
              "<time>22:36</time>\n",
              "<text>oh ok</text>\n",
              "</message>\n",
              "<message line=\"102\">\n",
              "<author>8cd850ea4215ee7c4b94b6bcc0bae593</author>\n",
              "<time>22:36</time>\n",
              "<text>i will look for you tomorrow</text>\n",
              "</message>\n",
              "<message line=\"103\">\n",
              "<author>74bfc043bd5ce9c17b37ffae6e0ba2fa</author>\n",
              "<time>22:36</time>\n",
              "<text>ok</text>\n",
              "</message>\n",
              "<message line=\"104\">\n",
              "<author>8cd850ea4215ee7c4b94b6bcc0bae593</author>\n",
              "<time>22:36</time>\n",
              "<text>bye lissa</text>\n",
              "</message>\n",
              "<message line=\"105\">\n",
              "<author>74bfc043bd5ce9c17b37ffae6e0ba2fa</author>\n",
              "<time>22:37</time>\n",
              "<text>bye jake</text>\n",
              "</message>\n",
              "</conversation>"
            ]
          },
          "metadata": {
            "tags": []
          },
          "execution_count": 138
        }
      ]
    },
    {
      "cell_type": "code",
      "metadata": {
        "id": "DGMrH-GvxHYs",
        "colab_type": "code",
        "colab": {}
      },
      "source": [
        "#df_all.to_csv('spi_train.csv', index = False)"
      ],
      "execution_count": 140,
      "outputs": []
    },
    {
      "cell_type": "code",
      "metadata": {
        "id": "i936Uv15xryp",
        "colab_type": "code",
        "colab": {
          "base_uri": "https://localhost:8080/",
          "height": 35
        },
        "outputId": "47ffbc27-04b3-4978-b468-5049c405a067"
      },
      "source": [
        "spi_train = pd.read_csv('spi_train.csv')\n",
        "spi_train.shape"
      ],
      "execution_count": 141,
      "outputs": [
        {
          "output_type": "execute_result",
          "data": {
            "text/plain": [
              "(903607, 5)"
            ]
          },
          "metadata": {
            "tags": []
          },
          "execution_count": 141
        }
      ]
    },
    {
      "cell_type": "code",
      "metadata": {
        "id": "DBWwWbMVxxhU",
        "colab_type": "code",
        "colab": {
          "base_uri": "https://localhost:8080/",
          "height": 202
        },
        "outputId": "aa456de7-0834-4262-f9a1-244861b5ded0"
      },
      "source": [
        "spi_train.head()"
      ],
      "execution_count": 142,
      "outputs": [
        {
          "output_type": "execute_result",
          "data": {
            "text/html": [
              "<div>\n",
              "<style scoped>\n",
              "    .dataframe tbody tr th:only-of-type {\n",
              "        vertical-align: middle;\n",
              "    }\n",
              "\n",
              "    .dataframe tbody tr th {\n",
              "        vertical-align: top;\n",
              "    }\n",
              "\n",
              "    .dataframe thead th {\n",
              "        text-align: right;\n",
              "    }\n",
              "</style>\n",
              "<table border=\"1\" class=\"dataframe\">\n",
              "  <thead>\n",
              "    <tr style=\"text-align: right;\">\n",
              "      <th></th>\n",
              "      <th>conversation_id</th>\n",
              "      <th>message_line</th>\n",
              "      <th>author</th>\n",
              "      <th>time</th>\n",
              "      <th>chat_message</th>\n",
              "    </tr>\n",
              "  </thead>\n",
              "  <tbody>\n",
              "    <tr>\n",
              "      <th>0</th>\n",
              "      <td>e621da5de598c9321a1d505ea95e6a2d</td>\n",
              "      <td>1</td>\n",
              "      <td>97964e7a9e8eb9cf78f2e4d7b2ff34c7</td>\n",
              "      <td>03:20</td>\n",
              "      <td>Hola.</td>\n",
              "    </tr>\n",
              "    <tr>\n",
              "      <th>1</th>\n",
              "      <td>e621da5de598c9321a1d505ea95e6a2d</td>\n",
              "      <td>2</td>\n",
              "      <td>0158d0d6781fc4d493f243d4caa49747</td>\n",
              "      <td>03:20</td>\n",
              "      <td>hi.</td>\n",
              "    </tr>\n",
              "    <tr>\n",
              "      <th>2</th>\n",
              "      <td>e621da5de598c9321a1d505ea95e6a2d</td>\n",
              "      <td>3</td>\n",
              "      <td>0158d0d6781fc4d493f243d4caa49747</td>\n",
              "      <td>03:20</td>\n",
              "      <td>whats up?</td>\n",
              "    </tr>\n",
              "    <tr>\n",
              "      <th>3</th>\n",
              "      <td>e621da5de598c9321a1d505ea95e6a2d</td>\n",
              "      <td>4</td>\n",
              "      <td>97964e7a9e8eb9cf78f2e4d7b2ff34c7</td>\n",
              "      <td>03:20</td>\n",
              "      <td>not a ton.</td>\n",
              "    </tr>\n",
              "    <tr>\n",
              "      <th>4</th>\n",
              "      <td>e621da5de598c9321a1d505ea95e6a2d</td>\n",
              "      <td>5</td>\n",
              "      <td>97964e7a9e8eb9cf78f2e4d7b2ff34c7</td>\n",
              "      <td>03:20</td>\n",
              "      <td>you?</td>\n",
              "    </tr>\n",
              "  </tbody>\n",
              "</table>\n",
              "</div>"
            ],
            "text/plain": [
              "                    conversation_id  message_line  ...   time chat_message\n",
              "0  e621da5de598c9321a1d505ea95e6a2d             1  ...  03:20        Hola.\n",
              "1  e621da5de598c9321a1d505ea95e6a2d             2  ...  03:20          hi.\n",
              "2  e621da5de598c9321a1d505ea95e6a2d             3  ...  03:20    whats up?\n",
              "3  e621da5de598c9321a1d505ea95e6a2d             4  ...  03:20   not a ton.\n",
              "4  e621da5de598c9321a1d505ea95e6a2d             5  ...  03:20         you?\n",
              "\n",
              "[5 rows x 5 columns]"
            ]
          },
          "metadata": {
            "tags": []
          },
          "execution_count": 142
        }
      ]
    },
    {
      "cell_type": "code",
      "metadata": {
        "id": "umhd_QNLxzy1",
        "colab_type": "code",
        "colab": {
          "base_uri": "https://localhost:8080/",
          "height": 202
        },
        "outputId": "c6b8fbb2-749d-4622-d268-6f93c23a5e92"
      },
      "source": [
        "spi_train.tail()"
      ],
      "execution_count": 143,
      "outputs": [
        {
          "output_type": "execute_result",
          "data": {
            "text/html": [
              "<div>\n",
              "<style scoped>\n",
              "    .dataframe tbody tr th:only-of-type {\n",
              "        vertical-align: middle;\n",
              "    }\n",
              "\n",
              "    .dataframe tbody tr th {\n",
              "        vertical-align: top;\n",
              "    }\n",
              "\n",
              "    .dataframe thead th {\n",
              "        text-align: right;\n",
              "    }\n",
              "</style>\n",
              "<table border=\"1\" class=\"dataframe\">\n",
              "  <thead>\n",
              "    <tr style=\"text-align: right;\">\n",
              "      <th></th>\n",
              "      <th>conversation_id</th>\n",
              "      <th>message_line</th>\n",
              "      <th>author</th>\n",
              "      <th>time</th>\n",
              "      <th>chat_message</th>\n",
              "    </tr>\n",
              "  </thead>\n",
              "  <tbody>\n",
              "    <tr>\n",
              "      <th>903602</th>\n",
              "      <td>4ed6b02ae537fdfd6078597b706292a8</td>\n",
              "      <td>101</td>\n",
              "      <td>74bfc043bd5ce9c17b37ffae6e0ba2fa</td>\n",
              "      <td>22:36</td>\n",
              "      <td>oh ok</td>\n",
              "    </tr>\n",
              "    <tr>\n",
              "      <th>903603</th>\n",
              "      <td>4ed6b02ae537fdfd6078597b706292a8</td>\n",
              "      <td>102</td>\n",
              "      <td>8cd850ea4215ee7c4b94b6bcc0bae593</td>\n",
              "      <td>22:36</td>\n",
              "      <td>i will look for you tomorrow</td>\n",
              "    </tr>\n",
              "    <tr>\n",
              "      <th>903604</th>\n",
              "      <td>4ed6b02ae537fdfd6078597b706292a8</td>\n",
              "      <td>103</td>\n",
              "      <td>74bfc043bd5ce9c17b37ffae6e0ba2fa</td>\n",
              "      <td>22:36</td>\n",
              "      <td>ok</td>\n",
              "    </tr>\n",
              "    <tr>\n",
              "      <th>903605</th>\n",
              "      <td>4ed6b02ae537fdfd6078597b706292a8</td>\n",
              "      <td>104</td>\n",
              "      <td>8cd850ea4215ee7c4b94b6bcc0bae593</td>\n",
              "      <td>22:36</td>\n",
              "      <td>bye lissa</td>\n",
              "    </tr>\n",
              "    <tr>\n",
              "      <th>903606</th>\n",
              "      <td>4ed6b02ae537fdfd6078597b706292a8</td>\n",
              "      <td>105</td>\n",
              "      <td>74bfc043bd5ce9c17b37ffae6e0ba2fa</td>\n",
              "      <td>22:37</td>\n",
              "      <td>bye jake</td>\n",
              "    </tr>\n",
              "  </tbody>\n",
              "</table>\n",
              "</div>"
            ],
            "text/plain": [
              "                         conversation_id  ...                  chat_message\n",
              "903602  4ed6b02ae537fdfd6078597b706292a8  ...                         oh ok\n",
              "903603  4ed6b02ae537fdfd6078597b706292a8  ...  i will look for you tomorrow\n",
              "903604  4ed6b02ae537fdfd6078597b706292a8  ...                            ok\n",
              "903605  4ed6b02ae537fdfd6078597b706292a8  ...                     bye lissa\n",
              "903606  4ed6b02ae537fdfd6078597b706292a8  ...                      bye jake\n",
              "\n",
              "[5 rows x 5 columns]"
            ]
          },
          "metadata": {
            "tags": []
          },
          "execution_count": 143
        }
      ]
    },
    {
      "cell_type": "code",
      "metadata": {
        "id": "k6uRozG1zKkb",
        "colab_type": "code",
        "colab": {}
      },
      "source": [
        ""
      ],
      "execution_count": null,
      "outputs": []
    }
  ]
}